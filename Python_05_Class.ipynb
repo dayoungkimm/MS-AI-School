{
  "nbformat": 4,
  "nbformat_minor": 0,
  "metadata": {
    "colab": {
      "provenance": [],
      "authorship_tag": "ABX9TyMrlIuXaiTpTtfNO+cFCPdp",
      "include_colab_link": true
    },
    "kernelspec": {
      "name": "python3",
      "display_name": "Python 3"
    },
    "language_info": {
      "name": "python"
    }
  },
  "cells": [
    {
      "cell_type": "markdown",
      "metadata": {
        "id": "view-in-github",
        "colab_type": "text"
      },
      "source": [
        "<a href=\"https://colab.research.google.com/github/dayoungkimm/MS-AI-School/blob/main/Python_05_Class.ipynb\" target=\"_parent\"><img src=\"https://colab.research.google.com/assets/colab-badge.svg\" alt=\"Open In Colab\"/></a>"
      ]
    },
    {
      "cell_type": "markdown",
      "source": [
        "###1. Class의 사용법"
      ],
      "metadata": {
        "id": "K7Em7OCJdZgE"
      }
    },
    {
      "cell_type": "code",
      "execution_count": 72,
      "metadata": {
        "id": "2DbQBCYvc4Lw"
      },
      "outputs": [],
      "source": [
        "class Myclass:\n",
        "  pass            #안의 내용을 하나도 구현을 하지 않았을 때 (빈 클래스들 구조를 만들어 놓기)"
      ]
    },
    {
      "cell_type": "code",
      "source": [
        "print(Myclass)\n",
        "print(id(Myclass))"
      ],
      "metadata": {
        "colab": {
          "base_uri": "https://localhost:8080/"
        },
        "id": "9k4UpTgUdn7x",
        "outputId": "72b784eb-ddfc-4367-ef81-8e2cc2a99439"
      },
      "execution_count": 73,
      "outputs": [
        {
          "output_type": "stream",
          "name": "stdout",
          "text": [
            "<class '__main__.Myclass'>\n",
            "27073536\n"
          ]
        }
      ]
    },
    {
      "cell_type": "code",
      "source": [
        "class Person:\n",
        "  Name = 'Default Name'\n",
        "\n",
        "  def Print(self):              #self: 이 method가 class에 들어있는 것이다./ 자기 스스로 #class에 속해 있는 method는 대문자로!\n",
        "    print('My Name is {0}',format(self.Name))"
      ],
      "metadata": {
        "id": "nTAischxdp9D"
      },
      "execution_count": 74,
      "outputs": []
    },
    {
      "cell_type": "markdown",
      "source": [
        "###2. Instance를 만드는 방법"
      ],
      "metadata": {
        "id": "CUJFexGfeTbI"
      }
    },
    {
      "cell_type": "code",
      "source": [
        "p1 = Person()"
      ],
      "metadata": {
        "id": "_oLgx2uueS01"
      },
      "execution_count": 75,
      "outputs": []
    },
    {
      "cell_type": "code",
      "source": [
        "p1.Name = '윤하'\n",
        "p1.Print()"
      ],
      "metadata": {
        "colab": {
          "base_uri": "https://localhost:8080/"
        },
        "id": "IKpe__dAeZVH",
        "outputId": "1b1d1ad4-5c07-4605-c4bb-e614a4d3ce6d"
      },
      "execution_count": 76,
      "outputs": [
        {
          "output_type": "stream",
          "name": "stdout",
          "text": [
            "My Name is {0} 윤하\n"
          ]
        }
      ]
    },
    {
      "cell_type": "code",
      "source": [
        "p1 = Person()\n",
        "p2 = Person()"
      ],
      "metadata": {
        "id": "UUl-SofMedDU"
      },
      "execution_count": 77,
      "outputs": []
    },
    {
      "cell_type": "code",
      "source": [
        "p1.Name = '김다영'\n",
        "p2.Name = '김민아'\n",
        "p1.Print()\n",
        "p2.Print()"
      ],
      "metadata": {
        "colab": {
          "base_uri": "https://localhost:8080/"
        },
        "id": "ICC6IpIIegmq",
        "outputId": "88ea1f2a-128c-4e87-b720-afb1171ae531"
      },
      "execution_count": 78,
      "outputs": [
        {
          "output_type": "stream",
          "name": "stdout",
          "text": [
            "My Name is {0} 김다영\n",
            "My Name is {0} 김민아\n"
          ]
        }
      ]
    },
    {
      "cell_type": "markdown",
      "source": [
        "###3. Class 속성 추가, 수정"
      ],
      "metadata": {
        "id": "2aWVTBKweprs"
      }
    },
    {
      "cell_type": "code",
      "source": [
        "Person.Title = 'New Title'      #Person 클래스에 Title이라는 새로운 속성이 추가됨"
      ],
      "metadata": {
        "id": "XHCRvWcUem_z"
      },
      "execution_count": 79,
      "outputs": []
    },
    {
      "cell_type": "code",
      "source": [
        "print(p1.Title)                 #클래스를 수정하면 모든 객체에 영향을 줌\n",
        "print(p2.Title)"
      ],
      "metadata": {
        "colab": {
          "base_uri": "https://localhost:8080/"
        },
        "id": "X2KJj99ke2uk",
        "outputId": "9121b3ab-0580-4518-b4ba-d0b7ac767350"
      },
      "execution_count": 80,
      "outputs": [
        {
          "output_type": "stream",
          "name": "stdout",
          "text": [
            "New Title\n",
            "New Title\n"
          ]
        }
      ]
    },
    {
      "cell_type": "code",
      "source": [
        "p1.Age = 27                     #p1에 Age라는 새로운 속성이 추가됨"
      ],
      "metadata": {
        "id": "lLgJrmgee8Vi"
      },
      "execution_count": 81,
      "outputs": []
    },
    {
      "cell_type": "code",
      "source": [
        "print(p1.Age)\n",
        "#print(p2.Age)                  #p1에만 Age 추가되었기 때문에 p2에는 영향 주지 않음"
      ],
      "metadata": {
        "colab": {
          "base_uri": "https://localhost:8080/"
        },
        "id": "oNOu3BbyfGM3",
        "outputId": "75d78428-924b-4ba1-e52a-50c8c06b6032"
      },
      "execution_count": 82,
      "outputs": [
        {
          "output_type": "stream",
          "name": "stdout",
          "text": [
            "27\n"
          ]
        }
      ]
    },
    {
      "cell_type": "markdown",
      "source": [
        "###4. Class의 상속"
      ],
      "metadata": {
        "id": "jdbq6X9wfRwa"
      }
    },
    {
      "cell_type": "code",
      "source": [
        "class Person:\n",
        "  pass"
      ],
      "metadata": {
        "id": "SScd5fT7fJoz"
      },
      "execution_count": 83,
      "outputs": []
    },
    {
      "cell_type": "code",
      "source": [
        "class Student(Person):          #Student 클래스는 Person 클래스를 상속받아서 생성된다.\n",
        "  pass"
      ],
      "metadata": {
        "id": "OdOIxGkRfVjn"
      },
      "execution_count": 84,
      "outputs": []
    },
    {
      "cell_type": "code",
      "source": [
        "class Bird:\n",
        "  pass"
      ],
      "metadata": {
        "id": "1r2_kxerfeVB"
      },
      "execution_count": 85,
      "outputs": []
    },
    {
      "cell_type": "code",
      "source": [
        "p=Person()\n",
        "s=Student()"
      ],
      "metadata": {
        "id": "p4Kae2x9fgkL"
      },
      "execution_count": 86,
      "outputs": []
    },
    {
      "cell_type": "markdown",
      "source": [
        "###5. isinstance 인스턴스 관계를 확인하는 함수"
      ],
      "metadata": {
        "id": "VfG9Un3lfj8Z"
      }
    },
    {
      "cell_type": "code",
      "source": [
        "isinstance(p, Person)     #p는 Person으로 만든 instance가 맞는가\n",
        "isinstance(s, Person)     #상속관계에 있으면 true로 인정해준다\n",
        "isinstance(s, object)     #파이썬 상태에 있는 모든 class는 object에사 상속되었다.\n",
        "isinstance(int, object)   #int 정수형도 object에서 상속된 하나의 class"
      ],
      "metadata": {
        "colab": {
          "base_uri": "https://localhost:8080/"
        },
        "id": "n-azWDQ1fjVc",
        "outputId": "717eb15f-96bb-426f-8b74-c51c65a500e9"
      },
      "execution_count": 87,
      "outputs": [
        {
          "output_type": "execute_result",
          "data": {
            "text/plain": [
              "True"
            ]
          },
          "metadata": {},
          "execution_count": 87
        }
      ]
    },
    {
      "cell_type": "markdown",
      "source": [
        "###6. 생성자(class가 생성될 때 발생하는 메소드)/ 소멸자(소멸될 때 발생하는 메소드)\n",
        "\n",
        "\n",
        "\n"
      ],
      "metadata": {
        "id": "pFxOV3cVgKI4"
      }
    },
    {
      "cell_type": "code",
      "source": [
        "class Myclass:\n",
        "  def __init__(self):       #생성자\n",
        "    print('class is created')"
      ],
      "metadata": {
        "id": "1q2UJvD6gHjt"
      },
      "execution_count": 88,
      "outputs": []
    },
    {
      "cell_type": "code",
      "source": [
        "my = Myclass()"
      ],
      "metadata": {
        "colab": {
          "base_uri": "https://localhost:8080/"
        },
        "id": "QI5CDmc8gpQP",
        "outputId": "2b863ca1-6103-444f-baf4-42a91074cf9a"
      },
      "execution_count": 89,
      "outputs": [
        {
          "output_type": "stream",
          "name": "stdout",
          "text": [
            "class is created\n"
          ]
        }
      ]
    },
    {
      "cell_type": "code",
      "source": [
        "del my      #class my 삭제"
      ],
      "metadata": {
        "id": "G9qQSJu0gzEO"
      },
      "execution_count": 90,
      "outputs": []
    },
    {
      "cell_type": "code",
      "source": [
        "class Person:\n",
        "  Name = ''\n",
        "  def __init__(self,name):\n",
        "    self.Name = name\n",
        "  def PrintName(self):\n",
        "    print(self.Name)"
      ],
      "metadata": {
        "id": "qbAAICNbg16k"
      },
      "execution_count": 91,
      "outputs": []
    },
    {
      "cell_type": "code",
      "source": [
        "p = Person('김다영')        #생성자에서 name까지 지정해줬기 때문에 이름까지 지정해줘야함\n",
        "p.PrintName()"
      ],
      "metadata": {
        "colab": {
          "base_uri": "https://localhost:8080/"
        },
        "id": "mqCxU7_Ohh1X",
        "outputId": "2c2280c8-6a18-4970-d9d5-156cf9bdeecf"
      },
      "execution_count": 92,
      "outputs": [
        {
          "output_type": "stream",
          "name": "stdout",
          "text": [
            "김다영\n"
          ]
        }
      ]
    },
    {
      "cell_type": "code",
      "source": [
        "class Person:\n",
        "  Name =''\n",
        "  Age = 0\n",
        "  def __init__(self, name, age):\n",
        "    self.Name= name\n",
        "    self.Age= age\n",
        "  def PrintName(self):\n",
        "    print(self.Name)\n",
        "    print(self.Age)"
      ],
      "metadata": {
        "id": "kdKoIa64hmSJ"
      },
      "execution_count": 93,
      "outputs": []
    },
    {
      "cell_type": "code",
      "source": [
        "p= Person('김다영', 27)\n",
        "p.PrintName()"
      ],
      "metadata": {
        "colab": {
          "base_uri": "https://localhost:8080/"
        },
        "id": "lVbXW_ZXh_zQ",
        "outputId": "38bd638e-da8f-442c-8e2a-0b00bb42dedb"
      },
      "execution_count": 94,
      "outputs": [
        {
          "output_type": "stream",
          "name": "stdout",
          "text": [
            "김다영\n",
            "27\n"
          ]
        }
      ]
    },
    {
      "cell_type": "code",
      "source": [
        "#소멸자\n",
        "class Person:\n",
        "  Name = ''\n",
        "  Age = 0\n",
        "\n",
        "  def __init__(self,name, age):\n",
        "     self.Name = name\n",
        "     self.Age = age\n",
        "  def __del__(self):                  #소멸자\n",
        "    print('{0} 안녕'.format(self.Name))\n",
        "\n",
        "  def PrintName(self):\n",
        "    print(self.Name)\n",
        "    print(self.Age)"
      ],
      "metadata": {
        "id": "cQlvUpCViCX-"
      },
      "execution_count": 95,
      "outputs": []
    },
    {
      "cell_type": "code",
      "source": [
        "p = Person('김다영', '27')\n",
        "p.PrintName()\n",
        "del p"
      ],
      "metadata": {
        "colab": {
          "base_uri": "https://localhost:8080/"
        },
        "id": "1I1FCfUpi4dE",
        "outputId": "7fc634fa-49e6-4217-ef73-d276e3a82a19"
      },
      "execution_count": 96,
      "outputs": [
        {
          "output_type": "stream",
          "name": "stdout",
          "text": [
            "김다영\n",
            "27\n",
            "김다영 안녕\n"
          ]
        }
      ]
    },
    {
      "cell_type": "markdown",
      "source": [
        "###7. 정적(Static) 메소드 - self를 쓰지 않는다.\n"
      ],
      "metadata": {
        "id": "PK15bLdAjKK_"
      }
    },
    {
      "cell_type": "code",
      "source": [
        "class CounterManager:\n",
        "  InsCount = 0\n",
        "\n",
        "  def __init(self):\n",
        "    CounterManager.Inscount += 1\n",
        "  def PrintInstanceCount(self):\n",
        "    print('InstanceCount: ', CounterManager.InsCount)\n"
      ],
      "metadata": {
        "id": "kUwrcoutjBST"
      },
      "execution_count": 97,
      "outputs": []
    },
    {
      "cell_type": "code",
      "source": [
        "a = CounterManager()\n",
        "b = CounterManager()\n",
        "c = CounterManager()"
      ],
      "metadata": {
        "id": "uJ1yoijmjtJH"
      },
      "execution_count": 98,
      "outputs": []
    },
    {
      "cell_type": "code",
      "source": [
        "#CounterManager.PrintInstanceCount()    #class 직접 사용하는 것은 금기!"
      ],
      "metadata": {
        "id": "qREl9syNjyrO"
      },
      "execution_count": 99,
      "outputs": []
    },
    {
      "cell_type": "code",
      "source": [
        "p = CounterManager()\n",
        "p.PrintInstanceCount()"
      ],
      "metadata": {
        "colab": {
          "base_uri": "https://localhost:8080/"
        },
        "id": "rU-y84RJkD7E",
        "outputId": "2a378c69-920b-4563-bc4a-9a91e4cd6fc0"
      },
      "execution_count": 100,
      "outputs": [
        {
          "output_type": "stream",
          "name": "stdout",
          "text": [
            "InstanceCount:  0\n"
          ]
        }
      ]
    },
    {
      "cell_type": "code",
      "source": [
        "class CounterManager:\n",
        "  InsCount = 0\n",
        "\n",
        "  def __init(self):\n",
        "    CounterManager.InsCount += 1\n",
        "  def PrintInstanceCount():             #정적 메소드로 전환\n",
        "    print('InstanceCount: ', CounterManager.InsCount)\n",
        "\n",
        "  StaticCount = staticmethod(PrintInstanceCount)"
      ],
      "metadata": {
        "id": "7LP1nlA7kIap"
      },
      "execution_count": 101,
      "outputs": []
    },
    {
      "cell_type": "code",
      "source": [
        "p = CounterManager()\n",
        "p.StaticCount()"
      ],
      "metadata": {
        "colab": {
          "base_uri": "https://localhost:8080/"
        },
        "id": "9ZjiYj4qkjaW",
        "outputId": "fba07077-1034-44b7-9608-d795d9253a21"
      },
      "execution_count": 102,
      "outputs": [
        {
          "output_type": "stream",
          "name": "stdout",
          "text": [
            "InstanceCount:  0\n"
          ]
        }
      ]
    },
    {
      "cell_type": "markdown",
      "source": [
        "###8. 상속의 심화"
      ],
      "metadata": {
        "id": "DAuh4TtBlcKX"
      }
    },
    {
      "cell_type": "code",
      "source": [
        "class Person:\n",
        "\n",
        "  def __init__(self, name, phone):\n",
        "    self.Name = name\n",
        "    self.Phone = phone\n",
        "\n",
        "  def PrintInfo(self):\n",
        "    print('Info(Name: {0}, Phone{1}'.format(self.Name,self.Phone ))\n",
        "\n",
        "  def PrintPersonData(self):\n",
        "    print('Person(Name: {0}, Phone{1}'.format(self.Name, self.Phone))"
      ],
      "metadata": {
        "id": "2UDs1Bg_knsh"
      },
      "execution_count": 103,
      "outputs": []
    },
    {
      "cell_type": "code",
      "source": [
        "class Student(Person):\n",
        "  pass"
      ],
      "metadata": {
        "id": "NLKSCSYRmJJ8"
      },
      "execution_count": 104,
      "outputs": []
    },
    {
      "cell_type": "code",
      "source": [
        "p = Person('김다영', '010-1111-2222')\n",
        "s = Student('김민아', '010-2222-3333')"
      ],
      "metadata": {
        "id": "92KMJlU8mNQX"
      },
      "execution_count": 105,
      "outputs": []
    },
    {
      "cell_type": "code",
      "source": [
        "print(p.__dict__)   #속성 dictionary로 바로 보기\n",
        "print(s.__dict__)"
      ],
      "metadata": {
        "colab": {
          "base_uri": "https://localhost:8080/"
        },
        "id": "saufpZw3mVEs",
        "outputId": "73f27d3a-57d8-40df-abcb-7e48fb97c875"
      },
      "execution_count": 106,
      "outputs": [
        {
          "output_type": "stream",
          "name": "stdout",
          "text": [
            "{'Name': '김다영', 'Phone': '010-1111-2222'}\n",
            "{'Name': '김민아', 'Phone': '010-2222-3333'}\n"
          ]
        }
      ]
    },
    {
      "cell_type": "code",
      "source": [
        "class Student(Person):\n",
        "  def __init__(self, name, phone, subject, studentID):        #속성 추가\n",
        "    self.Name = name\n",
        "    self.Phone = phone\n",
        "    self.Subject = subject\n",
        "    self.StudentID = studentID\n",
        "\n",
        "    s = Student('김민아', '010-2222-3333', '학생회장', '001')  # 속성 추가하면 항목까지 추가해줘야 에러나지 않음"
      ],
      "metadata": {
        "id": "aHzq2W1ImaPb"
      },
      "execution_count": 109,
      "outputs": []
    },
    {
      "cell_type": "code",
      "source": [
        "print(s.__dict__)"
      ],
      "metadata": {
        "colab": {
          "base_uri": "https://localhost:8080/"
        },
        "id": "bB1bbl5tnOb6",
        "outputId": "10bac013-6f19-4a3f-a36d-85926140c6c6"
      },
      "execution_count": 110,
      "outputs": [
        {
          "output_type": "stream",
          "name": "stdout",
          "text": [
            "{'Name': '김민아', 'Phone': '010-2222-3333'}\n"
          ]
        }
      ]
    },
    {
      "cell_type": "code",
      "source": [
        "s.PrintInfo()"
      ],
      "metadata": {
        "colab": {
          "base_uri": "https://localhost:8080/"
        },
        "id": "39cpQCGon4vH",
        "outputId": "f3281f4c-ea32-45d7-9269-c2288ff26cde"
      },
      "execution_count": 111,
      "outputs": [
        {
          "output_type": "stream",
          "name": "stdout",
          "text": [
            "Info(Name: 김민아, Phone010-2222-3333\n"
          ]
        }
      ]
    },
    {
      "cell_type": "markdown",
      "source": [
        "###9. 상속관계를 확인"
      ],
      "metadata": {
        "id": "ZDc5emz1oOyv"
      }
    },
    {
      "cell_type": "code",
      "source": [
        "issubclass(Student, Person)       #student는 person의 상속클래스인가"
      ],
      "metadata": {
        "colab": {
          "base_uri": "https://localhost:8080/"
        },
        "id": "Pa1cvwuCn6me",
        "outputId": "dcbddd11-56dd-4ba4-a4e9-2e75372575b4"
      },
      "execution_count": 112,
      "outputs": [
        {
          "output_type": "execute_result",
          "data": {
            "text/plain": [
              "True"
            ]
          },
          "metadata": {},
          "execution_count": 112
        }
      ]
    },
    {
      "cell_type": "code",
      "source": [
        "issubclass(Person,Student)"
      ],
      "metadata": {
        "colab": {
          "base_uri": "https://localhost:8080/"
        },
        "id": "JNQcFTtcoXTB",
        "outputId": "54b8b3f9-1e18-4d90-f7ec-d2435fd28777"
      },
      "execution_count": 113,
      "outputs": [
        {
          "output_type": "execute_result",
          "data": {
            "text/plain": [
              "False"
            ]
          },
          "metadata": {},
          "execution_count": 113
        }
      ]
    },
    {
      "cell_type": "code",
      "source": [
        "class Student(Person):  \n",
        "  def __init__(self, name, phone, subject, studentID):     \n",
        "    self.Name = name\n",
        "    self.Phone = phone\n",
        "    self.Subject = subject\n",
        "    self.StudentID = studentID\n",
        "\n",
        "  def PrintStudentData(self):\n",
        "    print('Student(Name {0}, StudentID {1})'.format(self.Name, self.StudentID))\n",
        "\n",
        "  def PrintPersonData(self):        #부모 클래스에서 상속받은 것 재정의(덮어쓰기)\n",
        "    print('{0}님의 전공은 {1}입니다.'.format(self.Name, self.Subject))"
      ],
      "metadata": {
        "id": "GmplBgSIoaX4"
      },
      "execution_count": 117,
      "outputs": []
    },
    {
      "cell_type": "code",
      "source": [
        "s = Student('민아', '010-2222-2222', 'Computer', '001')\n",
        "s.PrintStudentData()\n",
        "s.PrintPersonData()         #재정의"
      ],
      "metadata": {
        "colab": {
          "base_uri": "https://localhost:8080/"
        },
        "id": "_ItUlaznpOeI",
        "outputId": "48db86aa-40ac-4de8-f06c-84594abd615c"
      },
      "execution_count": 118,
      "outputs": [
        {
          "output_type": "stream",
          "name": "stdout",
          "text": [
            "Student(Name 민아, StudentID 001)\n",
            "민아님의 전공은 Computer입니다.\n"
          ]
        }
      ]
    },
    {
      "cell_type": "code",
      "source": [
        "class Student(Person):\n",
        "  def __init__(self, name, phone, subject,studentID):\n",
        "    self.Name = name\n",
        "    self.Phone = phone\n",
        "    self.Subject = subject\n",
        "    self.StudentID = studentID\n",
        "\n",
        "    Person.__init__(self, name, phone)        #부모 클래스의 생성자 호출하기\n",
        "\n",
        "  def PrintStudentData(self):\n",
        "    print('Student(Name {0}, StudentID {1})'.format(self.Name, self.StudentID))\n",
        "\n",
        "  def PrintPersonData(self):        \n",
        "    print('{0}님의 전공은 {1}입니다.'.format(self.Name, self.Subject))"
      ],
      "metadata": {
        "id": "FCUMS6hjpZ3u"
      },
      "execution_count": 119,
      "outputs": []
    },
    {
      "cell_type": "markdown",
      "source": [
        "###10. 다중 상속 >> 양쪽에서 상속받는다!"
      ],
      "metadata": {
        "id": "Iv0ybDIwrV-Q"
      }
    },
    {
      "cell_type": "code",
      "source": [
        "class Tiger:\n",
        "  def Jump(self):\n",
        "    print('호랑이 점프')"
      ],
      "metadata": {
        "id": "anInz8dprUi2"
      },
      "execution_count": 120,
      "outputs": []
    },
    {
      "cell_type": "code",
      "source": [
        "class Lion:\n",
        "  def Bite(self):\n",
        "    print('사자 물기')"
      ],
      "metadata": {
        "id": "Og-BO3rNreYF"
      },
      "execution_count": 121,
      "outputs": []
    },
    {
      "cell_type": "code",
      "source": [
        "class Liger(Tiger,Lion):\n",
        "  def Play(self):\n",
        "    print('라이거 놀기')"
      ],
      "metadata": {
        "id": "TRGNb9xCriQ-"
      },
      "execution_count": 122,
      "outputs": []
    },
    {
      "cell_type": "code",
      "source": [
        "I= Liger()\n",
        "print(I.Jump())\n",
        "print(I.Bite())\n",
        "print(I.Play())\n"
      ],
      "metadata": {
        "colab": {
          "base_uri": "https://localhost:8080/"
        },
        "id": "gXIs0-I2rotn",
        "outputId": "236e52be-d877-44ae-8f1e-c6ff385abb43"
      },
      "execution_count": 124,
      "outputs": [
        {
          "output_type": "stream",
          "name": "stdout",
          "text": [
            "호랑이 점프\n",
            "None\n",
            "사자 물기\n",
            "None\n",
            "라이거 놀기\n",
            "None\n"
          ]
        }
      ]
    }
  ]
}