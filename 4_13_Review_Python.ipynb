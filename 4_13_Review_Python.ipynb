{
  "nbformat": 4,
  "nbformat_minor": 0,
  "metadata": {
    "colab": {
      "provenance": [],
      "authorship_tag": "ABX9TyMKuXH94LiPl+pUZE6vbMJf",
      "include_colab_link": true
    },
    "kernelspec": {
      "name": "python3",
      "display_name": "Python 3"
    },
    "language_info": {
      "name": "python"
    }
  },
  "cells": [
    {
      "cell_type": "markdown",
      "metadata": {
        "id": "view-in-github",
        "colab_type": "text"
      },
      "source": [
        "<a href=\"https://colab.research.google.com/github/dayoungkimm/MS-AI-School/blob/main/4_13_Review_Python.ipynb\" target=\"_parent\"><img src=\"https://colab.research.google.com/assets/colab-badge.svg\" alt=\"Open In Colab\"/></a>"
      ]
    },
    {
      "cell_type": "code",
      "execution_count": 2,
      "metadata": {
        "colab": {
          "base_uri": "https://localhost:8080/"
        },
        "id": "3UI3jq4c5nXA",
        "outputId": "31e43faa-e00c-4502-a16f-b97196f9484d"
      },
      "outputs": [
        {
          "output_type": "stream",
          "name": "stdout",
          "text": [
            "item: 1\n",
            "item: 2\n",
            "item: 3\n"
          ]
        }
      ],
      "source": [
        "#break문 사용하여 반복문 중간에 멈추기\n",
        "\n",
        "L = [1,2,3,4,5]\n",
        "for i in L:\n",
        "  if i>3:\n",
        "    break\n",
        "  print('item: {0}' .format(i))"
      ]
    },
    {
      "cell_type": "code",
      "source": [
        "#continue문 사용하여 해당 반복 건너뛰기\n",
        "\n",
        "for i in L:\n",
        "  if i%2 ==0:\n",
        "    continue\n",
        "  print('item:{0}'.format(i))"
      ],
      "metadata": {
        "colab": {
          "base_uri": "https://localhost:8080/"
        },
        "id": "gaouAuUY5_jb",
        "outputId": "5f3f37d9-e0da-431b-91a7-856a399df6cb"
      },
      "execution_count": 4,
      "outputs": [
        {
          "output_type": "stream",
          "name": "stdout",
          "text": [
            "item:1\n",
            "item:3\n",
            "item:5\n"
          ]
        }
      ]
    },
    {
      "cell_type": "code",
      "source": [
        "#range 함수를 사용하여 특정 범위의 숫자를 생성\n",
        "range(1,10)\n",
        "print(list(range(1,5)))\n",
        "print(list(range(10,7,-1)))\n",
        "\n",
        "L = list(range(1,6))\n",
        "for i in L:\n",
        "  print(i)\n"
      ],
      "metadata": {
        "colab": {
          "base_uri": "https://localhost:8080/"
        },
        "id": "vaCdstys6kYa",
        "outputId": "5da4cbde-6bf6-43de-e3d6-c0d5ed9e7fa9"
      },
      "execution_count": 15,
      "outputs": [
        {
          "output_type": "stream",
          "name": "stdout",
          "text": [
            "[1, 2, 3, 4]\n",
            "[10, 9, 8]\n",
            "1\n",
            "2\n",
            "3\n",
            "4\n",
            "5\n"
          ]
        }
      ]
    },
    {
      "cell_type": "code",
      "source": [
        "#Class\n",
        "\n",
        "class Myclass:\n",
        "  pass\n",
        "print(Myclass)\n",
        "print(id(Myclass))"
      ],
      "metadata": {
        "colab": {
          "base_uri": "https://localhost:8080/"
        },
        "id": "z0QufOus6tK4",
        "outputId": "9858456a-1d83-4e8b-a629-f712b3789bab"
      },
      "execution_count": 18,
      "outputs": [
        {
          "output_type": "stream",
          "name": "stdout",
          "text": [
            "<class '__main__.Myclass'>\n",
            "41703984\n"
          ]
        }
      ]
    },
    {
      "cell_type": "code",
      "source": [
        "class Person:\n",
        "  Name = ''\n",
        "\n",
        "  def Print(self):\n",
        "    print('My Name is {0}'.format(self.Name))"
      ],
      "metadata": {
        "id": "cbsyTe5x8Cj-"
      },
      "execution_count": 19,
      "outputs": []
    },
    {
      "cell_type": "code",
      "source": [
        "p1 = Person()\n",
        "p1.Name = '윤하'\n",
        "p1.Print()"
      ],
      "metadata": {
        "colab": {
          "base_uri": "https://localhost:8080/"
        },
        "id": "VWnjHRYi8ZJP",
        "outputId": "07a0f0dd-c6e8-4322-ad6d-7cd7fb6875f9"
      },
      "execution_count": 22,
      "outputs": [
        {
          "output_type": "stream",
          "name": "stdout",
          "text": [
            "My Name is 윤하\n"
          ]
        }
      ]
    },
    {
      "cell_type": "code",
      "source": [
        "p1 = Person()\n",
        "p2 = Person()\n",
        "p1.Name = '윤하'\n",
        "p2.Name = '하윤'\n",
        "p1.Print()\n",
        "p2.Print()"
      ],
      "metadata": {
        "colab": {
          "base_uri": "https://localhost:8080/"
        },
        "id": "aUOT8JMv8kIg",
        "outputId": "cb4a5deb-29dd-4f43-bf84-810d082a207a"
      },
      "execution_count": 24,
      "outputs": [
        {
          "output_type": "stream",
          "name": "stdout",
          "text": [
            "My Name is 윤하\n",
            "My Name is 하윤\n"
          ]
        }
      ]
    },
    {
      "cell_type": "code",
      "source": [
        "Person.Title = 'New Title'\n",
        "print(p1.Title)\n",
        "print(p2.Title)"
      ],
      "metadata": {
        "colab": {
          "base_uri": "https://localhost:8080/"
        },
        "id": "S3YEqcOF8x7u",
        "outputId": "b0c0a9e4-c71e-4eae-8639-da631e734a25"
      },
      "execution_count": 26,
      "outputs": [
        {
          "output_type": "stream",
          "name": "stdout",
          "text": [
            "New Title\n",
            "New Title\n"
          ]
        }
      ]
    },
    {
      "cell_type": "code",
      "source": [
        "#Class의 상속"
      ],
      "metadata": {
        "id": "ZXUNgrPE8_ma"
      },
      "execution_count": null,
      "outputs": []
    }
  ]
}