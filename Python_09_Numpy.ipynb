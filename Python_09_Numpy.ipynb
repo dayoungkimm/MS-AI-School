{
  "nbformat": 4,
  "nbformat_minor": 0,
  "metadata": {
    "colab": {
      "provenance": [],
      "authorship_tag": "ABX9TyNzyW3nXiKhmN6mCYS3Q+6m",
      "include_colab_link": true
    },
    "kernelspec": {
      "name": "python3",
      "display_name": "Python 3"
    },
    "language_info": {
      "name": "python"
    }
  },
  "cells": [
    {
      "cell_type": "markdown",
      "metadata": {
        "id": "view-in-github",
        "colab_type": "text"
      },
      "source": [
        "<a href=\"https://colab.research.google.com/github/dayoungkimm/MS-AI-School/blob/main/Python_09_Numpy.ipynb\" target=\"_parent\"><img src=\"https://colab.research.google.com/assets/colab-badge.svg\" alt=\"Open In Colab\"/></a>"
      ]
    },
    {
      "cell_type": "markdown",
      "source": [
        "###1. Numpty란?\n",
        "\n",
        "C언어로 개발된 파이썬에서 과학적 계산을 위한 핵심 라이브러리.\n",
        "\n",
        "다차원 배열 객체와 배열과 함게 작동하는 도구들을 제공한다.\n",
        "\n",
        "하지만 고수준의 데이터 분석기능을 제공하지는 않기 때문에 Numpy 배열과 함께 Pandas와 같은 도구를 사용한다.\n",
        "\n",
        "수학적 기능을 대부분 지원"
      ],
      "metadata": {
        "id": "-6_4NU4hM311"
      }
    },
    {
      "cell_type": "code",
      "execution_count": 1,
      "metadata": {
        "id": "BfNwJluhMp6L"
      },
      "outputs": [],
      "source": [
        "import numpy as np          #numpy를 이제 줄여서 np로 부를거야"
      ]
    },
    {
      "cell_type": "code",
      "source": [
        "arr = np.array([1,2,3,4])\n",
        "print(arr)\n",
        "print(type(arr))"
      ],
      "metadata": {
        "colab": {
          "base_uri": "https://localhost:8080/"
        },
        "id": "Y0EiCCigNZ-y",
        "outputId": "c82e7cfe-95c4-42f9-a53c-45713eaafbd6"
      },
      "execution_count": 2,
      "outputs": [
        {
          "output_type": "stream",
          "name": "stdout",
          "text": [
            "[1 2 3 4]\n",
            "<class 'numpy.ndarray'>\n"
          ]
        }
      ]
    },
    {
      "cell_type": "markdown",
      "source": [
        "###2. zeros, ones, empty로 배열 생성하기"
      ],
      "metadata": {
        "id": "zm_JLYRJNhve"
      }
    },
    {
      "cell_type": "markdown",
      "source": [
        "1. zeros \n",
        "\n",
        "> 0으로 채워진 배열 만들기\n",
        "\n"
      ],
      "metadata": {
        "id": "TddMX6YsNyI1"
      }
    },
    {
      "cell_type": "code",
      "source": [
        "np.zeros((3,3))"
      ],
      "metadata": {
        "colab": {
          "base_uri": "https://localhost:8080/"
        },
        "id": "gNgjT04lNe0i",
        "outputId": "d3a3380c-fe6e-444e-973d-f656a56227d9"
      },
      "execution_count": 3,
      "outputs": [
        {
          "output_type": "execute_result",
          "data": {
            "text/plain": [
              "array([[0., 0., 0.],\n",
              "       [0., 0., 0.],\n",
              "       [0., 0., 0.]])"
            ]
          },
          "metadata": {},
          "execution_count": 3
        }
      ]
    },
    {
      "cell_type": "code",
      "source": [
        "car = np.zeros((3,3))\n",
        "print(car)"
      ],
      "metadata": {
        "colab": {
          "base_uri": "https://localhost:8080/"
        },
        "id": "3jmhl4huOBkL",
        "outputId": "a285e303-fa06-4ba5-9fed-165e78381f87"
      },
      "execution_count": 4,
      "outputs": [
        {
          "output_type": "stream",
          "name": "stdout",
          "text": [
            "[[0. 0. 0.]\n",
            " [0. 0. 0.]\n",
            " [0. 0. 0.]]\n"
          ]
        }
      ]
    },
    {
      "cell_type": "markdown",
      "source": [
        "2. ones\n",
        "\n",
        "\n",
        "> 1로 채워진 배열 만들기\n",
        "\n"
      ],
      "metadata": {
        "id": "f3Sde93mOHYx"
      }
    },
    {
      "cell_type": "code",
      "source": [
        "np.ones((2,2))"
      ],
      "metadata": {
        "colab": {
          "base_uri": "https://localhost:8080/"
        },
        "id": "Na-wii7zOFWa",
        "outputId": "204b892c-62cf-4264-9dba-601dc7e33308"
      },
      "execution_count": 5,
      "outputs": [
        {
          "output_type": "execute_result",
          "data": {
            "text/plain": [
              "array([[1., 1.],\n",
              "       [1., 1.]])"
            ]
          },
          "metadata": {},
          "execution_count": 5
        }
      ]
    },
    {
      "cell_type": "markdown",
      "source": [
        "3. empty\n",
        "\n",
        "\n",
        "> 빈 배열 생성\n",
        "\n"
      ],
      "metadata": {
        "id": "sMVmhdBxOQ3P"
      }
    },
    {
      "cell_type": "code",
      "source": [
        "np.empty((4,4))"
      ],
      "metadata": {
        "colab": {
          "base_uri": "https://localhost:8080/"
        },
        "id": "EOV6MickOPXD",
        "outputId": "62874b02-4b40-4cfd-8430-4531bc6f53b3"
      },
      "execution_count": 6,
      "outputs": [
        {
          "output_type": "execute_result",
          "data": {
            "text/plain": [
              "array([[2.78827963e-316, 0.00000000e+000, 6.01334434e-154,\n",
              "        1.14484088e+243],\n",
              "       [2.42597833e+198, 9.77824555e+199, 6.01334653e-154,\n",
              "        6.01347002e-154],\n",
              "       [9.29787765e+199, 5.55603592e+180, 7.50009967e+247,\n",
              "        9.82395831e+252],\n",
              "       [1.46922886e+195, 1.27710827e-152, 6.52436916e+179,\n",
              "        8.78422043e+247]])"
            ]
          },
          "metadata": {},
          "execution_count": 6
        }
      ]
    },
    {
      "cell_type": "markdown",
      "source": [
        "###3. 특정 범위의 변수를 생성할 때 arange( )를 사용한다."
      ],
      "metadata": {
        "id": "UBeiDtoiOftj"
      }
    },
    {
      "cell_type": "code",
      "source": [
        "print(np.arange(10))\n",
        "print(np.arange(1,10))\n",
        "print(np.arange(1,10,2))"
      ],
      "metadata": {
        "colab": {
          "base_uri": "https://localhost:8080/"
        },
        "id": "hbnF8TXaOYQ6",
        "outputId": "3c5a6bf6-8e15-41e4-abd4-e9b3a23bedd5"
      },
      "execution_count": 8,
      "outputs": [
        {
          "output_type": "stream",
          "name": "stdout",
          "text": [
            "[0 1 2 3 4 5 6 7 8 9]\n",
            "[1 2 3 4 5 6 7 8 9]\n",
            "[1 3 5 7 9]\n"
          ]
        }
      ]
    },
    {
      "cell_type": "markdown",
      "source": [
        "###4. ndarray 배열"
      ],
      "metadata": {
        "id": "_036MyNTO3j2"
      }
    },
    {
      "cell_type": "code",
      "source": [
        "#ndarray 배열의 모양, 차수, 데이터 타입 확인해보기\n",
        "#꺾인 가로 [ ] 수에 따라 몇차원인지 확인가능 / 이건 2차원\n",
        "#2차원인데 요소가 3개씩 있음 >> (2,3) 구조\n",
        "\n",
        "arr = np.array([[1,2,3], [4,5,6]])  \n",
        "print(arr)\n"
      ],
      "metadata": {
        "colab": {
          "base_uri": "https://localhost:8080/"
        },
        "id": "D7h4Ord2Ouif",
        "outputId": "b0b22446-6124-4bc5-d999-e525b550a9fc"
      },
      "execution_count": 9,
      "outputs": [
        {
          "output_type": "stream",
          "name": "stdout",
          "text": [
            "[[1 2 3]\n",
            " [4 5 6]]\n"
          ]
        }
      ]
    },
    {
      "cell_type": "code",
      "source": [
        "#차원 확인하기\n",
        "arr.ndim"
      ],
      "metadata": {
        "colab": {
          "base_uri": "https://localhost:8080/"
        },
        "id": "EiHGJAM4PPga",
        "outputId": "ec9fa8c1-c1bb-47de-f12c-c01601958a25"
      },
      "execution_count": 10,
      "outputs": [
        {
          "output_type": "execute_result",
          "data": {
            "text/plain": [
              "2"
            ]
          },
          "metadata": {},
          "execution_count": 10
        }
      ]
    },
    {
      "cell_type": "code",
      "source": [
        "#데이터의 모양을 확인하는 방법\n",
        "arr.shape"
      ],
      "metadata": {
        "colab": {
          "base_uri": "https://localhost:8080/"
        },
        "id": "GwhNmvFKPT45",
        "outputId": "91a9a48b-9c00-445b-83ce-f8cce4cfe756"
      },
      "execution_count": 11,
      "outputs": [
        {
          "output_type": "execute_result",
          "data": {
            "text/plain": [
              "(2, 3)"
            ]
          },
          "metadata": {},
          "execution_count": 11
        }
      ]
    },
    {
      "cell_type": "code",
      "source": [
        "# 데이터 타입의 확인\n",
        "print(type(arr))\n",
        "print(arr.dtype)      #배열 안의 데이터 타입 확인하기"
      ],
      "metadata": {
        "colab": {
          "base_uri": "https://localhost:8080/"
        },
        "id": "7KmvpTvFPZfn",
        "outputId": "67722574-625a-43bd-895c-f7dc1adafb22"
      },
      "execution_count": 13,
      "outputs": [
        {
          "output_type": "stream",
          "name": "stdout",
          "text": [
            "<class 'numpy.ndarray'>\n",
            "int64\n"
          ]
        }
      ]
    },
    {
      "cell_type": "code",
      "source": [
        "# ndarray 배열의 타입 변환\n",
        "arr_int = np.array([1,2,3,4])             #정수형 배열 생성\n",
        "print(arr_int.dtype)\n",
        "arr_float = arr_int.astype(np.float64)    #64bit 실수형으로 데이터 타입 변환하기\n",
        "print(arr_float.dtype)"
      ],
      "metadata": {
        "colab": {
          "base_uri": "https://localhost:8080/"
        },
        "id": "BzxhrqoJPd5b",
        "outputId": "e2e65515-7efc-40b2-f0ea-484a85aa5ec8"
      },
      "execution_count": 14,
      "outputs": [
        {
          "output_type": "stream",
          "name": "stdout",
          "text": [
            "int64\n",
            "float64\n"
          ]
        }
      ]
    },
    {
      "cell_type": "code",
      "source": [
        "arr_str = np.array(['1', '2', '3', '4'])          #문자형(유니코드) 배열 생성\n",
        "print(arr_str.dtype)"
      ],
      "metadata": {
        "colab": {
          "base_uri": "https://localhost:8080/"
        },
        "id": "Pt5Y_oJgP7v7",
        "outputId": "662e2768-5403-452c-9254-5c233d32a64f"
      },
      "execution_count": 15,
      "outputs": [
        {
          "output_type": "stream",
          "name": "stdout",
          "text": [
            "<U1\n"
          ]
        }
      ]
    },
    {
      "cell_type": "code",
      "source": [
        "arr_int = arr_str.astype(np.int64)              #정수형으로 데이터 타입 변환하기\n",
        "print(arr_int)\n",
        "print(arr_int.dtype)"
      ],
      "metadata": {
        "colab": {
          "base_uri": "https://localhost:8080/"
        },
        "id": "DvDrfhyJQLYm",
        "outputId": "65a155b9-56ec-450d-c408-49a5b29bd6a3"
      },
      "execution_count": 16,
      "outputs": [
        {
          "output_type": "stream",
          "name": "stdout",
          "text": [
            "[1 2 3 4]\n",
            "int64\n"
          ]
        }
      ]
    },
    {
      "cell_type": "markdown",
      "source": [
        "###5. 배열의 연산 기능"
      ],
      "metadata": {
        "id": "FryWHgiaQS8X"
      }
    },
    {
      "cell_type": "code",
      "source": [
        "arr1 = np.array([[1,2],[3,4]])\n",
        "arr2 = np.array([[5,6],[7,8]])\n",
        "print(arr1 + arr2)\n",
        "print(arr1 - arr2)\n",
        "print(arr1 * arr2)"
      ],
      "metadata": {
        "colab": {
          "base_uri": "https://localhost:8080/"
        },
        "id": "0OE-aqoeQR8f",
        "outputId": "7d9bd4a7-99f2-41ef-98d2-50bd186b41cf"
      },
      "execution_count": 17,
      "outputs": [
        {
          "output_type": "stream",
          "name": "stdout",
          "text": [
            "[[ 6  8]\n",
            " [10 12]]\n",
            "[[-4 -4]\n",
            " [-4 -4]]\n",
            "[[ 5 12]\n",
            " [21 32]]\n"
          ]
        }
      ]
    },
    {
      "cell_type": "code",
      "source": [
        "print(np.add(arr1,arr2))\n",
        "print(np.multiply(arr1,arr2))"
      ],
      "metadata": {
        "colab": {
          "base_uri": "https://localhost:8080/"
        },
        "id": "_q7eIfVbQYKh",
        "outputId": "bf67121d-9429-4b38-f417-0e0825329960"
      },
      "execution_count": 18,
      "outputs": [
        {
          "output_type": "stream",
          "name": "stdout",
          "text": [
            "[[ 6  8]\n",
            " [10 12]]\n",
            "[[ 5 12]\n",
            " [21 32]]\n"
          ]
        }
      ]
    },
    {
      "cell_type": "markdown",
      "source": [
        "###6. ndarray 배열 슬라이싱하기"
      ],
      "metadata": {
        "id": "DNHISmXSQcO-"
      }
    },
    {
      "cell_type": "code",
      "source": [
        "arr = np.array([[1,2,3],\n",
        "                [4,5,6],\n",
        "                [7,8,9]])"
      ],
      "metadata": {
        "id": "ghbdpaq9QaQw"
      },
      "execution_count": 19,
      "outputs": []
    },
    {
      "cell_type": "code",
      "source": [
        "arr_1 = arr[:2,1:3]       #[행,열] 슬라이싱\n",
        "print(arr_1)"
      ],
      "metadata": {
        "colab": {
          "base_uri": "https://localhost:8080/"
        },
        "id": "rDyxHohEQh6m",
        "outputId": "1dfc8229-1a81-45ce-d184-258a8913ca79"
      },
      "execution_count": 20,
      "outputs": [
        {
          "output_type": "stream",
          "name": "stdout",
          "text": [
            "[[2 3]\n",
            " [5 6]]\n"
          ]
        }
      ]
    },
    {
      "cell_type": "markdown",
      "source": [
        "###7. 원하는 요소에 접근하기"
      ],
      "metadata": {
        "id": "3Sv-yXmHQltS"
      }
    },
    {
      "cell_type": "code",
      "source": [
        "arr = np.array([[1,2,3],[4,5,6],[7,8,9]])\n",
        "arr[0,2]"
      ],
      "metadata": {
        "colab": {
          "base_uri": "https://localhost:8080/"
        },
        "id": "7CyUI3HHQk5v",
        "outputId": "5c6c917e-d61e-41cd-e194-da30fde53316"
      },
      "execution_count": 21,
      "outputs": [
        {
          "output_type": "execute_result",
          "data": {
            "text/plain": [
              "3"
            ]
          },
          "metadata": {},
          "execution_count": 21
        }
      ]
    },
    {
      "cell_type": "markdown",
      "source": [
        "###8. 조건식 idx"
      ],
      "metadata": {
        "id": "kInTraS_Qw_t"
      }
    },
    {
      "cell_type": "code",
      "source": [
        "arr = np.array([[1,2,3],[4,5,6]])\n",
        "idx = arr > 3\n",
        "print(idx)"
      ],
      "metadata": {
        "colab": {
          "base_uri": "https://localhost:8080/"
        },
        "id": "ZgbuHqnvQu9y",
        "outputId": "2ec6e04f-309c-4336-e78a-6a9f99ec21b1"
      },
      "execution_count": 22,
      "outputs": [
        {
          "output_type": "stream",
          "name": "stdout",
          "text": [
            "[[False False False]\n",
            " [ True  True  True]]\n"
          ]
        }
      ]
    },
    {
      "cell_type": "code",
      "source": [
        "arr[idx]      #true인 값만 추출"
      ],
      "metadata": {
        "colab": {
          "base_uri": "https://localhost:8080/"
        },
        "id": "D_gJ20V0Q3Vb",
        "outputId": "7d640efa-34f8-4178-a1f3-1376301bfcef"
      },
      "execution_count": 23,
      "outputs": [
        {
          "output_type": "execute_result",
          "data": {
            "text/plain": [
              "array([4, 5, 6])"
            ]
          },
          "metadata": {},
          "execution_count": 23
        }
      ]
    },
    {
      "cell_type": "markdown",
      "source": [
        "###9. 예제"
      ],
      "metadata": {
        "id": "SXsW0km5Q71e"
      }
    },
    {
      "cell_type": "code",
      "source": [
        "#텍스트 읽어들이기 (로딩하기)\n",
        "np.loadtxt(fname='winequality-red.csv',delimiter = ';', skiprows =1)   #skip첫번째 행 속성(string)이므로"
      ],
      "metadata": {
        "colab": {
          "base_uri": "https://localhost:8080/"
        },
        "id": "gH43reG8Q5GT",
        "outputId": "1ae23c55-134c-4637-ac37-1bc875ca93eb"
      },
      "execution_count": 25,
      "outputs": [
        {
          "output_type": "execute_result",
          "data": {
            "text/plain": [
              "array([[ 7.4  ,  0.7  ,  0.   , ...,  0.56 ,  9.4  ,  5.   ],\n",
              "       [ 7.8  ,  0.88 ,  0.   , ...,  0.68 ,  9.8  ,  5.   ],\n",
              "       [ 7.8  ,  0.76 ,  0.04 , ...,  0.65 ,  9.8  ,  5.   ],\n",
              "       ...,\n",
              "       [ 6.3  ,  0.51 ,  0.13 , ...,  0.75 , 11.   ,  6.   ],\n",
              "       [ 5.9  ,  0.645,  0.12 , ...,  0.71 , 10.2  ,  5.   ],\n",
              "       [ 6.   ,  0.31 ,  0.47 , ...,  0.66 , 11.   ,  6.   ]])"
            ]
          },
          "metadata": {},
          "execution_count": 25
        }
      ]
    },
    {
      "cell_type": "code",
      "source": [
        "redwine = np.loadtxt(fname='winequality-red.csv',delimiter = ';', skiprows =1)\n",
        "\n",
        "print(redwine)"
      ],
      "metadata": {
        "colab": {
          "base_uri": "https://localhost:8080/"
        },
        "id": "-tL9JVbYRCC8",
        "outputId": "30a7f2d6-aee7-4095-ea8b-20000638562c"
      },
      "execution_count": 27,
      "outputs": [
        {
          "output_type": "stream",
          "name": "stdout",
          "text": [
            "[[ 7.4    0.7    0.    ...  0.56   9.4    5.   ]\n",
            " [ 7.8    0.88   0.    ...  0.68   9.8    5.   ]\n",
            " [ 7.8    0.76   0.04  ...  0.65   9.8    5.   ]\n",
            " ...\n",
            " [ 6.3    0.51   0.13  ...  0.75  11.     6.   ]\n",
            " [ 5.9    0.645  0.12  ...  0.71  10.2    5.   ]\n",
            " [ 6.     0.31   0.47  ...  0.66  11.     6.   ]]\n"
          ]
        }
      ]
    },
    {
      "cell_type": "markdown",
      "source": [
        "###10. 기초통계함수\n",
        "\n",
        "sum 합계\n",
        "\n",
        "mean 평균\n",
        "\n",
        "std  표준 편차\n",
        "\n",
        "var 분산 (std의 제곱)\n",
        "\n",
        "min 최소값\n",
        "\n",
        "max 최대값"
      ],
      "metadata": {
        "id": "GgEHFkl5RPDD"
      }
    },
    {
      "cell_type": "code",
      "source": [
        "print(redwine.sum())\n",
        "print(redwine.sum(axis=0))        #0번축 기준으로 합계를 내기(->0 >> 세로축끼리의 합)\n",
        "print(redwine.mean(axis=0))"
      ],
      "metadata": {
        "colab": {
          "base_uri": "https://localhost:8080/"
        },
        "id": "9PCON5FCRJb1",
        "outputId": "7702d629-d60e-4325-fd93-a2a30587c29a"
      },
      "execution_count": 28,
      "outputs": [
        {
          "output_type": "stream",
          "name": "stdout",
          "text": [
            "152084.78194\n",
            "[13303.1       843.985     433.29     4059.55      139.859   25384.\n",
            " 74302.       1593.79794  5294.47     1052.38    16666.35     9012.     ]\n",
            "[ 8.31963727  0.52782051  0.27097561  2.5388055   0.08746654 15.87492183\n",
            " 46.46779237  0.99674668  3.3111132   0.65814884 10.42298311  5.63602251]\n"
          ]
        }
      ]
    },
    {
      "cell_type": "code",
      "source": [
        "print(redwine.mean(axis=1))      #1번축 기준으로 평균내기 (밑으로 >> 가로축끼리의 평균)"
      ],
      "metadata": {
        "colab": {
          "base_uri": "https://localhost:8080/"
        },
        "id": "R7WN-gUTR_UM",
        "outputId": "fae47c99-3ba4-4448-d3c6-e548a0cbd42f"
      },
      "execution_count": 29,
      "outputs": [
        {
          "output_type": "stream",
          "name": "stdout",
          "text": [
            "[ 6.21198333 10.25456667  8.30825    ...  8.37347833  8.76795583\n",
            "  7.7077075 ]\n"
          ]
        }
      ]
    },
    {
      "cell_type": "code",
      "source": [
        "print(redwine[:,0].mean())               #0번축 기준으로 첫번째 칼럼 평균"
      ],
      "metadata": {
        "colab": {
          "base_uri": "https://localhost:8080/"
        },
        "id": "-KBo7yoGSwdX",
        "outputId": "97c2338a-b30a-4593-94fd-69f5309fb077"
      },
      "execution_count": 30,
      "outputs": [
        {
          "output_type": "stream",
          "name": "stdout",
          "text": [
            "8.31963727329581\n"
          ]
        }
      ]
    },
    {
      "cell_type": "code",
      "source": [
        "print(redwine.max(axis=0))              #각 컬럼별 최대값\n",
        "print(redwine.min(axis=0))              #각 컬럼별 최솟값"
      ],
      "metadata": {
        "colab": {
          "base_uri": "https://localhost:8080/"
        },
        "id": "pR0K0OfKS0am",
        "outputId": "367875f2-7036-4604-919e-bae5ab3afb6b"
      },
      "execution_count": 31,
      "outputs": [
        {
          "output_type": "stream",
          "name": "stdout",
          "text": [
            "[ 15.9       1.58      1.       15.5       0.611    72.      289.\n",
            "   1.00369   4.01      2.       14.9       8.     ]\n",
            "[4.6     0.12    0.      0.9     0.012   1.      6.      0.99007 2.74\n",
            " 0.33    8.4     3.     ]\n"
          ]
        }
      ]
    },
    {
      "cell_type": "code",
      "source": [],
      "metadata": {
        "id": "mtXJfucvS6qL"
      },
      "execution_count": null,
      "outputs": []
    }
  ]
}