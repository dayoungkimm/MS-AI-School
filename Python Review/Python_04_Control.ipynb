{
  "nbformat": 4,
  "nbformat_minor": 0,
  "metadata": {
    "colab": {
      "provenance": [],
      "authorship_tag": "ABX9TyPtDhMZHgYbKFOa/IjD6X0d",
      "include_colab_link": true
    },
    "kernelspec": {
      "name": "python3",
      "display_name": "Python 3"
    },
    "language_info": {
      "name": "python"
    }
  },
  "cells": [
    {
      "cell_type": "markdown",
      "metadata": {
        "id": "view-in-github",
        "colab_type": "text"
      },
      "source": [
        "<a href=\"https://colab.research.google.com/github/dayoungkimm/MS-AI-School/blob/main/Python_04_Control.ipynb\" target=\"_parent\"><img src=\"https://colab.research.google.com/assets/colab-badge.svg\" alt=\"Open In Colab\"/></a>"
      ]
    },
    {
      "cell_type": "markdown",
      "source": [
        "###1. if/else"
      ],
      "metadata": {
        "id": "FT6wkIMIXWoD"
      }
    },
    {
      "cell_type": "code",
      "execution_count": 1,
      "metadata": {
        "colab": {
          "base_uri": "https://localhost:8080/"
        },
        "id": "FQThKulaU8WA",
        "outputId": "c43f9bc6-6d4a-47f6-a5ac-acca70a445e7"
      },
      "outputs": [
        {
          "output_type": "stream",
          "name": "stdout",
          "text": [
            "value is bigger than 5\n"
          ]
        }
      ],
      "source": [
        "# 조건에 따라서 다른 결과를 얻기 위해서 사용하는 것\n",
        "\n",
        "value = 10\n",
        "if value > 5:\n",
        "  print('value is bigger than 5')"
      ]
    },
    {
      "cell_type": "code",
      "source": [
        "money = 10\n",
        "if money >100:\n",
        "  item = 'apple'\n",
        "else:\n",
        "  item = 'banana'\n",
        "\n",
        "print(item)"
      ],
      "metadata": {
        "colab": {
          "base_uri": "https://localhost:8080/"
        },
        "id": "bTs2res6WF0_",
        "outputId": "be42d32b-5b5e-4fe3-cf15-2d556fa30418"
      },
      "execution_count": 2,
      "outputs": [
        {
          "output_type": "stream",
          "name": "stdout",
          "text": [
            "banana\n"
          ]
        }
      ]
    },
    {
      "cell_type": "markdown",
      "source": [
        "###2. 성적처리"
      ],
      "metadata": {
        "id": "oTOEvuFdXbx1"
      }
    },
    {
      "cell_type": "code",
      "source": [
        "# 성적처리\n",
        "\n",
        "score = input()\n",
        "print(score)\n",
        "\n",
        "score = input(('input your score : '))\n",
        "print(score)"
      ],
      "metadata": {
        "colab": {
          "base_uri": "https://localhost:8080/"
        },
        "id": "NpH3-F89WUy5",
        "outputId": "e35ab1cc-cea9-4b96-97df-d91cc796bf54"
      },
      "execution_count": 4,
      "outputs": [
        {
          "output_type": "stream",
          "name": "stdout",
          "text": [
            "100\n",
            "100\n",
            "input your score : 90\n",
            "90\n"
          ]
        }
      ]
    },
    {
      "cell_type": "code",
      "source": [
        "score = int(input(('input your score : ')))\n",
        "print(score)"
      ],
      "metadata": {
        "colab": {
          "base_uri": "https://localhost:8080/"
        },
        "id": "0sTZmCJKWfvv",
        "outputId": "3460c89a-a852-4e68-de02-b976ba8baeba"
      },
      "execution_count": 5,
      "outputs": [
        {
          "output_type": "stream",
          "name": "stdout",
          "text": [
            "input your score : 100\n",
            "100\n"
          ]
        }
      ]
    },
    {
      "cell_type": "code",
      "source": [
        "score = int(input(('input your socre : ')))\n",
        "\n",
        "if 90<=score <=100:\n",
        "  grade = 'A'\n",
        "elif 80<=score<90:\n",
        "  grade = 'B'\n",
        "elif 70<=score<80:\n",
        "  grade = 'C'\n",
        "elif 60<=score<70:\n",
        "  grade = 'D'\n",
        "else:\n",
        "  grade = 'F'\n",
        "\n",
        "print('Your score is ' + str(score))\n",
        "print('Your score is ' + grade)"
      ],
      "metadata": {
        "colab": {
          "base_uri": "https://localhost:8080/"
        },
        "id": "dm1V9EZlWscN",
        "outputId": "fdb7f2d4-b68f-47a6-bf41-d4219d8995b9"
      },
      "execution_count": 6,
      "outputs": [
        {
          "output_type": "stream",
          "name": "stdout",
          "text": [
            "input your socre : 90\n",
            "Your score is 90\n",
            "Your score is A\n"
          ]
        }
      ]
    },
    {
      "cell_type": "markdown",
      "source": [
        "###3. 조건식의 참과 거짓"
      ],
      "metadata": {
        "id": "hEpj_WXaXgN1"
      }
    },
    {
      "cell_type": "code",
      "source": [
        "print(bool(True))\n",
        "print(bool(False))\n",
        "print(bool(123))\n",
        "print(bool(0))\n",
        "print(bool(-1))             #0을 제외한 수는 true로 간주\n",
        "print(bool('apple'))        #0 제외 글자도 true로 간주\n",
        "print(bool(''))             #string인데 내용이 없는 것 >> false\n",
        "print(bool())               #아예 내용이 없는 것 >> false"
      ],
      "metadata": {
        "colab": {
          "base_uri": "https://localhost:8080/"
        },
        "id": "aOuWW0CrXSzy",
        "outputId": "7da15b14-0d27-425c-956d-70ab7c2fbeac"
      },
      "execution_count": 7,
      "outputs": [
        {
          "output_type": "stream",
          "name": "stdout",
          "text": [
            "True\n",
            "False\n",
            "True\n",
            "False\n",
            "True\n",
            "True\n",
            "False\n",
            "False\n"
          ]
        }
      ]
    },
    {
      "cell_type": "markdown",
      "source": [
        "###4. 반복문 (while and for)"
      ],
      "metadata": {
        "id": "qkE8d1zZX-xO"
      }
    },
    {
      "cell_type": "code",
      "source": [
        "value = 5\n",
        "while value > 0:\n",
        "  print(value)\n",
        "  value -= 1"
      ],
      "metadata": {
        "colab": {
          "base_uri": "https://localhost:8080/"
        },
        "id": "90rRzY6JX9PC",
        "outputId": "d1bab471-8e89-4cab-e550-802e47625d6f"
      },
      "execution_count": 8,
      "outputs": [
        {
          "output_type": "stream",
          "name": "stdout",
          "text": [
            "5\n",
            "4\n",
            "3\n",
            "2\n",
            "1\n"
          ]
        }
      ]
    },
    {
      "cell_type": "code",
      "source": [
        "I = ['Apple', 100, 15.23]\n",
        "for i in I:\n",
        "  print(i)"
      ],
      "metadata": {
        "colab": {
          "base_uri": "https://localhost:8080/"
        },
        "id": "A-OKQ-T7YKOX",
        "outputId": "e50ab8e4-28da-458b-bbdc-93a6d788d406"
      },
      "execution_count": 9,
      "outputs": [
        {
          "output_type": "stream",
          "name": "stdout",
          "text": [
            "Apple\n",
            "100\n",
            "15.23\n"
          ]
        }
      ]
    },
    {
      "cell_type": "markdown",
      "source": [
        "###5. 예제 (구구단)"
      ],
      "metadata": {
        "id": "C7HxMHfzYkha"
      }
    },
    {
      "cell_type": "code",
      "source": [
        "loop1 = [2,3,4,5,6,7,8,9]\n",
        "loop2 = [1,2,3,4,5,6,7,8,9]\n",
        "\n",
        "for i in loop2:\n",
        "  print(\"2 *\" + str(i) + \"=\" + str(2*i))"
      ],
      "metadata": {
        "colab": {
          "base_uri": "https://localhost:8080/"
        },
        "id": "8HeTxW5kYY7Z",
        "outputId": "d8b13b59-6e0b-476f-bb9e-30a1a8e6dd5c"
      },
      "execution_count": 10,
      "outputs": [
        {
          "output_type": "stream",
          "name": "stdout",
          "text": [
            "2 *1=2\n",
            "2 *2=4\n",
            "2 *3=6\n",
            "2 *4=8\n",
            "2 *5=10\n",
            "2 *6=12\n",
            "2 *7=14\n",
            "2 *8=16\n",
            "2 *9=18\n"
          ]
        }
      ]
    },
    {
      "cell_type": "code",
      "source": [
        "loop1 = [2,3,4,5,6,7,8,9]\n",
        "loop2 = [1,2,3,4,5,6,7,8,9]\n",
        "\n",
        "for i in loop2:\n",
        "  print(\"2 * {0} = {1}\".format(i,2*i))"
      ],
      "metadata": {
        "colab": {
          "base_uri": "https://localhost:8080/"
        },
        "id": "j4BqXdMgY7Ba",
        "outputId": "44269e91-71ce-4014-fdea-45df78e7323d"
      },
      "execution_count": 11,
      "outputs": [
        {
          "output_type": "stream",
          "name": "stdout",
          "text": [
            "2 * 1 = 2\n",
            "2 * 2 = 4\n",
            "2 * 3 = 6\n",
            "2 * 4 = 8\n",
            "2 * 5 = 10\n",
            "2 * 6 = 12\n",
            "2 * 7 = 14\n",
            "2 * 8 = 16\n",
            "2 * 9 = 18\n"
          ]
        }
      ]
    },
    {
      "cell_type": "code",
      "source": [
        "loop1 = [2,3,4,5,6,7,8,9]\n",
        "loop2 = [1,2,3,4,5,6,7,8,9]\n",
        "\n",
        "for i in loop1:\n",
        "  for j in loop2:\n",
        "    print(\"{0}*{1} = {2}\".format(i,j,i*j))"
      ],
      "metadata": {
        "colab": {
          "base_uri": "https://localhost:8080/"
        },
        "id": "a2cwCmqGZI8P",
        "outputId": "ec922b17-c229-4ef5-9d76-6d7a8c726270"
      },
      "execution_count": 13,
      "outputs": [
        {
          "output_type": "stream",
          "name": "stdout",
          "text": [
            "2*1 = 2\n",
            "2*2 = 4\n",
            "2*3 = 6\n",
            "2*4 = 8\n",
            "2*5 = 10\n",
            "2*6 = 12\n",
            "2*7 = 14\n",
            "2*8 = 16\n",
            "2*9 = 18\n",
            "3*1 = 3\n",
            "3*2 = 6\n",
            "3*3 = 9\n",
            "3*4 = 12\n",
            "3*5 = 15\n",
            "3*6 = 18\n",
            "3*7 = 21\n",
            "3*8 = 24\n",
            "3*9 = 27\n",
            "4*1 = 4\n",
            "4*2 = 8\n",
            "4*3 = 12\n",
            "4*4 = 16\n",
            "4*5 = 20\n",
            "4*6 = 24\n",
            "4*7 = 28\n",
            "4*8 = 32\n",
            "4*9 = 36\n",
            "5*1 = 5\n",
            "5*2 = 10\n",
            "5*3 = 15\n",
            "5*4 = 20\n",
            "5*5 = 25\n",
            "5*6 = 30\n",
            "5*7 = 35\n",
            "5*8 = 40\n",
            "5*9 = 45\n",
            "6*1 = 6\n",
            "6*2 = 12\n",
            "6*3 = 18\n",
            "6*4 = 24\n",
            "6*5 = 30\n",
            "6*6 = 36\n",
            "6*7 = 42\n",
            "6*8 = 48\n",
            "6*9 = 54\n",
            "7*1 = 7\n",
            "7*2 = 14\n",
            "7*3 = 21\n",
            "7*4 = 28\n",
            "7*5 = 35\n",
            "7*6 = 42\n",
            "7*7 = 49\n",
            "7*8 = 56\n",
            "7*9 = 63\n",
            "8*1 = 8\n",
            "8*2 = 16\n",
            "8*3 = 24\n",
            "8*4 = 32\n",
            "8*5 = 40\n",
            "8*6 = 48\n",
            "8*7 = 56\n",
            "8*8 = 64\n",
            "8*9 = 72\n",
            "9*1 = 9\n",
            "9*2 = 18\n",
            "9*3 = 27\n",
            "9*4 = 36\n",
            "9*5 = 45\n",
            "9*6 = 54\n",
            "9*7 = 63\n",
            "9*8 = 72\n",
            "9*9 = 81\n"
          ]
        }
      ]
    },
    {
      "cell_type": "code",
      "source": [
        "loop1 = [2,3,4,5,6,7,8,9]\n",
        "loop2 = [1,2,3,4,5,6,7,8,9]\n",
        "\n",
        "for i in loop1:\n",
        "  print('{0} 단 ----------------------------'. format(i))\n",
        "  for j in loop2:\n",
        "    print(\"{0} * {1} = {2}\".format(i,j,i*j))"
      ],
      "metadata": {
        "colab": {
          "base_uri": "https://localhost:8080/"
        },
        "id": "fd2aJrr6ZY2h",
        "outputId": "8ec36f48-da5a-40fb-dca1-fa2e23a2de44"
      },
      "execution_count": 14,
      "outputs": [
        {
          "output_type": "stream",
          "name": "stdout",
          "text": [
            "2 단 ----------------------------\n",
            "2 * 1 = 2\n",
            "2 * 2 = 4\n",
            "2 * 3 = 6\n",
            "2 * 4 = 8\n",
            "2 * 5 = 10\n",
            "2 * 6 = 12\n",
            "2 * 7 = 14\n",
            "2 * 8 = 16\n",
            "2 * 9 = 18\n",
            "3 단 ----------------------------\n",
            "3 * 1 = 3\n",
            "3 * 2 = 6\n",
            "3 * 3 = 9\n",
            "3 * 4 = 12\n",
            "3 * 5 = 15\n",
            "3 * 6 = 18\n",
            "3 * 7 = 21\n",
            "3 * 8 = 24\n",
            "3 * 9 = 27\n",
            "4 단 ----------------------------\n",
            "4 * 1 = 4\n",
            "4 * 2 = 8\n",
            "4 * 3 = 12\n",
            "4 * 4 = 16\n",
            "4 * 5 = 20\n",
            "4 * 6 = 24\n",
            "4 * 7 = 28\n",
            "4 * 8 = 32\n",
            "4 * 9 = 36\n",
            "5 단 ----------------------------\n",
            "5 * 1 = 5\n",
            "5 * 2 = 10\n",
            "5 * 3 = 15\n",
            "5 * 4 = 20\n",
            "5 * 5 = 25\n",
            "5 * 6 = 30\n",
            "5 * 7 = 35\n",
            "5 * 8 = 40\n",
            "5 * 9 = 45\n",
            "6 단 ----------------------------\n",
            "6 * 1 = 6\n",
            "6 * 2 = 12\n",
            "6 * 3 = 18\n",
            "6 * 4 = 24\n",
            "6 * 5 = 30\n",
            "6 * 6 = 36\n",
            "6 * 7 = 42\n",
            "6 * 8 = 48\n",
            "6 * 9 = 54\n",
            "7 단 ----------------------------\n",
            "7 * 1 = 7\n",
            "7 * 2 = 14\n",
            "7 * 3 = 21\n",
            "7 * 4 = 28\n",
            "7 * 5 = 35\n",
            "7 * 6 = 42\n",
            "7 * 7 = 49\n",
            "7 * 8 = 56\n",
            "7 * 9 = 63\n",
            "8 단 ----------------------------\n",
            "8 * 1 = 8\n",
            "8 * 2 = 16\n",
            "8 * 3 = 24\n",
            "8 * 4 = 32\n",
            "8 * 5 = 40\n",
            "8 * 6 = 48\n",
            "8 * 7 = 56\n",
            "8 * 8 = 64\n",
            "8 * 9 = 72\n",
            "9 단 ----------------------------\n",
            "9 * 1 = 9\n",
            "9 * 2 = 18\n",
            "9 * 3 = 27\n",
            "9 * 4 = 36\n",
            "9 * 5 = 45\n",
            "9 * 6 = 54\n",
            "9 * 7 = 63\n",
            "9 * 8 = 72\n",
            "9 * 9 = 81\n"
          ]
        }
      ]
    },
    {
      "cell_type": "markdown",
      "source": [
        "###6. for 문 이용한 .format 예제"
      ],
      "metadata": {
        "id": "ww4bgS2LZyLI"
      }
    },
    {
      "cell_type": "code",
      "source": [
        "L = [1,2,3,4,5,6,7,8,9,10]\n",
        "for i in L:\n",
        "  print('item:{0}'.format(i))"
      ],
      "metadata": {
        "colab": {
          "base_uri": "https://localhost:8080/"
        },
        "id": "uf_VTQpNZtcI",
        "outputId": "5729d739-0f7e-4e97-e950-28686c4f5d05"
      },
      "execution_count": 15,
      "outputs": [
        {
          "output_type": "stream",
          "name": "stdout",
          "text": [
            "item:1\n",
            "item:2\n",
            "item:3\n",
            "item:4\n",
            "item:5\n",
            "item:6\n",
            "item:7\n",
            "item:8\n",
            "item:9\n",
            "item:10\n"
          ]
        }
      ]
    },
    {
      "cell_type": "markdown",
      "source": [
        "###7. break문\n",
        "break문을 사용하면 반복문을 중간에 멈출 수 있다."
      ],
      "metadata": {
        "id": "n5z5Kn9SaC1z"
      }
    },
    {
      "cell_type": "code",
      "source": [
        "for i in L:\n",
        "  if i > 5:\n",
        "    break\n",
        "  print('item:{0}'.format(i))"
      ],
      "metadata": {
        "colab": {
          "base_uri": "https://localhost:8080/"
        },
        "id": "mhQBKLFoaBPb",
        "outputId": "4cedf95f-d4a4-4f7b-fa92-2dcf40a603ea"
      },
      "execution_count": 16,
      "outputs": [
        {
          "output_type": "stream",
          "name": "stdout",
          "text": [
            "item:1\n",
            "item:2\n",
            "item:3\n",
            "item:4\n",
            "item:5\n"
          ]
        }
      ]
    },
    {
      "cell_type": "markdown",
      "source": [
        "###8. continue문\n",
        "continue문을 사용하면 해당 반복만 건너뛴다."
      ],
      "metadata": {
        "id": "aOxsDnPzbFXs"
      }
    },
    {
      "cell_type": "code",
      "source": [
        "for i in L:\n",
        "  if i%2 == 0:       #짝수 될 때마다 건너뛴다.\n",
        "    continue\n",
        "  print('item : {0}'.format(i))"
      ],
      "metadata": {
        "colab": {
          "base_uri": "https://localhost:8080/"
        },
        "id": "oxVYMd7CbCel",
        "outputId": "bc8a3dfd-384b-49bc-91bc-8c811b28d88a"
      },
      "execution_count": 18,
      "outputs": [
        {
          "output_type": "stream",
          "name": "stdout",
          "text": [
            "item : 1\n",
            "item : 3\n",
            "item : 5\n",
            "item : 7\n",
            "item : 9\n"
          ]
        }
      ]
    },
    {
      "cell_type": "markdown",
      "source": [
        "###9. range 함수\n",
        "range 함수를 사용하면 특정 범위의 숫자를 생성할 수 있다."
      ],
      "metadata": {
        "id": "G_vhwr-3bkbG"
      }
    },
    {
      "cell_type": "code",
      "source": [
        "range(0,10)"
      ],
      "metadata": {
        "colab": {
          "base_uri": "https://localhost:8080/"
        },
        "id": "nWPFGbNybcmD",
        "outputId": "98329ca1-de3c-4abe-9b0a-8364e11a5a1e"
      },
      "execution_count": 19,
      "outputs": [
        {
          "output_type": "execute_result",
          "data": {
            "text/plain": [
              "range(0, 10)"
            ]
          },
          "metadata": {},
          "execution_count": 19
        }
      ]
    },
    {
      "cell_type": "code",
      "source": [
        "range(10)"
      ],
      "metadata": {
        "colab": {
          "base_uri": "https://localhost:8080/"
        },
        "id": "OtvEGkS_bs4Q",
        "outputId": "1c6162dd-9812-483b-93f9-0eae1b867ed5"
      },
      "execution_count": 20,
      "outputs": [
        {
          "output_type": "execute_result",
          "data": {
            "text/plain": [
              "range(0, 10)"
            ]
          },
          "metadata": {},
          "execution_count": 20
        }
      ]
    },
    {
      "cell_type": "code",
      "source": [
        "print(list(range(10)))\n",
        "print(list(range(5,10)))\n",
        "print(list(range(10,0,-1)))       #-1은 증가값\n",
        "print(list(range(0,10,2)))\n",
        "print(list(range(1,10,2)))"
      ],
      "metadata": {
        "colab": {
          "base_uri": "https://localhost:8080/"
        },
        "id": "cvT3nQRbbubk",
        "outputId": "a2ce98ff-4966-42d0-b83d-59ae1b964e13"
      },
      "execution_count": 21,
      "outputs": [
        {
          "output_type": "stream",
          "name": "stdout",
          "text": [
            "[0, 1, 2, 3, 4, 5, 6, 7, 8, 9]\n",
            "[5, 6, 7, 8, 9]\n",
            "[10, 9, 8, 7, 6, 5, 4, 3, 2, 1]\n",
            "[0, 2, 4, 6, 8]\n",
            "[1, 3, 5, 7, 9]\n"
          ]
        }
      ]
    },
    {
      "cell_type": "code",
      "source": [
        "L = ['Apple', 'Orange', 'Banana']\n",
        "for i in L:\n",
        "  print(i)"
      ],
      "metadata": {
        "colab": {
          "base_uri": "https://localhost:8080/"
        },
        "id": "K0kq7IC3b8QZ",
        "outputId": "760eeefd-da8d-46e7-9f94-21e67b7ec657"
      },
      "execution_count": 22,
      "outputs": [
        {
          "output_type": "stream",
          "name": "stdout",
          "text": [
            "Apple\n",
            "Orange\n",
            "Banana\n"
          ]
        }
      ]
    },
    {
      "cell_type": "code",
      "source": [
        "I = list(range(1,6))\n",
        "[print (i) for i in I]"
      ],
      "metadata": {
        "colab": {
          "base_uri": "https://localhost:8080/"
        },
        "id": "-NCUx7hycO0f",
        "outputId": "7959e441-c3c9-4c72-ec22-a92b5fd28dfd"
      },
      "execution_count": 24,
      "outputs": [
        {
          "output_type": "stream",
          "name": "stdout",
          "text": [
            "1\n",
            "2\n",
            "3\n",
            "4\n",
            "5\n"
          ]
        },
        {
          "output_type": "execute_result",
          "data": {
            "text/plain": [
              "[None, None, None, None, None]"
            ]
          },
          "metadata": {},
          "execution_count": 24
        }
      ]
    },
    {
      "cell_type": "code",
      "source": [
        "I = list(range(1,6))\n",
        "for i in I:\n",
        "  print(\"{0}\".format(i))"
      ],
      "metadata": {
        "colab": {
          "base_uri": "https://localhost:8080/"
        },
        "id": "U6s0JHFEcWTX",
        "outputId": "d8ec865a-71bd-43e3-8918-241913ce4068"
      },
      "execution_count": 26,
      "outputs": [
        {
          "output_type": "stream",
          "name": "stdout",
          "text": [
            "1\n",
            "2\n",
            "3\n",
            "4\n",
            "5\n"
          ]
        }
      ]
    }
  ]
}
