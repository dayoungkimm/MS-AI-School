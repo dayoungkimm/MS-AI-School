{
  "nbformat": 4,
  "nbformat_minor": 0,
  "metadata": {
    "colab": {
      "provenance": [],
      "authorship_tag": "ABX9TyO4QLgqaJdWOH33KHgSkOB5",
      "include_colab_link": true
    },
    "kernelspec": {
      "name": "python3",
      "display_name": "Python 3"
    },
    "language_info": {
      "name": "python"
    }
  },
  "cells": [
    {
      "cell_type": "markdown",
      "metadata": {
        "id": "view-in-github",
        "colab_type": "text"
      },
      "source": [
        "<a href=\"https://colab.research.google.com/github/dayoungkimm/MS-AI-School/blob/main/Python01_%EB%8D%B0%EC%9D%B4%ED%84%B0_%ED%83%80%EC%9E%85.ipynb\" target=\"_parent\"><img src=\"https://colab.research.google.com/assets/colab-badge.svg\" alt=\"Open In Colab\"/></a>"
      ]
    },
    {
      "cell_type": "markdown",
      "source": [
        "2023-04-16 복습\n",
        "\n"
      ],
      "metadata": {
        "id": "Wyl5dQpF-TUg"
      }
    },
    {
      "cell_type": "markdown",
      "source": [
        "### 1. 변수 규칙\n",
        "\n",
        "*   항상 변수는 문자로 시작해야 한다.\n",
        "*   가급적 풀 워드 / 정확한 영어로 짓는다.\n",
        "*   대소문자를 구별한다.\n",
        "*   예약어는 사용할 수 없다.\n",
        "\n",
        "\n",
        "\n",
        "\n",
        "\n",
        "\n"
      ],
      "metadata": {
        "id": "zgqeKJOT-mNd"
      }
    },
    {
      "cell_type": "code",
      "source": [
        "a = 2\n",
        "b = 3\n",
        "\n",
        "print(a + b)"
      ],
      "metadata": {
        "colab": {
          "base_uri": "https://localhost:8080/"
        },
        "id": "_Knr31CWAo7m",
        "outputId": "bc98cf82-4084-4dec-8e23-427b6a8904cc"
      },
      "execution_count": 3,
      "outputs": [
        {
          "output_type": "stream",
          "name": "stdout",
          "text": [
            "5\n"
          ]
        }
      ]
    },
    {
      "cell_type": "markdown",
      "source": [
        "###2. type() 데이터 타입을 확인하는 함수"
      ],
      "metadata": {
        "id": "DN0PJ-eDAw7q"
      }
    },
    {
      "cell_type": "code",
      "execution_count": 2,
      "metadata": {
        "colab": {
          "base_uri": "https://localhost:8080/"
        },
        "id": "GUGF_Jng-AWZ",
        "outputId": "802eb3bf-023b-448f-e128-3310db1c8910"
      },
      "outputs": [
        {
          "output_type": "stream",
          "name": "stdout",
          "text": [
            "<class 'int'>\n",
            "<class 'str'>\n"
          ]
        }
      ],
      "source": [
        "#type() 데이터 타입을 확인하는 함수\n",
        "\n",
        "year = 2023\n",
        "print(type(year))\n",
        "\n",
        "year = '이천이십삼년'\n",
        "print(type(year))"
      ]
    },
    {
      "cell_type": "markdown",
      "source": [
        "###3. 파이썬의 진수, 정수, 실수 타입"
      ],
      "metadata": {
        "id": "_oaPwQBbAIcp"
      }
    },
    {
      "cell_type": "markdown",
      "source": [
        "1. 파이썬의 진수 타입"
      ],
      "metadata": {
        "id": "xv37rJAYB1Gd"
      }
    },
    {
      "cell_type": "code",
      "source": [
        "# 파이썬의 진수 타입\n",
        "\n",
        "#8진수 : 정수 앞에 0o를 붙인다.\n",
        "#2진수 : 정수 앞에 0b를 붙인다.\n",
        "#16진수 : 정수 앞에 0x를 붙인다.\n",
        "\n",
        "print(0o10)\n",
        "print(0b10)\n",
        "print(0x10)"
      ],
      "metadata": {
        "colab": {
          "base_uri": "https://localhost:8080/"
        },
        "id": "tIsEyG7Y_w11",
        "outputId": "67cd42ca-a11e-448b-f38c-6e41c2402f98"
      },
      "execution_count": 5,
      "outputs": [
        {
          "output_type": "stream",
          "name": "stdout",
          "text": [
            "8\n",
            "2\n",
            "16\n"
          ]
        }
      ]
    },
    {
      "cell_type": "code",
      "source": [
        "# 10진수를 받아서 각 진수로 변환하는 방법(결과는 문자형)\n",
        "\n",
        "print(type(oct(38)))\n",
        "print(oct(38))        #10진수 38을 8진수로 변환\n",
        "print(hex(38))        #10진수 38을 16진수로 변환\n",
        "print(bin(38))        #10진수 38을 2진수로 변환"
      ],
      "metadata": {
        "colab": {
          "base_uri": "https://localhost:8080/"
        },
        "id": "AcL4IFJvBSAM",
        "outputId": "87c60abc-2c45-45f9-d5eb-2f6aa5b92e4c"
      },
      "execution_count": 6,
      "outputs": [
        {
          "output_type": "stream",
          "name": "stdout",
          "text": [
            "<class 'str'>\n",
            "0o46\n",
            "0x26\n",
            "0b100110\n"
          ]
        }
      ]
    },
    {
      "cell_type": "markdown",
      "source": [
        "2. 파이썬의 정수 타입"
      ],
      "metadata": {
        "id": "H2kUVJSXCJBj"
      }
    },
    {
      "cell_type": "code",
      "source": [
        "print(type(1))        #int\n",
        "print(type(2**31))    #2의 31승 파이썬 3.0 int형으로 정수형 통합\n",
        "print(type(314e-2))   "
      ],
      "metadata": {
        "colab": {
          "base_uri": "https://localhost:8080/"
        },
        "id": "jZtoUcfUBtBu",
        "outputId": "02cc40e7-b1f3-4254-deee-eaeb12894cbb"
      },
      "execution_count": 7,
      "outputs": [
        {
          "output_type": "stream",
          "name": "stdout",
          "text": [
            "<class 'int'>\n",
            "<class 'int'>\n",
            "<class 'float'>\n"
          ]
        }
      ]
    },
    {
      "cell_type": "markdown",
      "source": [
        "3. 파이썬의 실수 타입"
      ],
      "metadata": {
        "id": "M2qutbnqCdaV"
      }
    },
    {
      "cell_type": "code",
      "source": [
        "print(type(3.14))\n",
        "print(type(314e-2))\n",
        "print(type(3-4j))     #복소수\n",
        "\n",
        "x = 3 - 4j\n",
        "print(x.imag)          #imag는 허수부\n",
        "print(x.real)          #real은 실수부\n",
        "print(x.conjugate())   #conjugate는 켤레 복소수를 확인"
      ],
      "metadata": {
        "colab": {
          "base_uri": "https://localhost:8080/"
        },
        "id": "dUvvHfTICcbT",
        "outputId": "22711566-6fde-4f1a-e8b1-c7d429e3fe89"
      },
      "execution_count": 8,
      "outputs": [
        {
          "output_type": "stream",
          "name": "stdout",
          "text": [
            "<class 'float'>\n",
            "<class 'float'>\n",
            "<class 'complex'>\n",
            "-4.0\n",
            "3.0\n",
            "(3+4j)\n"
          ]
        }
      ]
    },
    {
      "cell_type": "markdown",
      "source": [
        "###4. 문자형 실습 (' ', \" \" 둘 다 가능)"
      ],
      "metadata": {
        "id": "eT_ZjC9XDLfk"
      }
    },
    {
      "cell_type": "code",
      "source": [
        "print('Hello World')\n",
        "print(\"Hello World\")\n",
        "print(\"Welcome to 'Python World'\")"
      ],
      "metadata": {
        "colab": {
          "base_uri": "https://localhost:8080/"
        },
        "id": "QZfzcF-JC9Sl",
        "outputId": "945891b1-476b-42c9-c74e-2cd31fab2170"
      },
      "execution_count": 9,
      "outputs": [
        {
          "output_type": "stream",
          "name": "stdout",
          "text": [
            "Hello World\n",
            "Hello World\n",
            "Welcome to 'Python World'\n"
          ]
        }
      ]
    },
    {
      "cell_type": "code",
      "source": [
        "print('''\n",
        "항상 태양을 바라보아라\n",
        "그리하면 너는 그림자를 볼 수 없을 것이다.\n",
        "      \n",
        "          -헬렌켈러\n",
        "''')"
      ],
      "metadata": {
        "colab": {
          "base_uri": "https://localhost:8080/"
        },
        "id": "2KtC090sDYGM",
        "outputId": "fa4a9d4d-b9bb-4623-ff75-20e91f914ab0"
      },
      "execution_count": 10,
      "outputs": [
        {
          "output_type": "stream",
          "name": "stdout",
          "text": [
            "\n",
            "항상 태양을 바라보아라\n",
            "그리하면 너는 그림자를 볼 수 없을 것이다.\n",
            "      \n",
            "          -헬렌켈러\n",
            "\n"
          ]
        }
      ]
    },
    {
      "cell_type": "code",
      "source": [
        "print('\\t탭 \\n다음줄')"
      ],
      "metadata": {
        "colab": {
          "base_uri": "https://localhost:8080/"
        },
        "id": "Nq4A5Lf-DhdO",
        "outputId": "e8f61f22-d04a-4d79-a57a-5ec652400da2"
      },
      "execution_count": 11,
      "outputs": [
        {
          "output_type": "stream",
          "name": "stdout",
          "text": [
            "\t탭 \n",
            "다음줄\n"
          ]
        }
      ]
    },
    {
      "cell_type": "code",
      "source": [
        "print('py' 'thon')\n",
        "print('py' + 'thon')"
      ],
      "metadata": {
        "colab": {
          "base_uri": "https://localhost:8080/"
        },
        "id": "v1e45J_KDzMU",
        "outputId": "e8c7d132-75bc-4fc3-b7e1-883d411d891d"
      },
      "execution_count": 12,
      "outputs": [
        {
          "output_type": "stream",
          "name": "stdout",
          "text": [
            "python\n",
            "python\n"
          ]
        }
      ]
    },
    {
      "cell_type": "code",
      "source": [
        "print('py'*3)"
      ],
      "metadata": {
        "colab": {
          "base_uri": "https://localhost:8080/"
        },
        "id": "LPo9cOF_D4i4",
        "outputId": "291d9361-abb7-442a-a42a-694a9fb01000"
      },
      "execution_count": 13,
      "outputs": [
        {
          "output_type": "stream",
          "name": "stdout",
          "text": [
            "pypypy\n"
          ]
        }
      ]
    },
    {
      "cell_type": "markdown",
      "source": [
        "### 5. Index"
      ],
      "metadata": {
        "id": "GAO58rBMECgh"
      }
    },
    {
      "cell_type": "markdown",
      "source": [
        "1. Index로 문자 불러오기"
      ],
      "metadata": {
        "id": "E4ZQ0RJMEGI7"
      }
    },
    {
      "cell_type": "code",
      "source": [
        "a = 'Python'\n",
        "print(a[0])\n",
        "print(a[0+1])\n",
        "print(a[2])"
      ],
      "metadata": {
        "colab": {
          "base_uri": "https://localhost:8080/"
        },
        "id": "DOselQ0AD8Ra",
        "outputId": "7d131b6c-2b26-444b-f86b-100b5c5c0e16"
      },
      "execution_count": 14,
      "outputs": [
        {
          "output_type": "stream",
          "name": "stdout",
          "text": [
            "P\n",
            "y\n",
            "t\n"
          ]
        }
      ]
    },
    {
      "cell_type": "markdown",
      "source": [
        "2. index는 read-only 속성"
      ],
      "metadata": {
        "id": "7LG4Wde_Ecp8"
      }
    },
    {
      "cell_type": "code",
      "source": [
        "a[0] = 'A'    #index read-only 속성이라 수정은 불가능합니다."
      ],
      "metadata": {
        "colab": {
          "base_uri": "https://localhost:8080/",
          "height": 172
        },
        "id": "i5wRUpJ-EUKC",
        "outputId": "312af841-1906-4acc-bd5e-f2bd13a878ac"
      },
      "execution_count": 15,
      "outputs": [
        {
          "output_type": "error",
          "ename": "TypeError",
          "evalue": "ignored",
          "traceback": [
            "\u001b[0;31m---------------------------------------------------------------------------\u001b[0m",
            "\u001b[0;31mTypeError\u001b[0m                                 Traceback (most recent call last)",
            "\u001b[0;32m<ipython-input-15-82ca0188fc4b>\u001b[0m in \u001b[0;36m<cell line: 1>\u001b[0;34m()\u001b[0m\n\u001b[0;32m----> 1\u001b[0;31m \u001b[0ma\u001b[0m\u001b[0;34m[\u001b[0m\u001b[0;36m0\u001b[0m\u001b[0;34m]\u001b[0m \u001b[0;34m=\u001b[0m \u001b[0;34m'A'\u001b[0m    \u001b[0;31m#index read-only 속성이라 수정은 불가능합니다.\u001b[0m\u001b[0;34m\u001b[0m\u001b[0;34m\u001b[0m\u001b[0m\n\u001b[0m",
            "\u001b[0;31mTypeError\u001b[0m: 'str' object does not support item assignment"
          ]
        }
      ]
    },
    {
      "cell_type": "markdown",
      "source": [
        "3. index를 이용해서 범위를 설정할 수 있다. (slice 기법)"
      ],
      "metadata": {
        "id": "1_113vgnEhQX"
      }
    },
    {
      "cell_type": "code",
      "source": [
        "print(a[0:1])\n",
        "print(a[1:4])\n",
        "print(a[:2])        #생략은 해당 방향의 끝을 나타낸다.\n",
        "print(a[2:])\n",
        "print(a[-2:])\n",
        "print(a[:])\n",
        "print(a[::2])       #증가식"
      ],
      "metadata": {
        "colab": {
          "base_uri": "https://localhost:8080/"
        },
        "id": "MDOxsshJEgh_",
        "outputId": "25113b2b-aa10-4546-8fc5-08acf0822482"
      },
      "execution_count": 16,
      "outputs": [
        {
          "output_type": "stream",
          "name": "stdout",
          "text": [
            "P\n",
            "yth\n",
            "Py\n",
            "thon\n",
            "on\n",
            "Python\n",
            "Pto\n"
          ]
        }
      ]
    },
    {
      "cell_type": "markdown",
      "source": [
        "###6. 데이터 타입의 변환"
      ],
      "metadata": {
        "id": "7rijS5_xFJry"
      }
    },
    {
      "cell_type": "code",
      "source": [
        "print(str(3.14))      #문자형으로 변환\n",
        "print(int('49'))      #정수형으로 변환\n",
        "print(float(23))      #실수형으로 변환"
      ],
      "metadata": {
        "colab": {
          "base_uri": "https://localhost:8080/"
        },
        "id": "1hQDL7bYFIhv",
        "outputId": "8ebfe284-7359-4f58-b8b9-0e04ca68fdd9"
      },
      "execution_count": 18,
      "outputs": [
        {
          "output_type": "stream",
          "name": "stdout",
          "text": [
            "3.14\n",
            "49\n",
            "23.0\n"
          ]
        }
      ]
    },
    {
      "cell_type": "markdown",
      "source": [
        "###7. 기타 예제"
      ],
      "metadata": {
        "id": "S4quq2mpFemD"
      }
    },
    {
      "cell_type": "code",
      "source": [
        "# 원의 넓이와 삼각형 넓이 구하기\n",
        "r = 2\n",
        "circle_area = (r**2) * 3.14\n",
        "print(circle_area)\n",
        "\n",
        "x = 3\n",
        "y = 4\n",
        "triangle_area = x * y / 2\n",
        "print(triangle_area)"
      ],
      "metadata": {
        "colab": {
          "base_uri": "https://localhost:8080/"
        },
        "id": "yBpeuy7CFbpY",
        "outputId": "e3049529-dc32-4362-adec-080091b1bc50"
      },
      "execution_count": 19,
      "outputs": [
        {
          "output_type": "stream",
          "name": "stdout",
          "text": [
            "12.56\n",
            "6.0\n"
          ]
        }
      ]
    },
    {
      "cell_type": "code",
      "source": [],
      "metadata": {
        "id": "Bclc812YFxq_"
      },
      "execution_count": null,
      "outputs": []
    }
  ]
}
