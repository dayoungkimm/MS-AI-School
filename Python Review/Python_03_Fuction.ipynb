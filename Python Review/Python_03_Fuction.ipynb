{
  "nbformat": 4,
  "nbformat_minor": 0,
  "metadata": {
    "colab": {
      "provenance": [],
      "authorship_tag": "ABX9TyM0z1H9G7NsjEY7oVnkAlmT",
      "include_colab_link": true
    },
    "kernelspec": {
      "name": "python3",
      "display_name": "Python 3"
    },
    "language_info": {
      "name": "python"
    }
  },
  "cells": [
    {
      "cell_type": "markdown",
      "metadata": {
        "id": "view-in-github",
        "colab_type": "text"
      },
      "source": [
        "<a href=\"https://colab.research.google.com/github/dayoungkimm/MS-AI-School/blob/main/Python_03_Fuction.ipynb\" target=\"_parent\"><img src=\"https://colab.research.google.com/assets/colab-badge.svg\" alt=\"Open In Colab\"/></a>"
      ]
    },
    {
      "cell_type": "markdown",
      "source": [
        "2023-04-16 복습"
      ],
      "metadata": {
        "id": "CF5rZlzFUfgp"
      }
    },
    {
      "cell_type": "markdown",
      "source": [
        "###1. Function"
      ],
      "metadata": {
        "id": "o-_GAYjzQrwn"
      }
    },
    {
      "cell_type": "code",
      "execution_count": 1,
      "metadata": {
        "id": "cqxLvIh0QgaU"
      },
      "outputs": [],
      "source": [
        "def Times(a,b):\n",
        "  result = a*b\n",
        "  return result"
      ]
    },
    {
      "cell_type": "code",
      "source": [
        "print(Times)"
      ],
      "metadata": {
        "colab": {
          "base_uri": "https://localhost:8080/"
        },
        "id": "_hury7gwQz6G",
        "outputId": "3813704f-2db9-4b35-d2fb-44cd73700e45"
      },
      "execution_count": 3,
      "outputs": [
        {
          "output_type": "stream",
          "name": "stdout",
          "text": [
            "<function Times at 0x7f6b50924af0>\n"
          ]
        }
      ]
    },
    {
      "cell_type": "code",
      "source": [
        "print(Times(10,20))"
      ],
      "metadata": {
        "colab": {
          "base_uri": "https://localhost:8080/"
        },
        "id": "DVzw9SNkQ7gA",
        "outputId": "6e1f0dbf-c0b1-44f3-a6cb-29ff59aec5a2"
      },
      "execution_count": 4,
      "outputs": [
        {
          "output_type": "stream",
          "name": "stdout",
          "text": [
            "200\n"
          ]
        }
      ]
    },
    {
      "cell_type": "markdown",
      "source": [
        "###2. 메모리 주소를 확인하는 명령"
      ],
      "metadata": {
        "id": "jFEd5F-XRBlD"
      }
    },
    {
      "cell_type": "code",
      "source": [
        "print(id(Times))"
      ],
      "metadata": {
        "colab": {
          "base_uri": "https://localhost:8080/"
        },
        "id": "ojK-wOhBRAUU",
        "outputId": "fb865c4c-9f3e-4da2-de17-9530ab85b362"
      },
      "execution_count": 5,
      "outputs": [
        {
          "output_type": "stream",
          "name": "stdout",
          "text": [
            "140098889992944\n"
          ]
        }
      ]
    },
    {
      "cell_type": "code",
      "source": [
        "globals()"
      ],
      "metadata": {
        "colab": {
          "base_uri": "https://localhost:8080/"
        },
        "id": "w7ZZldHORKfW",
        "outputId": "b882fe32-f504-47ab-df4f-9346467d4136"
      },
      "execution_count": 6,
      "outputs": [
        {
          "output_type": "execute_result",
          "data": {
            "text/plain": [
              "{'__name__': '__main__',\n",
              " '__doc__': 'Automatically created module for IPython interactive environment',\n",
              " '__package__': None,\n",
              " '__loader__': None,\n",
              " '__spec__': None,\n",
              " '__builtin__': <module 'builtins' (built-in)>,\n",
              " '__builtins__': <module 'builtins' (built-in)>,\n",
              " '_ih': ['',\n",
              "  'def Times(a,b):\\n  result = a*b\\n  return result',\n",
              "  'print(Timres)',\n",
              "  'print(Times)',\n",
              "  'print(Times(10,20))',\n",
              "  'print(id(Times))',\n",
              "  'globals()'],\n",
              " '_oh': {},\n",
              " '_dh': ['/content'],\n",
              " 'In': ['',\n",
              "  'def Times(a,b):\\n  result = a*b\\n  return result',\n",
              "  'print(Timres)',\n",
              "  'print(Times)',\n",
              "  'print(Times(10,20))',\n",
              "  'print(id(Times))',\n",
              "  'globals()'],\n",
              " 'Out': {},\n",
              " 'get_ipython': <bound method InteractiveShell.get_ipython of <google.colab._shell.Shell object at 0x7f6b6e13df10>>,\n",
              " 'exit': <IPython.core.autocall.ZMQExitAutocall at 0x7f6b6dd37340>,\n",
              " 'quit': <IPython.core.autocall.ZMQExitAutocall at 0x7f6b6dd37340>,\n",
              " '_': '',\n",
              " '__': '',\n",
              " '___': '',\n",
              " '_i': 'print(id(Times))',\n",
              " '_ii': 'print(Times(10,20))',\n",
              " '_iii': 'print(Times)',\n",
              " '_i1': 'def Times(a,b):\\n  result = a*b\\n  return result',\n",
              " 'Times': <function __main__.Times(a, b)>,\n",
              " '_i2': 'print(Timres)',\n",
              " '_i3': 'print(Times)',\n",
              " '_i4': 'print(Times(10,20))',\n",
              " '_i5': 'print(id(Times))',\n",
              " '_i6': 'globals()'}"
            ]
          },
          "metadata": {},
          "execution_count": 6
        }
      ]
    },
    {
      "cell_type": "code",
      "source": [
        "myTimes = Times\n",
        "print(myTimes(10,20))"
      ],
      "metadata": {
        "colab": {
          "base_uri": "https://localhost:8080/"
        },
        "id": "p8kMngrdRLwW",
        "outputId": "cc648771-8bee-4b61-c394-62d42f768472"
      },
      "execution_count": 8,
      "outputs": [
        {
          "output_type": "stream",
          "name": "stdout",
          "text": [
            "200\n"
          ]
        }
      ]
    },
    {
      "cell_type": "code",
      "source": [
        "print(id(myTimes))"
      ],
      "metadata": {
        "colab": {
          "base_uri": "https://localhost:8080/"
        },
        "id": "DW87p2idRPoz",
        "outputId": "db25b3e0-ef1c-4350-b21e-ea9e0903eb8e"
      },
      "execution_count": 9,
      "outputs": [
        {
          "output_type": "stream",
          "name": "stdout",
          "text": [
            "140098889992944\n"
          ]
        }
      ]
    },
    {
      "cell_type": "code",
      "source": [
        "a = 10\n",
        "b = 20\n",
        "def sum1(x,y):\n",
        "  return x + y"
      ],
      "metadata": {
        "id": "t-wGeROmRTc9"
      },
      "execution_count": 10,
      "outputs": []
    },
    {
      "cell_type": "code",
      "source": [
        "print(sum1(a,b))"
      ],
      "metadata": {
        "colab": {
          "base_uri": "https://localhost:8080/"
        },
        "id": "ia11GnsJRdZN",
        "outputId": "afee3b0e-45a2-4dad-a524-edb381275863"
      },
      "execution_count": 11,
      "outputs": [
        {
          "output_type": "stream",
          "name": "stdout",
          "text": [
            "30\n"
          ]
        }
      ]
    },
    {
      "cell_type": "markdown",
      "source": [
        "###3. 변수의 범위\n",
        "함수 안의 x 와 함수 밖의 x는 다른 x"
      ],
      "metadata": {
        "id": "rSkFktr7RqGK"
      }
    },
    {
      "cell_type": "code",
      "source": [
        "x = 10\n",
        "def sum2(x,y):\n",
        "  x = 1\n",
        "  return x,y\n",
        "  \n",
        "print(sum2(x,20))\n",
        "print(x)"
      ],
      "metadata": {
        "colab": {
          "base_uri": "https://localhost:8080/"
        },
        "id": "mukFafrCRn2v",
        "outputId": "731506db-7773-46c3-9fd0-5708cdf88af3"
      },
      "execution_count": 13,
      "outputs": [
        {
          "output_type": "stream",
          "name": "stdout",
          "text": [
            "(1, 20)\n",
            "10\n"
          ]
        }
      ]
    },
    {
      "cell_type": "code",
      "source": [
        "g = 10\n",
        "x = 20\n",
        "def sum2(x,y):\n",
        "  global g\n",
        "  g = g+1\n",
        "  return x,y\n",
        "\n",
        "print(sum2(x,20))\n",
        "print(g)"
      ],
      "metadata": {
        "colab": {
          "base_uri": "https://localhost:8080/"
        },
        "id": "O9zZ5dueSQbr",
        "outputId": "e83a88c0-fcc9-47b3-b3f1-b24d21c8ebac"
      },
      "execution_count": 14,
      "outputs": [
        {
          "output_type": "stream",
          "name": "stdout",
          "text": [
            "(20, 20)\n",
            "11\n"
          ]
        }
      ]
    },
    {
      "cell_type": "markdown",
      "source": [
        "###4. 함수의 인자 (Parameter)"
      ],
      "metadata": {
        "id": "mGbeZS30Sz-9"
      }
    },
    {
      "cell_type": "code",
      "source": [
        "def Times(a=10, b=20):        #default 값 지정\n",
        "  return a*b\n",
        "\n",
        "print(Times(100,200))\n",
        "print(Times(100))             #b 값은 default값으로\n",
        "print(Times())\n",
        "print(Times(b=200))           #a 값은 default값으로"
      ],
      "metadata": {
        "colab": {
          "base_uri": "https://localhost:8080/"
        },
        "id": "wS9drDD6SuRP",
        "outputId": "0e5a12e7-01fa-4aaf-884d-a9b4cbf5fdb3"
      },
      "execution_count": 15,
      "outputs": [
        {
          "output_type": "stream",
          "name": "stdout",
          "text": [
            "20000\n",
            "2000\n",
            "200\n",
            "2000\n"
          ]
        }
      ]
    },
    {
      "cell_type": "code",
      "source": [
        "def connectURL(protocol,server,port):\n",
        "  address = protocol + '://' +server + ':' +port\n",
        "  return address\n",
        "\n",
        "print(connectURL('https', server='naver.com', port='80'))\n",
        "\n",
        "def connectURL(protocol= 'https', server='naver.com', port='80'):\n",
        "  address = protocol + '://' +server + ':' +port\n",
        "  return address\n",
        "\n",
        "print(connectURL(server='microsoft.com', port = '80'))\n",
        "\n",
        "def connectURL(protocol = 'https', server = 'naver.com', port = '8080'):\n",
        "  address = protocol + '://' + server + ':' + port\n",
        "  return address\n",
        "\n",
        "print(connectURL(port = '8080'))\n"
      ],
      "metadata": {
        "colab": {
          "base_uri": "https://localhost:8080/"
        },
        "id": "rAmRCcfjTQLC",
        "outputId": "9abf0f32-73c8-4b70-af41-84b4158071b0"
      },
      "execution_count": 16,
      "outputs": [
        {
          "output_type": "stream",
          "name": "stdout",
          "text": [
            "https://naver.com:80\n",
            "https://microsoft.com:80\n",
            "https://naver.com:8080\n"
          ]
        }
      ]
    },
    {
      "cell_type": "markdown",
      "source": [
        "###5. 가변인자 함수"
      ],
      "metadata": {
        "id": "c_OllguyUKAI"
      }
    },
    {
      "cell_type": "code",
      "source": [
        "def test(*args):\n",
        "  print(type(args))\n",
        "  print(args)\n",
        "\n",
        "test(1,2,3,4,5)\n",
        "test(1,2,3)"
      ],
      "metadata": {
        "colab": {
          "base_uri": "https://localhost:8080/"
        },
        "id": "Io9wetsFUISN",
        "outputId": "fbac8d02-384c-4672-9ab6-697f82aa62b6"
      },
      "execution_count": 17,
      "outputs": [
        {
          "output_type": "stream",
          "name": "stdout",
          "text": [
            "<class 'tuple'>\n",
            "(1, 2, 3, 4, 5)\n",
            "<class 'tuple'>\n",
            "(1, 2, 3)\n"
          ]
        }
      ]
    }
  ]
}
