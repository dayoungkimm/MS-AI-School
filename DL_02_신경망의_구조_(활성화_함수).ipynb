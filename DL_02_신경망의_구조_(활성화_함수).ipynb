{
  "nbformat": 4,
  "nbformat_minor": 0,
  "metadata": {
    "colab": {
      "provenance": [],
      "authorship_tag": "ABX9TyOa1rQsYstVl9KGOuLOrmhy",
      "include_colab_link": true
    },
    "kernelspec": {
      "name": "python3",
      "display_name": "Python 3"
    },
    "language_info": {
      "name": "python"
    }
  },
  "cells": [
    {
      "cell_type": "markdown",
      "metadata": {
        "id": "view-in-github",
        "colab_type": "text"
      },
      "source": [
        "<a href=\"https://colab.research.google.com/github/dayoungkimm/MS-AI-School/blob/main/DL_02_%EC%8B%A0%EA%B2%BD%EB%A7%9D%EC%9D%98_%EA%B5%AC%EC%A1%B0_(%ED%99%9C%EC%84%B1%ED%99%94_%ED%95%A8%EC%88%98).ipynb\" target=\"_parent\"><img src=\"https://colab.research.google.com/assets/colab-badge.svg\" alt=\"Open In Colab\"/></a>"
      ]
    },
    {
      "cell_type": "code",
      "execution_count": null,
      "metadata": {
        "id": "P-OqnupD2nfi"
      },
      "outputs": [],
      "source": [
        "import math\n",
        "import numpy as np\n",
        "import matplotlib.pyplot as plt"
      ]
    },
    {
      "cell_type": "markdown",
      "source": [
        "##활성화 함수"
      ],
      "metadata": {
        "id": "haXVZ94v6ke2"
      }
    },
    {
      "cell_type": "markdown",
      "source": [
        "1. 계단 함수 (Step Function)\n"
      ],
      "metadata": {
        "id": "X39a5KZ16oO5"
      }
    },
    {
      "cell_type": "code",
      "source": [
        "# Activation Function "
      ],
      "metadata": {
        "id": "brDgpXjk2qAk"
      },
      "execution_count": null,
      "outputs": []
    },
    {
      "cell_type": "code",
      "source": [
        "# Step Function (계단함수)\n",
        "def step_function(x):\n",
        "  if x > 0:\n",
        "    return 1\n",
        "  else:\n",
        "    return 0"
      ],
      "metadata": {
        "id": "cdUKn6wC2vNo"
      },
      "execution_count": null,
      "outputs": []
    },
    {
      "cell_type": "code",
      "source": [
        "print(step_function(0))\n",
        "print(step_function(-1))\n",
        "print(step_function(0.1))"
      ],
      "metadata": {
        "colab": {
          "base_uri": "https://localhost:8080/"
        },
        "id": "bLBRMocG2wpy",
        "outputId": "3bee44d6-6203-4246-d218-b870a0106e74"
      },
      "execution_count": null,
      "outputs": [
        {
          "output_type": "stream",
          "name": "stdout",
          "text": [
            "0\n",
            "0\n",
            "1\n"
          ]
        }
      ]
    },
    {
      "cell_type": "code",
      "source": [
        "#배열 형태로 바꾸기\n",
        "def step_function_for_numpy(x):\n",
        "  y = x > 0\n",
        "  return y.astype(np.int)"
      ],
      "metadata": {
        "id": "shJSvrp_22nY"
      },
      "execution_count": null,
      "outputs": []
    },
    {
      "cell_type": "code",
      "source": [
        "import numpy as np\n",
        "\n",
        "a = np.array([5,3,-4,2,0])\n",
        "print(step_function_for_numpy(a))"
      ],
      "metadata": {
        "colab": {
          "base_uri": "https://localhost:8080/"
        },
        "id": "6JSofv183NVe",
        "outputId": "e47893cf-b146-41b7-df82-d03ceb1b6f4a"
      },
      "execution_count": null,
      "outputs": [
        {
          "output_type": "stream",
          "name": "stdout",
          "text": [
            "[1 1 0 1 0]\n"
          ]
        },
        {
          "output_type": "stream",
          "name": "stderr",
          "text": [
            "<ipython-input-5-5613d6eb083a>:4: DeprecationWarning: `np.int` is a deprecated alias for the builtin `int`. To silence this warning, use `int` by itself. Doing this will not modify any behavior and is safe. When replacing `np.int`, you may wish to use e.g. `np.int64` or `np.int32` to specify the precision. If you wish to review your current use, check the release note link for additional information.\n",
            "Deprecated in NumPy 1.20; for more details and guidance: https://numpy.org/devdocs/release/1.20.0-notes.html#deprecations\n",
            "  return y.astype(np.int)\n"
          ]
        }
      ]
    },
    {
      "cell_type": "markdown",
      "source": [
        "2. 시그모이드 함수\n"
      ],
      "metadata": {
        "id": "PLV6b_xM5pOs"
      }
    },
    {
      "cell_type": "code",
      "source": [
        "def sigmoid(x):\n",
        "  return 1/(1+np.exp(-x))"
      ],
      "metadata": {
        "id": "007Joxfz3c5t"
      },
      "execution_count": null,
      "outputs": []
    },
    {
      "cell_type": "code",
      "source": [
        "print(sigmoid(3))\n",
        "print(sigmoid(10))\n",
        "print(sigmoid(100))\n",
        "print(sigmoid(-3))\n",
        "print(sigmoid(-100))"
      ],
      "metadata": {
        "colab": {
          "base_uri": "https://localhost:8080/"
        },
        "id": "_Pufguq_5yvH",
        "outputId": "40625184-5f4a-4b96-f6ed-801cb8a3b8f1"
      },
      "execution_count": null,
      "outputs": [
        {
          "output_type": "stream",
          "name": "stdout",
          "text": [
            "0.9525741268224334\n",
            "0.9999546021312976\n",
            "1.0\n",
            "0.04742587317756678\n",
            "3.7200759760208356e-44\n"
          ]
        }
      ]
    },
    {
      "cell_type": "markdown",
      "source": [
        "3. Step Function vs Sigmoid Function"
      ],
      "metadata": {
        "id": "UBioGMOp67aP"
      }
    },
    {
      "cell_type": "code",
      "source": [
        "import matplotlib.pyplot as plt\n",
        "\n",
        "x = np.arange(-5,5,0.01)\n",
        "y1 = sigmoid(x)     #시그모이드 함수\n",
        "y2 = step_function_for_numpy(x)   # 계단 함수\n",
        "\n",
        "#시그모이드 함수 빨강, 계단 함수 파랑\n",
        "plt.plot(x, y1, 'r-', x, y2, 'b--')     #'r-: 실선으로 / 'r--' 점선으로 "
      ],
      "metadata": {
        "colab": {
          "base_uri": "https://localhost:8080/",
          "height": 541
        },
        "id": "mUL4NKmP6aF2",
        "outputId": "ed6a30fb-c6ae-49dc-95c1-035c4ff1cea7"
      },
      "execution_count": null,
      "outputs": [
        {
          "output_type": "stream",
          "name": "stderr",
          "text": [
            "<ipython-input-5-5613d6eb083a>:4: DeprecationWarning: `np.int` is a deprecated alias for the builtin `int`. To silence this warning, use `int` by itself. Doing this will not modify any behavior and is safe. When replacing `np.int`, you may wish to use e.g. `np.int64` or `np.int32` to specify the precision. If you wish to review your current use, check the release note link for additional information.\n",
            "Deprecated in NumPy 1.20; for more details and guidance: https://numpy.org/devdocs/release/1.20.0-notes.html#deprecations\n",
            "  return y.astype(np.int)\n"
          ]
        },
        {
          "output_type": "execute_result",
          "data": {
            "text/plain": [
              "[<matplotlib.lines.Line2D at 0x7f6b32bd5090>,\n",
              " <matplotlib.lines.Line2D at 0x7f6b32bd67a0>]"
            ]
          },
          "metadata": {},
          "execution_count": 18
        },
        {
          "output_type": "display_data",
          "data": {
            "text/plain": [
              "<Figure size 640x480 with 1 Axes>"
            ],
            "image/png": "[encoded data removed]"
          },
          "metadata": {}
        }
      ]
    },
    {
      "cell_type": "markdown",
      "source": [
        "4. ReLu 함수"
      ],
      "metadata": {
        "id": "akHvAKOf9j5u"
      }
    },
    {
      "cell_type": "code",
      "source": [
        "def ReLU(x):\n",
        "  if x > 0:\n",
        "    return x\n",
        "  else:\n",
        "    return 0"
      ],
      "metadata": {
        "id": "RHYzId9U7V6N"
      },
      "execution_count": null,
      "outputs": []
    },
    {
      "cell_type": "code",
      "source": [
        "print(ReLU(5))\n",
        "print(ReLU(-5))"
      ],
      "metadata": {
        "colab": {
          "base_uri": "https://localhost:8080/"
        },
        "id": "8F55_ckQ9rVz",
        "outputId": "a5cfa27f-a0a1-406d-a5fc-67daf3f6d461"
      },
      "execution_count": null,
      "outputs": [
        {
          "output_type": "stream",
          "name": "stdout",
          "text": [
            "5\n",
            "0\n"
          ]
        }
      ]
    },
    {
      "cell_type": "markdown",
      "source": [
        "5. 항등 함수 (Identify Function)"
      ],
      "metadata": {
        "id": "3J4ErAX_93KW"
      }
    },
    {
      "cell_type": "code",
      "source": [
        "def identify_function(x):\n",
        "  return x"
      ],
      "metadata": {
        "id": "rkDA9Zci9vlg"
      },
      "execution_count": null,
      "outputs": []
    },
    {
      "cell_type": "markdown",
      "source": [
        "6. Softmax Function"
      ],
      "metadata": {
        "id": "jC4e-8BrDN95"
      }
    },
    {
      "cell_type": "code",
      "source": [
        "def softmax(x):\n",
        "  exp_x = np.exp(x)\n",
        "  sum_exp_x = np.sum(exp_x)\n",
        "  y = exp_x / sum_exp_x\n",
        "\n",
        "  return y"
      ],
      "metadata": {
        "id": "r0teaOnLDMrp"
      },
      "execution_count": null,
      "outputs": []
    },
    {
      "cell_type": "code",
      "source": [
        "x = np.array([0.3, 0.2, 3.0, -1, 2])\n",
        "print(softmax(x))\n",
        "print(np.sum(softmax(x)))"
      ],
      "metadata": {
        "colab": {
          "base_uri": "https://localhost:8080/"
        },
        "id": "MXFaj7-0DiSI",
        "outputId": "61f67c32-cb65-4f53-bc3f-c0da98c1d8bc"
      },
      "execution_count": null,
      "outputs": [
        {
          "output_type": "stream",
          "name": "stdout",
          "text": [
            "[0.0443832  0.04015958 0.66041009 0.01209583 0.2429513 ]\n",
            "1.0\n"
          ]
        }
      ]
    },
    {
      "cell_type": "code",
      "source": [],
      "metadata": {
        "id": "zjaoDqfCEKeO"
      },
      "execution_count": null,
      "outputs": []
    }
  ]
}