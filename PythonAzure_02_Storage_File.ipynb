{
  "nbformat": 4,
  "nbformat_minor": 0,
  "metadata": {
    "colab": {
      "provenance": [],
      "authorship_tag": "ABX9TyPprvARTZGISZBqYYBTylZ4",
      "include_colab_link": true
    },
    "kernelspec": {
      "name": "python3",
      "display_name": "Python 3"
    },
    "language_info": {
      "name": "python"
    }
  },
  "cells": [
    {
      "cell_type": "markdown",
      "metadata": {
        "id": "view-in-github",
        "colab_type": "text"
      },
      "source": [
        "<a href=\"https://colab.research.google.com/github/dayoungkimm/MS-AI-School/blob/main/PythonAzure_02_Storage_File.ipynb\" target=\"_parent\"><img src=\"https://colab.research.google.com/assets/colab-badge.svg\" alt=\"Open In Colab\"/></a>"
      ]
    },
    {
      "cell_type": "markdown",
      "source": [
        "Azure File 생성 및 공유폴더 만들기/삭제"
      ],
      "metadata": {
        "id": "o9qv-K-_5e04"
      }
    },
    {
      "cell_type": "code",
      "execution_count": null,
      "metadata": {
        "colab": {
          "base_uri": "https://localhost:8080/"
        },
        "id": "6r1woBzu8vr1",
        "outputId": "6914759a-2517-4581-f332-1eb116f77f7b"
      },
      "outputs": [
        {
          "output_type": "stream",
          "name": "stdout",
          "text": [
            "Looking in indexes: https://pypi.org/simple, https://us-python.pkg.dev/colab-wheels/public/simple/\n",
            "Collecting azure-storage-file\n",
            "  Downloading azure_storage_file-2.1.0-py2.py3-none-any.whl (36 kB)\n",
            "Collecting azure-storage-common~=2.1\n",
            "  Downloading azure_storage_common-2.1.0-py2.py3-none-any.whl (47 kB)\n",
            "\u001b[2K     \u001b[90m━━━━━━━━━━━━━━━━━━━━━━━━━━━━━━━━━━━━━━━━\u001b[0m \u001b[32m47.8/47.8 kB\u001b[0m \u001b[31m1.2 MB/s\u001b[0m eta \u001b[36m0:00:00\u001b[0m\n",
            "\u001b[?25hCollecting azure-common>=1.1.5\n",
            "  Downloading azure_common-1.1.28-py2.py3-none-any.whl (14 kB)\n",
            "Requirement already satisfied: requests in /usr/local/lib/python3.9/dist-packages (from azure-storage-common~=2.1->azure-storage-file) (2.27.1)\n",
            "Requirement already satisfied: python-dateutil in /usr/local/lib/python3.9/dist-packages (from azure-storage-common~=2.1->azure-storage-file) (2.8.2)\n",
            "Requirement already satisfied: cryptography in /usr/local/lib/python3.9/dist-packages (from azure-storage-common~=2.1->azure-storage-file) (40.0.2)\n",
            "Requirement already satisfied: cffi>=1.12 in /usr/local/lib/python3.9/dist-packages (from cryptography->azure-storage-common~=2.1->azure-storage-file) (1.15.1)\n",
            "Requirement already satisfied: six>=1.5 in /usr/local/lib/python3.9/dist-packages (from python-dateutil->azure-storage-common~=2.1->azure-storage-file) (1.16.0)\n",
            "Requirement already satisfied: charset-normalizer~=2.0.0 in /usr/local/lib/python3.9/dist-packages (from requests->azure-storage-common~=2.1->azure-storage-file) (2.0.12)\n",
            "Requirement already satisfied: certifi>=2017.4.17 in /usr/local/lib/python3.9/dist-packages (from requests->azure-storage-common~=2.1->azure-storage-file) (2022.12.7)\n",
            "Requirement already satisfied: urllib3<1.27,>=1.21.1 in /usr/local/lib/python3.9/dist-packages (from requests->azure-storage-common~=2.1->azure-storage-file) (1.26.15)\n",
            "Requirement already satisfied: idna<4,>=2.5 in /usr/local/lib/python3.9/dist-packages (from requests->azure-storage-common~=2.1->azure-storage-file) (3.4)\n",
            "Requirement already satisfied: pycparser in /usr/local/lib/python3.9/dist-packages (from cffi>=1.12->cryptography->azure-storage-common~=2.1->azure-storage-file) (2.21)\n",
            "Installing collected packages: azure-common, azure-storage-common, azure-storage-file\n",
            "Successfully installed azure-common-1.1.28 azure-storage-common-2.1.0 azure-storage-file-2.1.0\n"
          ]
        }
      ],
      "source": [
        "!pip install azure-storage-file"
      ]
    },
    {
      "cell_type": "code",
      "source": [
        "from azure.storage.file import FileService\n",
        "file_service = FileService(account_name = 'labuser6storage',account_key='LoCbaZ2IR0K3ExdWWckkdTVZrGk/8f2mGCk5sTtJCvf7WInW7TnIINyNufkTtW5K+tdQKToP0qDO+AStvxTNFw==')"
      ],
      "metadata": {
        "id": "oewwTSTg9HpY"
      },
      "execution_count": null,
      "outputs": []
    },
    {
      "cell_type": "markdown",
      "source": [
        "1. 파일 만들기"
      ],
      "metadata": {
        "id": "2rEV0e8T5pmP"
      }
    },
    {
      "cell_type": "code",
      "source": [
        "file_service.create_share('myshare')    #파일 만들기."
      ],
      "metadata": {
        "colab": {
          "base_uri": "https://localhost:8080/"
        },
        "id": "Tk9IIBWsAJOI",
        "outputId": "015834f2-7838-41d1-ef4f-2cdcc22d5c3e"
      },
      "execution_count": null,
      "outputs": [
        {
          "output_type": "execute_result",
          "data": {
            "text/plain": [
              "True"
            ]
          },
          "metadata": {},
          "execution_count": 4
        }
      ]
    },
    {
      "cell_type": "markdown",
      "source": [
        "2. 새로운 디렉토리 형성"
      ],
      "metadata": {
        "id": "IahaNM8b5wtr"
      }
    },
    {
      "cell_type": "code",
      "source": [
        "#새로운 디렉토리 형성\n",
        "file_service.create_directory('myshare','sampledir')"
      ],
      "metadata": {
        "colab": {
          "base_uri": "https://localhost:8080/"
        },
        "id": "KWbPDARIHJs0",
        "outputId": "ae7d9f3f-251a-4e4e-f0ae-f6bc6ec0b4ba"
      },
      "execution_count": null,
      "outputs": [
        {
          "output_type": "execute_result",
          "data": {
            "text/plain": [
              "True"
            ]
          },
          "metadata": {},
          "execution_count": 5
        }
      ]
    },
    {
      "cell_type": "code",
      "source": [
        "from azure.storage.file import ContentSettings\n",
        "file_service.create_file_from_path(\n",
        "    'myshare',\n",
        "    'sampledir',\n",
        "    'myfile.jpg',\n",
        "    'jennie.jpg'        #코랩에 있는 이미지 파일을 스토리지 파일에 업로드하기.\n",
        ")"
      ],
      "metadata": {
        "id": "esvjGWyDHuR8"
      },
      "execution_count": null,
      "outputs": []
    },
    {
      "cell_type": "code",
      "source": [
        "# directory 내용의 확인\n",
        "generator = file_service.list_directories_and_files('myshare')\n",
        "for file_or_dir in generator:\n",
        "  print(file_or_dir.name)"
      ],
      "metadata": {
        "id": "yzLwgV7EJRBe",
        "colab": {
          "base_uri": "https://localhost:8080/"
        },
        "outputId": "562a8547-f486-402d-eef1-4749cab2a38a"
      },
      "execution_count": null,
      "outputs": [
        {
          "output_type": "stream",
          "name": "stdout",
          "text": [
            "myfile\n",
            "sampledir\n"
          ]
        }
      ]
    },
    {
      "cell_type": "markdown",
      "source": [
        "3. 스토리지 내 파일을 가져오는 코드"
      ],
      "metadata": {
        "id": "Nmh5OeLT5zhJ"
      }
    },
    {
      "cell_type": "code",
      "source": [
        "#스토리지 파일 가져오는 코드 \n",
        "file_service.get_file_to_path('myshare',None,'myfile','jennie_DOWNLOAD.jpg')   #None: 특별한 경로 지정하지 않는 것."
      ],
      "metadata": {
        "colab": {
          "base_uri": "https://localhost:8080/"
        },
        "id": "9k9pkU1HKxYS",
        "outputId": "7b54f6e2-89bc-4c53-c198-d4339aa231e3"
      },
      "execution_count": null,
      "outputs": [
        {
          "output_type": "execute_result",
          "data": {
            "text/plain": [
              "<azure.storage.file.models.File at 0x7f0ce7fe4e80>"
            ]
          },
          "metadata": {},
          "execution_count": 11
        }
      ]
    },
    {
      "cell_type": "markdown",
      "source": [
        "4. snapshot 기능 살펴보기"
      ],
      "metadata": {
        "id": "lrwAUdQA52YZ"
      }
    },
    {
      "cell_type": "code",
      "source": [
        "#snapshot 기능 살펴보기\n",
        "\n",
        "metadata = {'foo':'bar'}\n",
        "snapshot = file_service.snapshot_share('myshare', metadata=metadata)"
      ],
      "metadata": {
        "id": "pBq3yKAzLyLL"
      },
      "execution_count": null,
      "outputs": []
    },
    {
      "cell_type": "code",
      "source": [
        "share = list(file_service.list_shares(include_snapshots=True))    #스냅샷이 포함되어 있는 목록을 가져와라."
      ],
      "metadata": {
        "id": "uYb7h3HJNLwc"
      },
      "execution_count": null,
      "outputs": []
    },
    {
      "cell_type": "markdown",
      "source": [
        "5. 파일 목록 및 이름 확인하기/ 스냅샷 지정되어 있는 파일 목록 확인하기"
      ],
      "metadata": {
        "id": "jVxRA98y566I"
      }
    },
    {
      "cell_type": "code",
      "source": [
        "#파일 목록 확인하기\n",
        "directories_and_file = list(file_service.list_directories_and_files('myshare'))\n",
        "for file_or_dir in directories_and_file:\n",
        "  print(file_or_dir)"
      ],
      "metadata": {
        "colab": {
          "base_uri": "https://localhost:8080/"
        },
        "id": "WTVEeLPIRtZf",
        "outputId": "2fadfbe9-4311-4fd9-db6c-ed5ad7588976"
      },
      "execution_count": null,
      "outputs": [
        {
          "output_type": "stream",
          "name": "stdout",
          "text": [
            "<azure.storage.file.models.File object at 0x7f0cfc0daf10>\n",
            "<azure.storage.file.models.Directory object at 0x7f0ce7fd16d0>\n"
          ]
        }
      ]
    },
    {
      "cell_type": "code",
      "source": [
        "#파일 이름 확인하기\n",
        "directories_and_file = list(file_service.list_directories_and_files('myshare'))\n",
        "for file_or_dir in directories_and_file:\n",
        "  print(file_or_dir.name)"
      ],
      "metadata": {
        "colab": {
          "base_uri": "https://localhost:8080/"
        },
        "id": "YmIdh_tgSbKp",
        "outputId": "aec4dc1f-b858-42ed-a83f-50de0dced1f8"
      },
      "execution_count": null,
      "outputs": [
        {
          "output_type": "stream",
          "name": "stdout",
          "text": [
            "jennie.jpg\n",
            "myfile\n",
            "sampledir\n"
          ]
        }
      ]
    },
    {
      "cell_type": "code",
      "source": [
        "#스냅샷 지정해서 스냅샷 있는 파일 이름 확인하기\n",
        "directories_and_file = list(file_service.list_directories_and_files('myshare',\n",
        "                            snapshot='2023-04-20T05:48:12.0000000Z'))\n",
        "for file_or_dir in directories_and_file:\n",
        "  print(file_or_dir.name)"
      ],
      "metadata": {
        "colab": {
          "base_uri": "https://localhost:8080/"
        },
        "id": "Y9OIXIdTSlPu",
        "outputId": "64a79650-850e-4741-d542-172b31fcb327"
      },
      "execution_count": null,
      "outputs": [
        {
          "output_type": "stream",
          "name": "stdout",
          "text": [
            "myfile\n",
            "sampledir\n"
          ]
        }
      ]
    },
    {
      "cell_type": "markdown",
      "source": [
        "6. 파일 및 공유폴더 삭제"
      ],
      "metadata": {
        "id": "6HpL1ZX76CaC"
      }
    },
    {
      "cell_type": "code",
      "source": [
        "#스냅샷 파일 삭제\n",
        "file_service.delete_share('myshare',snapshot='2023-04-20T05:48:12.0000000Z')      "
      ],
      "metadata": {
        "colab": {
          "base_uri": "https://localhost:8080/"
        },
        "id": "xAZRp4deUeC4",
        "outputId": "15f0ed72-a09f-4730-d06e-eaa5725d1654"
      },
      "execution_count": null,
      "outputs": [
        {
          "output_type": "execute_result",
          "data": {
            "text/plain": [
              "True"
            ]
          },
          "metadata": {},
          "execution_count": 19
        }
      ]
    },
    {
      "cell_type": "code",
      "source": [
        "#파일을 삭제하기\n",
        "file_service.delete_file('myshare',None,'myfile')"
      ],
      "metadata": {
        "id": "ESfqcYMyVBR0"
      },
      "execution_count": null,
      "outputs": []
    },
    {
      "cell_type": "code",
      "source": [
        "#공유폴더 자체 삭제하기\n",
        "file_service.delete_share('myshare')"
      ],
      "metadata": {
        "colab": {
          "base_uri": "https://localhost:8080/"
        },
        "id": "cSqZ3i5lVUHx",
        "outputId": "8a2bcbed-3c3e-42c7-88cb-a28e44b4e234"
      },
      "execution_count": null,
      "outputs": [
        {
          "output_type": "execute_result",
          "data": {
            "text/plain": [
              "True"
            ]
          },
          "metadata": {},
          "execution_count": 21
        }
      ]
    },
    {
      "cell_type": "code",
      "source": [],
      "metadata": {
        "id": "27vECUbAVaaG"
      },
      "execution_count": null,
      "outputs": []
    }
  ]
}