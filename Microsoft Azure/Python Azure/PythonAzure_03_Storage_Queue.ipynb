{
  "nbformat": 4,
  "nbformat_minor": 0,
  "metadata": {
    "colab": {
      "provenance": [],
      "authorship_tag": "ABX9TyP8JBtOndXcP5rnik97CVia",
      "include_colab_link": true
    },
    "kernelspec": {
      "name": "python3",
      "display_name": "Python 3"
    },
    "language_info": {
      "name": "python"
    }
  },
  "cells": [
    {
      "cell_type": "markdown",
      "metadata": {
        "id": "view-in-github",
        "colab_type": "text"
      },
      "source": [
        "<a href=\"https://colab.research.google.com/github/dayoungkimm/MS-AI-School/blob/main/PythonAzure_03_Storage_Queue.ipynb\" target=\"_parent\"><img src=\"https://colab.research.google.com/assets/colab-badge.svg\" alt=\"Open In Colab\"/></a>"
      ]
    },
    {
      "cell_type": "markdown",
      "source": [
        "###Queue 생성 및 삭제"
      ],
      "metadata": {
        "id": "8wQeiKXP6g4X"
      }
    },
    {
      "cell_type": "code",
      "execution_count": null,
      "metadata": {
        "colab": {
          "base_uri": "https://localhost:8080/"
        },
        "id": "Ze-m8NNzWtbT",
        "outputId": "7a07f399-9ea9-4a31-d148-75df18ce1778"
      },
      "outputs": [
        {
          "output_type": "stream",
          "name": "stdout",
          "text": [
            "Looking in indexes: https://pypi.org/simple, https://us-python.pkg.dev/colab-wheels/public/simple/\n",
            "Requirement already satisfied: azure-storage-queue==2.1.0 in /usr/local/lib/python3.9/dist-packages (2.1.0)\n",
            "Requirement already satisfied: azure-common>=1.1.5 in /usr/local/lib/python3.9/dist-packages (from azure-storage-queue==2.1.0) (1.1.28)\n",
            "Requirement already satisfied: azure-storage-common~=2.1 in /usr/local/lib/python3.9/dist-packages (from azure-storage-queue==2.1.0) (2.1.0)\n",
            "Requirement already satisfied: requests in /usr/local/lib/python3.9/dist-packages (from azure-storage-common~=2.1->azure-storage-queue==2.1.0) (2.27.1)\n",
            "Requirement already satisfied: cryptography in /usr/local/lib/python3.9/dist-packages (from azure-storage-common~=2.1->azure-storage-queue==2.1.0) (40.0.2)\n",
            "Requirement already satisfied: python-dateutil in /usr/local/lib/python3.9/dist-packages (from azure-storage-common~=2.1->azure-storage-queue==2.1.0) (2.8.2)\n",
            "Requirement already satisfied: cffi>=1.12 in /usr/local/lib/python3.9/dist-packages (from cryptography->azure-storage-common~=2.1->azure-storage-queue==2.1.0) (1.15.1)\n",
            "Requirement already satisfied: six>=1.5 in /usr/local/lib/python3.9/dist-packages (from python-dateutil->azure-storage-common~=2.1->azure-storage-queue==2.1.0) (1.16.0)\n",
            "Requirement already satisfied: charset-normalizer~=2.0.0 in /usr/local/lib/python3.9/dist-packages (from requests->azure-storage-common~=2.1->azure-storage-queue==2.1.0) (2.0.12)\n",
            "Requirement already satisfied: urllib3<1.27,>=1.21.1 in /usr/local/lib/python3.9/dist-packages (from requests->azure-storage-common~=2.1->azure-storage-queue==2.1.0) (1.26.15)\n",
            "Requirement already satisfied: idna<4,>=2.5 in /usr/local/lib/python3.9/dist-packages (from requests->azure-storage-common~=2.1->azure-storage-queue==2.1.0) (3.4)\n",
            "Requirement already satisfied: certifi>=2017.4.17 in /usr/local/lib/python3.9/dist-packages (from requests->azure-storage-common~=2.1->azure-storage-queue==2.1.0) (2022.12.7)\n",
            "Requirement already satisfied: pycparser in /usr/local/lib/python3.9/dist-packages (from cffi>=1.12->cryptography->azure-storage-common~=2.1->azure-storage-queue==2.1.0) (2.21)\n"
          ]
        }
      ],
      "source": [
        "!pip install azure-storage-queue==2.1.0"
      ]
    },
    {
      "cell_type": "code",
      "source": [
        "from azure.storage.queue import QueueService, QueueMessageFormat"
      ],
      "metadata": {
        "id": "z-SJ34exXN0o"
      },
      "execution_count": null,
      "outputs": []
    },
    {
      "cell_type": "markdown",
      "source": [
        "1. 스토리지와 연결 및 큐 생성"
      ],
      "metadata": {
        "id": "MUhGafUF6n7b"
      }
    },
    {
      "cell_type": "code",
      "source": [
        "#스토리지와 연결\n",
        "connect_str='DefaultEndpointsProtocol=https;AccountName=labuser6storage;AccountKey=LoCbaZ2IR0K3ExdWWckkdTVZrGk/8f2mGCk5sTtJCvf7WInW7TnIINyNufkTtW5K+tdQKToP0qDO+AStvxTNFw==;EndpointSuffix=core.windows.net'\n",
        "\n",
        "queue_name = 'queue-myqueue'\n",
        "queue_service = QueueService(connection_string=connect_str)\n",
        "\n",
        "#큐 생성\n",
        "queue_service.create_queue(queue_name)"
      ],
      "metadata": {
        "colab": {
          "base_uri": "https://localhost:8080/"
        },
        "id": "H_idVdFKXniX",
        "outputId": "2ec2d721-915e-47a9-d19d-0e3a816726d1"
      },
      "execution_count": null,
      "outputs": [
        {
          "output_type": "execute_result",
          "data": {
            "text/plain": [
              "True"
            ]
          },
          "metadata": {},
          "execution_count": 14
        }
      ]
    },
    {
      "cell_type": "code",
      "source": [
        "queue_service.encode_function = QueueMessageFormat.binary_base64encode\n",
        "queue_service.decode_function = QueueMessageFormat.binary_base64decode"
      ],
      "metadata": {
        "id": "MBntPjXTYvZD"
      },
      "execution_count": null,
      "outputs": []
    },
    {
      "cell_type": "code",
      "source": [
        "import base64\n",
        "message = 'Hello World'\n",
        "print('Adding message: ' + message)\n",
        "\n",
        "message = base64.b64encode(message.encode('utf-8'))   #유니코드 형식으로!\n",
        "queue_service.put_message(queue_name, message)      #큐에 메세지 들어감."
      ],
      "metadata": {
        "colab": {
          "base_uri": "https://localhost:8080/"
        },
        "id": "B18FsaFxccOz",
        "outputId": "9bd76c7d-a70f-4615-c876-afb7a10924a6"
      },
      "execution_count": null,
      "outputs": [
        {
          "output_type": "stream",
          "name": "stdout",
          "text": [
            "Adding message: Hello World\n"
          ]
        },
        {
          "output_type": "execute_result",
          "data": {
            "text/plain": [
              "<azure.storage.queue.models.QueueMessage at 0x7f3329309490>"
            ]
          },
          "metadata": {},
          "execution_count": 16
        }
      ]
    },
    {
      "cell_type": "code",
      "source": [
        "import base64\n",
        "message = 'Hello World2'\n",
        "print('Adding message: ' + message)\n",
        "\n",
        "message = base64.b64encode(message.encode('utf-8'))   #유니코드 형식으로!\n",
        "queue_service.put_message(queue_name, message)      #큐에 메세지 들어감."
      ],
      "metadata": {
        "colab": {
          "base_uri": "https://localhost:8080/"
        },
        "id": "kViW6rD3g6PV",
        "outputId": "ca3bc612-d3b1-44ca-e4cd-323adef03918"
      },
      "execution_count": null,
      "outputs": [
        {
          "output_type": "stream",
          "name": "stdout",
          "text": [
            "Adding message: Hello World2\n"
          ]
        },
        {
          "output_type": "execute_result",
          "data": {
            "text/plain": [
              "<azure.storage.queue.models.QueueMessage at 0x7f331471f220>"
            ]
          },
          "metadata": {},
          "execution_count": 17
        }
      ]
    },
    {
      "cell_type": "markdown",
      "source": [
        "2. 메시지 가져오기"
      ],
      "metadata": {
        "id": "vkAO9dx26vMx"
      }
    },
    {
      "cell_type": "code",
      "source": [
        "#메시지 가져오기\n",
        "#peek: 간보기(처음 메시지 하나만 가져오는것)\n",
        "messages = queue_service.peek_messages(queue_name)\n",
        "\n",
        "for peeked_message in messages:\n",
        "  message = base64.b64decode(peeked_message.content)    #디코딩.\n",
        "  print('Peeked message: ' + message.decode('utf-8'))\n"
      ],
      "metadata": {
        "colab": {
          "base_uri": "https://localhost:8080/"
        },
        "id": "5TlmU3nfhD5t",
        "outputId": "f50bcf4a-f894-4fc4-b593-304780ca221b"
      },
      "execution_count": null,
      "outputs": [
        {
          "output_type": "stream",
          "name": "stdout",
          "text": [
            "Peeked message: Hello World\n"
          ]
        }
      ]
    },
    {
      "cell_type": "code",
      "source": [
        "#get: 메시지를 하나씩 순서대로 실행할때마다 다 꺼내오는것.\n",
        "messages = queue_service.get_messages(queue_name)\n",
        "\n",
        "for msg in messages:\n",
        "  message = base64.b64decode(msg.content)\n",
        "  print('Got message: '+ message.decode('utf-8'))"
      ],
      "metadata": {
        "colab": {
          "base_uri": "https://localhost:8080/"
        },
        "id": "EYI01CkYiJDi",
        "outputId": "f8164108-cf32-484e-983b-e86a7aad6fc0"
      },
      "execution_count": null,
      "outputs": [
        {
          "output_type": "stream",
          "name": "stdout",
          "text": [
            "Got message: Hello World2\n"
          ]
        }
      ]
    },
    {
      "cell_type": "markdown",
      "source": [
        "3. 큐 삭제"
      ],
      "metadata": {
        "id": "rcqefhXq6xcB"
      }
    },
    {
      "cell_type": "code",
      "source": [
        "#큐 삭제\n",
        "queue_service.delete_queue(queue_name)"
      ],
      "metadata": {
        "colab": {
          "base_uri": "https://localhost:8080/"
        },
        "id": "nJqhX2kgjLjb",
        "outputId": "882f9cda-f346-4b89-8ff0-b5ee120d07a3"
      },
      "execution_count": null,
      "outputs": [
        {
          "output_type": "execute_result",
          "data": {
            "text/plain": [
              "True"
            ]
          },
          "metadata": {},
          "execution_count": 21
        }
      ]
    },
    {
      "cell_type": "code",
      "source": [],
      "metadata": {
        "id": "K33pq0cmk6wp"
      },
      "execution_count": null,
      "outputs": []
    }
  ]
}
