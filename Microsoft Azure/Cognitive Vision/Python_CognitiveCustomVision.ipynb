{
  "nbformat": 4,
  "nbformat_minor": 0,
  "metadata": {
    "colab": {
      "provenance": [],
      "authorship_tag": "ABX9TyNB9CBx/nYqSqrjepM3YG18",
      "include_colab_link": true
    },
    "kernelspec": {
      "name": "python3",
      "display_name": "Python 3"
    },
    "language_info": {
      "name": "python"
    }
  },
  "cells": [
    {
      "cell_type": "markdown",
      "metadata": {
        "id": "view-in-github",
        "colab_type": "text"
      },
      "source": [
        "<a href=\"https://colab.research.google.com/github/dayoungkimm/MS-AI-School/blob/main/Python_CognitiveCustomVision.ipynb\" target=\"_parent\"><img src=\"https://colab.research.google.com/assets/colab-badge.svg\" alt=\"Open In Colab\"/></a>"
      ]
    },
    {
      "cell_type": "markdown",
      "source": [
        "### Custom Vision"
      ],
      "metadata": {
        "id": "PqMdkFn9-fY5"
      }
    },
    {
      "cell_type": "code",
      "execution_count": null,
      "metadata": {
        "colab": {
          "base_uri": "https://localhost:8080/"
        },
        "id": "jJciT11VYwMq",
        "outputId": "714cbe66-e2af-4762-dc4c-940151faba64"
      },
      "outputs": [
        {
          "output_type": "stream",
          "name": "stdout",
          "text": [
            "Looking in indexes: https://pypi.org/simple, https://us-python.pkg.dev/colab-wheels/public/simple/\n",
            "Requirement already satisfied: azure-cognitiveservices-vision-customvision in /usr/local/lib/python3.9/dist-packages (3.1.0)\n",
            "Requirement already satisfied: azure-common~=1.1 in /usr/local/lib/python3.9/dist-packages (from azure-cognitiveservices-vision-customvision) (1.1.28)\n",
            "Requirement already satisfied: msrest>=0.5.0 in /usr/local/lib/python3.9/dist-packages (from azure-cognitiveservices-vision-customvision) (0.7.1)\n",
            "Requirement already satisfied: certifi>=2017.4.17 in /usr/local/lib/python3.9/dist-packages (from msrest>=0.5.0->azure-cognitiveservices-vision-customvision) (2022.12.7)\n",
            "Requirement already satisfied: requests~=2.16 in /usr/local/lib/python3.9/dist-packages (from msrest>=0.5.0->azure-cognitiveservices-vision-customvision) (2.27.1)\n",
            "Requirement already satisfied: isodate>=0.6.0 in /usr/local/lib/python3.9/dist-packages (from msrest>=0.5.0->azure-cognitiveservices-vision-customvision) (0.6.1)\n",
            "Requirement already satisfied: requests-oauthlib>=0.5.0 in /usr/local/lib/python3.9/dist-packages (from msrest>=0.5.0->azure-cognitiveservices-vision-customvision) (1.3.1)\n",
            "Requirement already satisfied: azure-core>=1.24.0 in /usr/local/lib/python3.9/dist-packages (from msrest>=0.5.0->azure-cognitiveservices-vision-customvision) (1.26.4)\n",
            "Requirement already satisfied: six>=1.11.0 in /usr/local/lib/python3.9/dist-packages (from azure-core>=1.24.0->msrest>=0.5.0->azure-cognitiveservices-vision-customvision) (1.16.0)\n",
            "Requirement already satisfied: typing-extensions>=4.3.0 in /usr/local/lib/python3.9/dist-packages (from azure-core>=1.24.0->msrest>=0.5.0->azure-cognitiveservices-vision-customvision) (4.5.0)\n",
            "Requirement already satisfied: urllib3<1.27,>=1.21.1 in /usr/local/lib/python3.9/dist-packages (from requests~=2.16->msrest>=0.5.0->azure-cognitiveservices-vision-customvision) (1.26.15)\n",
            "Requirement already satisfied: charset-normalizer~=2.0.0 in /usr/local/lib/python3.9/dist-packages (from requests~=2.16->msrest>=0.5.0->azure-cognitiveservices-vision-customvision) (2.0.12)\n",
            "Requirement already satisfied: idna<4,>=2.5 in /usr/local/lib/python3.9/dist-packages (from requests~=2.16->msrest>=0.5.0->azure-cognitiveservices-vision-customvision) (3.4)\n",
            "Requirement already satisfied: oauthlib>=3.0.0 in /usr/local/lib/python3.9/dist-packages (from requests-oauthlib>=0.5.0->msrest>=0.5.0->azure-cognitiveservices-vision-customvision) (3.2.2)\n"
          ]
        }
      ],
      "source": [
        "pip install azure-cognitiveservices-vision-customvision               #파이썬에 없는 패키지 설치(azure custom vision 설치)"
      ]
    },
    {
      "cell_type": "code",
      "source": [
        "from azure.cognitiveservices.vision.customvision.training import CustomVisionTrainingClient\n",
        "from azure.cognitiveservices.vision.customvision.training.models import ImageFileCreateEntry\n",
        "from msrest.authentication import ApiKeyCredentials"
      ],
      "metadata": {
        "id": "FsmtO6n2ZaDH"
      },
      "execution_count": null,
      "outputs": []
    },
    {
      "cell_type": "code",
      "source": [
        "endpoint = 'https://labuser6custom.cognitiveservices.azure.com/'\n",
        "training_key = '5251cd1320c9478a9aec75fa7c5203bd'"
      ],
      "metadata": {
        "id": "HdlHawp_bFkZ"
      },
      "execution_count": null,
      "outputs": []
    },
    {
      "cell_type": "code",
      "source": [
        "publish_iteration_name = 'GreatWallModel_6'     #배포할 이름\n",
        "credentials = ApiKeyCredentials(in_headers={'Training-key': training_key})"
      ],
      "metadata": {
        "id": "LmNqVIbEcftp"
      },
      "execution_count": null,
      "outputs": []
    },
    {
      "cell_type": "code",
      "source": [
        "trainer = CustomVisionTrainingClient(endpoint, credentials)"
      ],
      "metadata": {
        "id": "UWd6wCGCeuBK"
      },
      "execution_count": null,
      "outputs": []
    },
    {
      "cell_type": "code",
      "source": [
        "#Create a new project\n",
        "print('Creating project....')\n",
        "project_name = 'GreatWall_6'\n",
        "project = trainer.create_project(project_name)"
      ],
      "metadata": {
        "colab": {
          "base_uri": "https://localhost:8080/"
        },
        "id": "NkB776HWfbPd",
        "outputId": "71720d13-50e8-4b94-f245-ec7dbbce1d22"
      },
      "execution_count": null,
      "outputs": [
        {
          "output_type": "stream",
          "name": "stdout",
          "text": [
            "Creating project....\n"
          ]
        }
      ]
    },
    {
      "cell_type": "code",
      "source": [
        "jajangmyeon_tag = trainer.create_tag(project.id, 'jajangmyeon') \n",
        "jjamppong_tag = trainer.create_tag(project.id, 'jjamppong')\n",
        "tangsuyug_tag = trainer.create_tag(project.id, 'tangsuyug')"
      ],
      "metadata": {
        "id": "gwJrkjGYgMv9"
      },
      "execution_count": null,
      "outputs": []
    },
    {
      "cell_type": "markdown",
      "source": [
        "학습의 시작"
      ],
      "metadata": {
        "id": "SdMhB-bO-kMN"
      }
    },
    {
      "cell_type": "code",
      "source": [
        "import time\n",
        "\n",
        "print('Training.....')\n",
        "iteration = trainer.train_project(project.id)\n",
        "while (iteration.status != 'Completed'):\n",
        "  iteration = trainer.get_iteration(project.id, iteration.id)\n",
        "  print('Training status: ' + iteration.status)\n",
        "  print('Waiting 10 seconds...')\n",
        "  time.sleep(10)"
      ],
      "metadata": {
        "colab": {
          "base_uri": "https://localhost:8080/"
        },
        "id": "m636NDZVh02x",
        "outputId": "4cfe6f6a-feaa-409d-bf1e-0c0bf550cef7"
      },
      "execution_count": null,
      "outputs": [
        {
          "output_type": "stream",
          "name": "stdout",
          "text": [
            "Training.....\n",
            "Training status: Training\n",
            "Waiting 10 seconds...\n",
            "Training status: Training\n",
            "Waiting 10 seconds...\n",
            "Training status: Training\n",
            "Waiting 10 seconds...\n",
            "Training status: Training\n",
            "Waiting 10 seconds...\n",
            "Training status: Training\n",
            "Waiting 10 seconds...\n",
            "Training status: Training\n",
            "Waiting 10 seconds...\n",
            "Training status: Training\n",
            "Waiting 10 seconds...\n",
            "Training status: Training\n",
            "Waiting 10 seconds...\n",
            "Training status: Training\n",
            "Waiting 10 seconds...\n",
            "Training status: Training\n",
            "Waiting 10 seconds...\n",
            "Training status: Training\n",
            "Waiting 10 seconds...\n",
            "Training status: Training\n",
            "Waiting 10 seconds...\n",
            "Training status: Training\n",
            "Waiting 10 seconds...\n",
            "Training status: Training\n",
            "Waiting 10 seconds...\n",
            "Training status: Training\n",
            "Waiting 10 seconds...\n",
            "Training status: Training\n",
            "Waiting 10 seconds...\n",
            "Training status: Training\n",
            "Waiting 10 seconds...\n",
            "Training status: Training\n",
            "Waiting 10 seconds...\n",
            "Training status: Training\n",
            "Waiting 10 seconds...\n",
            "Training status: Training\n",
            "Waiting 10 seconds...\n",
            "Training status: Training\n",
            "Waiting 10 seconds...\n",
            "Training status: Training\n",
            "Waiting 10 seconds...\n",
            "Training status: Training\n",
            "Waiting 10 seconds...\n",
            "Training status: Training\n",
            "Waiting 10 seconds...\n",
            "Training status: Training\n",
            "Waiting 10 seconds...\n",
            "Training status: Training\n",
            "Waiting 10 seconds...\n",
            "Training status: Training\n",
            "Waiting 10 seconds...\n",
            "Training status: Training\n",
            "Waiting 10 seconds...\n",
            "Training status: Training\n",
            "Waiting 10 seconds...\n",
            "Training status: Training\n",
            "Waiting 10 seconds...\n",
            "Training status: Training\n",
            "Waiting 10 seconds...\n",
            "Training status: Training\n",
            "Waiting 10 seconds...\n",
            "Training status: Training\n",
            "Waiting 10 seconds...\n",
            "Training status: Training\n",
            "Waiting 10 seconds...\n",
            "Training status: Training\n",
            "Waiting 10 seconds...\n",
            "Training status: Training\n",
            "Waiting 10 seconds...\n",
            "Training status: Training\n",
            "Waiting 10 seconds...\n",
            "Training status: Training\n",
            "Waiting 10 seconds...\n",
            "Training status: Training\n",
            "Waiting 10 seconds...\n",
            "Training status: Training\n",
            "Waiting 10 seconds...\n",
            "Training status: Training\n",
            "Waiting 10 seconds...\n",
            "Training status: Training\n",
            "Waiting 10 seconds...\n",
            "Training status: Training\n",
            "Waiting 10 seconds...\n",
            "Training status: Training\n",
            "Waiting 10 seconds...\n",
            "Training status: Training\n",
            "Waiting 10 seconds...\n",
            "Training status: Training\n",
            "Waiting 10 seconds...\n",
            "Training status: Training\n",
            "Waiting 10 seconds...\n",
            "Training status: Training\n",
            "Waiting 10 seconds...\n",
            "Training status: Training\n",
            "Waiting 10 seconds...\n",
            "Training status: Training\n",
            "Waiting 10 seconds...\n",
            "Training status: Training\n",
            "Waiting 10 seconds...\n",
            "Training status: Training\n",
            "Waiting 10 seconds...\n",
            "Training status: Training\n",
            "Waiting 10 seconds...\n",
            "Training status: Completed\n",
            "Waiting 10 seconds...\n"
          ]
        }
      ]
    },
    {
      "cell_type": "markdown",
      "source": [
        "예측, 추론"
      ],
      "metadata": {
        "id": "1UQuI77R-oYL"
      }
    },
    {
      "cell_type": "code",
      "source": [
        "# 예측, 추론하는 부분\n",
        "from azure.cognitiveservices.vision.customvision.prediction import CustomVisionPredictionClient"
      ],
      "metadata": {
        "id": "4hBNvKKMjb5w"
      },
      "execution_count": null,
      "outputs": []
    },
    {
      "cell_type": "code",
      "source": [
        "prediction_key = '38501d0f6eef42239e2ce55514426d58'\n",
        "prediction_endpoint = 'https://labuser6custom-prediction.cognitiveservices.azure.com/'\n",
        "\n",
        "prediction_credential = ApiKeyCredentials(in_headers={'Prediction-key': prediction_key})"
      ],
      "metadata": {
        "id": "d06r9-W81ibV"
      },
      "execution_count": null,
      "outputs": []
    },
    {
      "cell_type": "code",
      "source": [
        "# 예측 리소스의 생성\n",
        "predictor = CustomVisionPredictionClient(prediction_endpoint, prediction_credential)"
      ],
      "metadata": {
        "id": "VRVnze561yvJ"
      },
      "execution_count": null,
      "outputs": []
    },
    {
      "cell_type": "code",
      "source": [
        "#학습에 이용되지 않은 이미지 찾아 주소 복사 한 후 예측에 사용\n",
        "target_image_url = 'https://www.nextdaily.co.kr/news/photo/202207/207614_307984_3540.jpg' \n",
        "result = predictor.classify_image_url(project.id, \n",
        "                             'Iteration1',          #배포(publish)할 때 publish_iteration_name\n",
        "                             target_image_url)    "
      ],
      "metadata": {
        "id": "9CUAikIf3gjZ"
      },
      "execution_count": null,
      "outputs": []
    },
    {
      "cell_type": "code",
      "source": [
        "result"
      ],
      "metadata": {
        "colab": {
          "base_uri": "https://localhost:8080/"
        },
        "id": "8KenwTEh4dJ0",
        "outputId": "96d79a51-8edc-4bcc-d27f-a1b6246d88fb"
      },
      "execution_count": null,
      "outputs": [
        {
          "output_type": "execute_result",
          "data": {
            "text/plain": [
              "<azure.cognitiveservices.vision.customvision.prediction.models._models_py3.ImagePrediction at 0x7fbb45be4b20>"
            ]
          },
          "metadata": {},
          "execution_count": 37
        }
      ]
    },
    {
      "cell_type": "code",
      "source": [
        "for prediction in result.predictions:\n",
        "  print('\\t' + prediction.tag_name + ': {0:.2f}%'.format(prediction.probability * 100))   \n",
        " \n",
        "  #:.2f 소수점 둘째자리까지 표기"
      ],
      "metadata": {
        "colab": {
          "base_uri": "https://localhost:8080/"
        },
        "id": "ZxWPG-Jx7Lv7",
        "outputId": "6a9cb2f5-624c-4bcf-8f44-b3e48f46c907"
      },
      "execution_count": null,
      "outputs": [
        {
          "output_type": "stream",
          "name": "stdout",
          "text": [
            "\tjajangmyeon: 98.79%\n",
            "\ttangsuyug: 1.74%\n",
            "\tjjamppong: 0.13%\n"
          ]
        }
      ]
    },
    {
      "cell_type": "code",
      "source": [],
      "metadata": {
        "id": "j8Xgxozd7vVK"
      },
      "execution_count": null,
      "outputs": []
    }
  ]
}
