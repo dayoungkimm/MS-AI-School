{
  "nbformat": 4,
  "nbformat_minor": 0,
  "metadata": {
    "colab": {
      "provenance": [],
      "authorship_tag": "ABX9TyNG0g04/imyUOLG59WxOx1u",
      "include_colab_link": true
    },
    "kernelspec": {
      "name": "python3",
      "display_name": "Python 3"
    },
    "language_info": {
      "name": "python"
    }
  },
  "cells": [
    {
      "cell_type": "markdown",
      "metadata": {
        "id": "view-in-github",
        "colab_type": "text"
      },
      "source": [
        "<a href=\"https://colab.research.google.com/github/dayoungkimm/MS-AI-School/blob/main/AI_03_sklearn_Regression.ipynb\" target=\"_parent\"><img src=\"https://colab.research.google.com/assets/colab-badge.svg\" alt=\"Open In Colab\"/></a>"
      ]
    },
    {
      "cell_type": "code",
      "source": [
        "import numpy as np\n",
        "import pandas as pd\n",
        "import sklearn\n",
        "import matplotlib.pyplot as plt"
      ],
      "metadata": {
        "id": "sO9cHc1wfQ-C"
      },
      "execution_count": null,
      "outputs": []
    },
    {
      "cell_type": "code",
      "execution_count": null,
      "metadata": {
        "id": "yKDaKmcMeASY"
      },
      "outputs": [],
      "source": [
        "from sklearn.datasets import load_diabetes\n",
        "diabetes = load_diabetes()"
      ]
    },
    {
      "cell_type": "code",
      "source": [
        "print(diabetes.DESCR)"
      ],
      "metadata": {
        "colab": {
          "base_uri": "https://localhost:8080/"
        },
        "id": "5x-f2LO4fyTR",
        "outputId": "4e46b64d-ca86-4c09-f7b0-8615cde9437e"
      },
      "execution_count": null,
      "outputs": [
        {
          "output_type": "stream",
          "name": "stdout",
          "text": [
            ".. _diabetes_dataset:\n",
            "\n",
            "Diabetes dataset\n",
            "----------------\n",
            "\n",
            "Ten baseline variables, age, sex, body mass index, average blood\n",
            "pressure, and six blood serum measurements were obtained for each of n =\n",
            "442 diabetes patients, as well as the response of interest, a\n",
            "quantitative measure of disease progression one year after baseline.\n",
            "\n",
            "**Data Set Characteristics:**\n",
            "\n",
            "  :Number of Instances: 442\n",
            "\n",
            "  :Number of Attributes: First 10 columns are numeric predictive values\n",
            "\n",
            "  :Target: Column 11 is a quantitative measure of disease progression one year after baseline\n",
            "\n",
            "  :Attribute Information:\n",
            "      - age     age in years\n",
            "      - sex\n",
            "      - bmi     body mass index\n",
            "      - bp      average blood pressure\n",
            "      - s1      tc, total serum cholesterol\n",
            "      - s2      ldl, low-density lipoproteins\n",
            "      - s3      hdl, high-density lipoproteins\n",
            "      - s4      tch, total cholesterol / HDL\n",
            "      - s5      ltg, possibly log of serum triglycerides level\n",
            "      - s6      glu, blood sugar level\n",
            "\n",
            "Note: Each of these 10 feature variables have been mean centered and scaled by the standard deviation times the square root of `n_samples` (i.e. the sum of squares of each column totals 1).\n",
            "\n",
            "Source URL:\n",
            "https://www4.stat.ncsu.edu/~boos/var.select/diabetes.html\n",
            "\n",
            "For more information see:\n",
            "Bradley Efron, Trevor Hastie, Iain Johnstone and Robert Tibshirani (2004) \"Least Angle Regression,\" Annals of Statistics (with discussion), 407-499.\n",
            "(https://web.stanford.edu/~hastie/Papers/LARS/LeastAngle_2002.pdf)\n",
            "\n"
          ]
        }
      ]
    },
    {
      "cell_type": "code",
      "source": [
        "data = diabetes.data\n",
        "label = diabetes.target\n",
        "columns = diabetes.feature_names"
      ],
      "metadata": {
        "id": "2FU-8TwIhQls"
      },
      "execution_count": null,
      "outputs": []
    },
    {
      "cell_type": "code",
      "source": [
        "data = pd.DataFrame(data, columns = columns)\n",
        "data.head()"
      ],
      "metadata": {
        "colab": {
          "base_uri": "https://localhost:8080/",
          "height": 270
        },
        "id": "JooanhjsirtR",
        "outputId": "c7e5b249-836d-436d-aa02-d145331d3a71"
      },
      "execution_count": null,
      "outputs": [
        {
          "output_type": "execute_result",
          "data": {
            "text/plain": [
              "        age       sex       bmi        bp        s1        s2        s3  \\\n",
              "0  0.038076  0.050680  0.061696  0.021872 -0.044223 -0.034821 -0.043401   \n",
              "1 -0.001882 -0.044642 -0.051474 -0.026328 -0.008449 -0.019163  0.074412   \n",
              "2  0.085299  0.050680  0.044451 -0.005670 -0.045599 -0.034194 -0.032356   \n",
              "3 -0.089063 -0.044642 -0.011595 -0.036656  0.012191  0.024991 -0.036038   \n",
              "4  0.005383 -0.044642 -0.036385  0.021872  0.003935  0.015596  0.008142   \n",
              "\n",
              "         s4        s5        s6  \n",
              "0 -0.002592  0.019907 -0.017646  \n",
              "1 -0.039493 -0.068332 -0.092204  \n",
              "2 -0.002592  0.002861 -0.025930  \n",
              "3  0.034309  0.022688 -0.009362  \n",
              "4 -0.002592 -0.031988 -0.046641  "
            ],
            "text/html": [
              "\n",
              "  <div id=\"df-5674e7e3-07da-4cb9-987e-86f017a4c0cf\">\n",
              "    <div class=\"colab-df-container\">\n",
              "      <div>\n",
              "<style scoped>\n",
              "    .dataframe tbody tr th:only-of-type {\n",
              "        vertical-align: middle;\n",
              "    }\n",
              "\n",
              "    .dataframe tbody tr th {\n",
              "        vertical-align: top;\n",
              "    }\n",
              "\n",
              "    .dataframe thead th {\n",
              "        text-align: right;\n",
              "    }\n",
              "</style>\n",
              "<table border=\"1\" class=\"dataframe\">\n",
              "  <thead>\n",
              "    <tr style=\"text-align: right;\">\n",
              "      <th></th>\n",
              "      <th>age</th>\n",
              "      <th>sex</th>\n",
              "      <th>bmi</th>\n",
              "      <th>bp</th>\n",
              "      <th>s1</th>\n",
              "      <th>s2</th>\n",
              "      <th>s3</th>\n",
              "      <th>s4</th>\n",
              "      <th>s5</th>\n",
              "      <th>s6</th>\n",
              "    </tr>\n",
              "  </thead>\n",
              "  <tbody>\n",
              "    <tr>\n",
              "      <th>0</th>\n",
              "      <td>0.038076</td>\n",
              "      <td>0.050680</td>\n",
              "      <td>0.061696</td>\n",
              "      <td>0.021872</td>\n",
              "      <td>-0.044223</td>\n",
              "      <td>-0.034821</td>\n",
              "      <td>-0.043401</td>\n",
              "      <td>-0.002592</td>\n",
              "      <td>0.019907</td>\n",
              "      <td>-0.017646</td>\n",
              "    </tr>\n",
              "    <tr>\n",
              "      <th>1</th>\n",
              "      <td>-0.001882</td>\n",
              "      <td>-0.044642</td>\n",
              "      <td>-0.051474</td>\n",
              "      <td>-0.026328</td>\n",
              "      <td>-0.008449</td>\n",
              "      <td>-0.019163</td>\n",
              "      <td>0.074412</td>\n",
              "      <td>-0.039493</td>\n",
              "      <td>-0.068332</td>\n",
              "      <td>-0.092204</td>\n",
              "    </tr>\n",
              "    <tr>\n",
              "      <th>2</th>\n",
              "      <td>0.085299</td>\n",
              "      <td>0.050680</td>\n",
              "      <td>0.044451</td>\n",
              "      <td>-0.005670</td>\n",
              "      <td>-0.045599</td>\n",
              "      <td>-0.034194</td>\n",
              "      <td>-0.032356</td>\n",
              "      <td>-0.002592</td>\n",
              "      <td>0.002861</td>\n",
              "      <td>-0.025930</td>\n",
              "    </tr>\n",
              "    <tr>\n",
              "      <th>3</th>\n",
              "      <td>-0.089063</td>\n",
              "      <td>-0.044642</td>\n",
              "      <td>-0.011595</td>\n",
              "      <td>-0.036656</td>\n",
              "      <td>0.012191</td>\n",
              "      <td>0.024991</td>\n",
              "      <td>-0.036038</td>\n",
              "      <td>0.034309</td>\n",
              "      <td>0.022688</td>\n",
              "      <td>-0.009362</td>\n",
              "    </tr>\n",
              "    <tr>\n",
              "      <th>4</th>\n",
              "      <td>0.005383</td>\n",
              "      <td>-0.044642</td>\n",
              "      <td>-0.036385</td>\n",
              "      <td>0.021872</td>\n",
              "      <td>0.003935</td>\n",
              "      <td>0.015596</td>\n",
              "      <td>0.008142</td>\n",
              "      <td>-0.002592</td>\n",
              "      <td>-0.031988</td>\n",
              "      <td>-0.046641</td>\n",
              "    </tr>\n",
              "  </tbody>\n",
              "</table>\n",
              "</div>\n",
              "      <button class=\"colab-df-convert\" onclick=\"convertToInteractive('df-5674e7e3-07da-4cb9-987e-86f017a4c0cf')\"\n",
              "              title=\"Convert this dataframe to an interactive table.\"\n",
              "              style=\"display:none;\">\n",
              "        \n",
              "  <svg xmlns=\"http://www.w3.org/2000/svg\" height=\"24px\"viewBox=\"0 0 24 24\"\n",
              "       width=\"24px\">\n",
              "    <path d=\"M0 0h24v24H0V0z\" fill=\"none\"/>\n",
              "    <path d=\"M18.56 5.44l.94 2.06.94-2.06 2.06-.94-2.06-.94-.94-2.06-.94 2.06-2.06.94zm-11 1L8.5 8.5l.94-2.06 2.06-.94-2.06-.94L8.5 2.5l-.94 2.06-2.06.94zm10 10l.94 2.06.94-2.06 2.06-.94-2.06-.94-.94-2.06-.94 2.06-2.06.94z\"/><path d=\"M17.41 7.96l-1.37-1.37c-.4-.4-.92-.59-1.43-.59-.52 0-1.04.2-1.43.59L10.3 9.45l-7.72 7.72c-.78.78-.78 2.05 0 2.83L4 21.41c.39.39.9.59 1.41.59.51 0 1.02-.2 1.41-.59l7.78-7.78 2.81-2.81c.8-.78.8-2.07 0-2.86zM5.41 20L4 18.59l7.72-7.72 1.47 1.35L5.41 20z\"/>\n",
              "  </svg>\n",
              "      </button>\n",
              "      \n",
              "  <style>\n",
              "    .colab-df-container {\n",
              "      display:flex;\n",
              "      flex-wrap:wrap;\n",
              "      gap: 12px;\n",
              "    }\n",
              "\n",
              "    .colab-df-convert {\n",
              "      background-color: #E8F0FE;\n",
              "      border: none;\n",
              "      border-radius: 50%;\n",
              "      cursor: pointer;\n",
              "      display: none;\n",
              "      fill: #1967D2;\n",
              "      height: 32px;\n",
              "      padding: 0 0 0 0;\n",
              "      width: 32px;\n",
              "    }\n",
              "\n",
              "    .colab-df-convert:hover {\n",
              "      background-color: #E2EBFA;\n",
              "      box-shadow: 0px 1px 2px rgba(60, 64, 67, 0.3), 0px 1px 3px 1px rgba(60, 64, 67, 0.15);\n",
              "      fill: #174EA6;\n",
              "    }\n",
              "\n",
              "    [theme=dark] .colab-df-convert {\n",
              "      background-color: #3B4455;\n",
              "      fill: #D2E3FC;\n",
              "    }\n",
              "\n",
              "    [theme=dark] .colab-df-convert:hover {\n",
              "      background-color: #434B5C;\n",
              "      box-shadow: 0px 1px 3px 1px rgba(0, 0, 0, 0.15);\n",
              "      filter: drop-shadow(0px 1px 2px rgba(0, 0, 0, 0.3));\n",
              "      fill: #FFFFFF;\n",
              "    }\n",
              "  </style>\n",
              "\n",
              "      <script>\n",
              "        const buttonEl =\n",
              "          document.querySelector('#df-5674e7e3-07da-4cb9-987e-86f017a4c0cf button.colab-df-convert');\n",
              "        buttonEl.style.display =\n",
              "          google.colab.kernel.accessAllowed ? 'block' : 'none';\n",
              "\n",
              "        async function convertToInteractive(key) {\n",
              "          const element = document.querySelector('#df-5674e7e3-07da-4cb9-987e-86f017a4c0cf');\n",
              "          const dataTable =\n",
              "            await google.colab.kernel.invokeFunction('convertToInteractive',\n",
              "                                                     [key], {});\n",
              "          if (!dataTable) return;\n",
              "\n",
              "          const docLinkHtml = 'Like what you see? Visit the ' +\n",
              "            '<a target=\"_blank\" href=https://colab.research.google.com/notebooks/data_table.ipynb>data table notebook</a>'\n",
              "            + ' to learn more about interactive tables.';\n",
              "          element.innerHTML = '';\n",
              "          dataTable['output_type'] = 'display_data';\n",
              "          await google.colab.output.renderOutput(dataTable, element);\n",
              "          const docLink = document.createElement('div');\n",
              "          docLink.innerHTML = docLinkHtml;\n",
              "          element.appendChild(docLink);\n",
              "        }\n",
              "      </script>\n",
              "    </div>\n",
              "  </div>\n",
              "  "
            ]
          },
          "metadata": {},
          "execution_count": 9
        }
      ]
    },
    {
      "cell_type": "code",
      "source": [
        "data.shape"
      ],
      "metadata": {
        "colab": {
          "base_uri": "https://localhost:8080/"
        },
        "id": "ry2JwD4ojLyI",
        "outputId": "51742724-ad8e-4b44-cb41-aca1fdf0db81"
      },
      "execution_count": null,
      "outputs": [
        {
          "output_type": "execute_result",
          "data": {
            "text/plain": [
              "(442, 10)"
            ]
          },
          "metadata": {},
          "execution_count": 11
        }
      ]
    },
    {
      "cell_type": "markdown",
      "source": [
        "Linear Regression"
      ],
      "metadata": {
        "id": "ZvBpg3x0kGcE"
      }
    },
    {
      "cell_type": "code",
      "source": [
        "from sklearn.linear_model import LinearRegression\n",
        "sim_lr = LinearRegression()"
      ],
      "metadata": {
        "id": "n9c8H8dsi_ks"
      },
      "execution_count": null,
      "outputs": []
    },
    {
      "cell_type": "code",
      "source": [
        "from sklearn.model_selection import train_test_split\n",
        "X_train, X_test, y_train, y_test = train_test_split(data, label, test_size = 0.2, random_state=2023)"
      ],
      "metadata": {
        "id": "oNRIgU7dkcpt"
      },
      "execution_count": null,
      "outputs": []
    },
    {
      "cell_type": "code",
      "source": [
        "#혈당 수치\n",
        "X_train['s6']"
      ],
      "metadata": {
        "colab": {
          "base_uri": "https://localhost:8080/"
        },
        "id": "ac4EDuoPlOGn",
        "outputId": "711fff15-5bdf-4639-bdfd-f81a7a335b11"
      },
      "execution_count": null,
      "outputs": [
        {
          "output_type": "execute_result",
          "data": {
            "text/plain": [
              "4     -0.046641\n",
              "318    0.032059\n",
              "301    0.036201\n",
              "189   -0.025930\n",
              "288   -0.017646\n",
              "         ...   \n",
              "220   -0.067351\n",
              "417    0.003064\n",
              "183    0.056912\n",
              "25    -0.034215\n",
              "343    0.007207\n",
              "Name: s6, Length: 353, dtype: float64"
            ]
          },
          "metadata": {},
          "execution_count": 14
        }
      ]
    },
    {
      "cell_type": "code",
      "source": [
        "#형태 바꾸기\n",
        "X_train['s6'].values.reshape((-1,1))"
      ],
      "metadata": {
        "colab": {
          "base_uri": "https://localhost:8080/"
        },
        "id": "B0FHKsxblSzy",
        "outputId": "c876f933-763d-40d4-f83e-7e6698db4281"
      },
      "execution_count": null,
      "outputs": [
        {
          "output_type": "execute_result",
          "data": {
            "text/plain": [
              "array([[-0.04664087],\n",
              "       [ 0.03205916],\n",
              "       [ 0.03620126],\n",
              "       [-0.02593034],\n",
              "       [-0.01764613],\n",
              "       [ 0.02791705],\n",
              "       [ 0.00720652],\n",
              "       [ 0.01963284],\n",
              "       [-0.0010777 ],\n",
              "       [ 0.06933812],\n",
              "       [-0.03835666],\n",
              "       [-0.01350402],\n",
              "       [-0.01350402],\n",
              "       [ 0.01549073],\n",
              "       [ 0.04448548],\n",
              "       [-0.03421455],\n",
              "       [ 0.07348023],\n",
              "       [ 0.04034337],\n",
              "       [ 0.02791705],\n",
              "       [ 0.04448548],\n",
              "       [ 0.02377494],\n",
              "       [-0.03835666],\n",
              "       [-0.00936191],\n",
              "       [-0.0052198 ],\n",
              "       [ 0.00720652],\n",
              "       [ 0.02791705],\n",
              "       [ 0.04034337],\n",
              "       [-0.05906719],\n",
              "       [ 0.02791705],\n",
              "       [ 0.09833287],\n",
              "       [ 0.07348023],\n",
              "       [ 0.02791705],\n",
              "       [-0.0052198 ],\n",
              "       [-0.03421455],\n",
              "       [ 0.0569118 ],\n",
              "       [-0.04249877],\n",
              "       [-0.00936191],\n",
              "       [-0.03835666],\n",
              "       [ 0.06519601],\n",
              "       [-0.0010777 ],\n",
              "       [-0.01764613],\n",
              "       [-0.03835666],\n",
              "       [ 0.00720652],\n",
              "       [-0.03835666],\n",
              "       [-0.03835666],\n",
              "       [-0.0010777 ],\n",
              "       [-0.01764613],\n",
              "       [ 0.01134862],\n",
              "       [ 0.02791705],\n",
              "       [-0.0010777 ],\n",
              "       [-0.04664087],\n",
              "       [ 0.00306441],\n",
              "       [ 0.00306441],\n",
              "       [-0.03007245],\n",
              "       [-0.12948301],\n",
              "       [-0.01350402],\n",
              "       [ 0.04034337],\n",
              "       [ 0.08590655],\n",
              "       [ 0.09419076],\n",
              "       [ 0.00306441],\n",
              "       [ 0.04034337],\n",
              "       [-0.00936191],\n",
              "       [-0.0052198 ],\n",
              "       [ 0.04862759],\n",
              "       [-0.0010777 ],\n",
              "       [ 0.10661708],\n",
              "       [ 0.10661708],\n",
              "       [-0.03007245],\n",
              "       [-0.09220405],\n",
              "       [-0.05906719],\n",
              "       [-0.0052198 ],\n",
              "       [-0.0010777 ],\n",
              "       [-0.04249877],\n",
              "       [ 0.0569118 ],\n",
              "       [ 0.07348023],\n",
              "       [-0.00936191],\n",
              "       [ 0.04448548],\n",
              "       [ 0.08590655],\n",
              "       [-0.02593034],\n",
              "       [ 0.00306441],\n",
              "       [-0.03835666],\n",
              "       [ 0.01549073],\n",
              "       [-0.03835666],\n",
              "       [-0.06735141],\n",
              "       [ 0.02791705],\n",
              "       [ 0.01134862],\n",
              "       [ 0.02377494],\n",
              "       [-0.05906719],\n",
              "       [ 0.02791705],\n",
              "       [-0.05492509],\n",
              "       [-0.0632093 ],\n",
              "       [ 0.01134862],\n",
              "       [ 0.04448548],\n",
              "       [-0.06735141],\n",
              "       [ 0.08176444],\n",
              "       [ 0.04034337],\n",
              "       [-0.01764613],\n",
              "       [-0.01764613],\n",
              "       [-0.02178823],\n",
              "       [ 0.07348023],\n",
              "       [ 0.1190434 ],\n",
              "       [ 0.03205916],\n",
              "       [ 0.04034337],\n",
              "       [ 0.01549073],\n",
              "       [ 0.01134862],\n",
              "       [ 0.00306441],\n",
              "       [ 0.0569118 ],\n",
              "       [-0.01350402],\n",
              "       [-0.04249877],\n",
              "       [ 0.01549073],\n",
              "       [ 0.04034337],\n",
              "       [-0.08806194],\n",
              "       [-0.01764613],\n",
              "       [ 0.00306441],\n",
              "       [ 0.00306441],\n",
              "       [-0.10463037],\n",
              "       [-0.02593034],\n",
              "       [-0.0010777 ],\n",
              "       [ 0.02791705],\n",
              "       [ 0.00306441],\n",
              "       [ 0.01134862],\n",
              "       [ 0.01963284],\n",
              "       [-0.02593034],\n",
              "       [-0.02178823],\n",
              "       [ 0.01549073],\n",
              "       [ 0.06933812],\n",
              "       [-0.04249877],\n",
              "       [ 0.03620126],\n",
              "       [-0.0010777 ],\n",
              "       [-0.05078298],\n",
              "       [ 0.01963284],\n",
              "       [-0.03007245],\n",
              "       [ 0.02791705],\n",
              "       [-0.05492509],\n",
              "       [-0.02178823],\n",
              "       [ 0.00720652],\n",
              "       [ 0.01963284],\n",
              "       [-0.05492509],\n",
              "       [ 0.07348023],\n",
              "       [ 0.04448548],\n",
              "       [-0.0010777 ],\n",
              "       [-0.01764613],\n",
              "       [-0.03835666],\n",
              "       [-0.00936191],\n",
              "       [ 0.00720652],\n",
              "       [-0.04249877],\n",
              "       [-0.01764613],\n",
              "       [ 0.04034337],\n",
              "       [ 0.00720652],\n",
              "       [-0.05906719],\n",
              "       [ 0.03205916],\n",
              "       [-0.13776723],\n",
              "       [ 0.01549073],\n",
              "       [ 0.03620126],\n",
              "       [-0.04249877],\n",
              "       [ 0.12732762],\n",
              "       [-0.05492509],\n",
              "       [-0.0052198 ],\n",
              "       [-0.04664087],\n",
              "       [ 0.01549073],\n",
              "       [ 0.01549073],\n",
              "       [-0.0052198 ],\n",
              "       [ 0.05276969],\n",
              "       [-0.05492509],\n",
              "       [-0.01350402],\n",
              "       [-0.02178823],\n",
              "       [ 0.00306441],\n",
              "       [ 0.02377494],\n",
              "       [ 0.00306441],\n",
              "       [ 0.00720652],\n",
              "       [ 0.07348023],\n",
              "       [-0.09220405],\n",
              "       [ 0.13561183],\n",
              "       [-0.0010777 ],\n",
              "       [-0.05492509],\n",
              "       [-0.07563562],\n",
              "       [-0.05078298],\n",
              "       [ 0.01963284],\n",
              "       [-0.00936191],\n",
              "       [-0.07977773],\n",
              "       [-0.05078298],\n",
              "       [-0.05078298],\n",
              "       [-0.0010777 ],\n",
              "       [ 0.02377494],\n",
              "       [ 0.01549073],\n",
              "       [ 0.07348023],\n",
              "       [ 0.01963284],\n",
              "       [ 0.04034337],\n",
              "       [ 0.13146972],\n",
              "       [ 0.09004865],\n",
              "       [-0.00936191],\n",
              "       [ 0.03205916],\n",
              "       [ 0.07762233],\n",
              "       [-0.07977773],\n",
              "       [-0.01350402],\n",
              "       [-0.02178823],\n",
              "       [-0.07977773],\n",
              "       [-0.09634616],\n",
              "       [-0.01350402],\n",
              "       [ 0.01963284],\n",
              "       [-0.03007245],\n",
              "       [-0.05906719],\n",
              "       [-0.03421455],\n",
              "       [-0.05078298],\n",
              "       [ 0.06105391],\n",
              "       [-0.05492509],\n",
              "       [ 0.13561183],\n",
              "       [ 0.10661708],\n",
              "       [-0.05078298],\n",
              "       [-0.02178823],\n",
              "       [-0.06735141],\n",
              "       [ 0.05276969],\n",
              "       [-0.03835666],\n",
              "       [-0.07563562],\n",
              "       [-0.07149352],\n",
              "       [-0.03421455],\n",
              "       [-0.08391984],\n",
              "       [ 0.01963284],\n",
              "       [ 0.00720652],\n",
              "       [ 0.02377494],\n",
              "       [ 0.06933812],\n",
              "       [ 0.08176444],\n",
              "       [ 0.01549073],\n",
              "       [-0.0010777 ],\n",
              "       [ 0.01549073],\n",
              "       [ 0.04862759],\n",
              "       [-0.01350402],\n",
              "       [-0.07563562],\n",
              "       [-0.04664087],\n",
              "       [-0.07149352],\n",
              "       [-0.01764613],\n",
              "       [-0.03007245],\n",
              "       [ 0.04862759],\n",
              "       [ 0.08590655],\n",
              "       [-0.09220405],\n",
              "       [ 0.04448548],\n",
              "       [ 0.07762233],\n",
              "       [ 0.00720652],\n",
              "       [ 0.03620126],\n",
              "       [ 0.00306441],\n",
              "       [ 0.01963284],\n",
              "       [ 0.0569118 ],\n",
              "       [-0.01764613],\n",
              "       [ 0.04034337],\n",
              "       [-0.04249877],\n",
              "       [-0.05906719],\n",
              "       [-0.02593034],\n",
              "       [-0.08391984],\n",
              "       [-0.09220405],\n",
              "       [ 0.01134862],\n",
              "       [ 0.06105391],\n",
              "       [-0.0052198 ],\n",
              "       [ 0.00306441],\n",
              "       [ 0.06105391],\n",
              "       [ 0.00306441],\n",
              "       [ 0.06105391],\n",
              "       [ 0.01963284],\n",
              "       [ 0.03205916],\n",
              "       [ 0.00720652],\n",
              "       [-0.03421455],\n",
              "       [ 0.01963284],\n",
              "       [ 0.02377494],\n",
              "       [ 0.01963284],\n",
              "       [ 0.00306441],\n",
              "       [ 0.00306441],\n",
              "       [ 0.03620126],\n",
              "       [-0.07149352],\n",
              "       [ 0.01963284],\n",
              "       [-0.05906719],\n",
              "       [ 0.00720652],\n",
              "       [-0.02593034],\n",
              "       [ 0.01134862],\n",
              "       [ 0.06105391],\n",
              "       [-0.0052198 ],\n",
              "       [ 0.06933812],\n",
              "       [-0.08391984],\n",
              "       [ 0.02791705],\n",
              "       [-0.05492509],\n",
              "       [ 0.00720652],\n",
              "       [ 0.02791705],\n",
              "       [-0.03835666],\n",
              "       [-0.01764613],\n",
              "       [ 0.00720652],\n",
              "       [ 0.02377494],\n",
              "       [ 0.01549073],\n",
              "       [-0.01764613],\n",
              "       [-0.03007245],\n",
              "       [ 0.01134862],\n",
              "       [-0.04664087],\n",
              "       [-0.0052198 ],\n",
              "       [ 0.00720652],\n",
              "       [-0.05492509],\n",
              "       [-0.02178823],\n",
              "       [ 0.09833287],\n",
              "       [ 0.04862759],\n",
              "       [-0.0052198 ],\n",
              "       [ 0.06933812],\n",
              "       [-0.0632093 ],\n",
              "       [ 0.04448548],\n",
              "       [ 0.00306441],\n",
              "       [-0.01764613],\n",
              "       [ 0.00306441],\n",
              "       [-0.03007245],\n",
              "       [ 0.01963284],\n",
              "       [-0.0010777 ],\n",
              "       [-0.01350402],\n",
              "       [-0.06735141],\n",
              "       [-0.02593034],\n",
              "       [-0.0052198 ],\n",
              "       [ 0.0569118 ],\n",
              "       [ 0.10661708],\n",
              "       [ 0.06105391],\n",
              "       [ 0.01549073],\n",
              "       [-0.01764613],\n",
              "       [-0.03007245],\n",
              "       [-0.09634616],\n",
              "       [-0.04664087],\n",
              "       [-0.04249877],\n",
              "       [-0.05906719],\n",
              "       [ 0.04862759],\n",
              "       [ 0.00720652],\n",
              "       [ 0.08176444],\n",
              "       [ 0.03205916],\n",
              "       [ 0.02377494],\n",
              "       [ 0.03205916],\n",
              "       [-0.06735141],\n",
              "       [-0.02178823],\n",
              "       [-0.04664087],\n",
              "       [ 0.04034337],\n",
              "       [ 0.0569118 ],\n",
              "       [-0.07149352],\n",
              "       [ 0.00720652],\n",
              "       [ 0.01549073],\n",
              "       [-0.01350402],\n",
              "       [-0.05492509],\n",
              "       [-0.05078298],\n",
              "       [-0.07977773],\n",
              "       [-0.07149352],\n",
              "       [ 0.04862759],\n",
              "       [ 0.00306441],\n",
              "       [ 0.03205916],\n",
              "       [ 0.04862759],\n",
              "       [ 0.04034337],\n",
              "       [ 0.03205916],\n",
              "       [-0.05906719],\n",
              "       [-0.01350402],\n",
              "       [-0.02178823],\n",
              "       [-0.00936191],\n",
              "       [-0.06735141],\n",
              "       [ 0.00306441],\n",
              "       [ 0.0569118 ],\n",
              "       [-0.03421455],\n",
              "       [ 0.00720652]])"
            ]
          },
          "metadata": {},
          "execution_count": 16
        }
      ]
    },
    {
      "cell_type": "code",
      "source": [
        "#simple linear regression으로 학습하기\n",
        "sim_lr.fit(X_train['s6'].values.reshape((-1,1)), y_train)"
      ],
      "metadata": {
        "colab": {
          "base_uri": "https://localhost:8080/",
          "height": 74
        },
        "id": "2ILl5FeAmIY5",
        "outputId": "0fd1fe73-9893-46c9-9bfd-bdffe8e4af23"
      },
      "execution_count": null,
      "outputs": [
        {
          "output_type": "execute_result",
          "data": {
            "text/plain": [
              "LinearRegression()"
            ],
            "text/html": [
              "<style>#sk-container-id-1 {color: black;background-color: white;}#sk-container-id-1 pre{padding: 0;}#sk-container-id-1 div.sk-toggleable {background-color: white;}#sk-container-id-1 label.sk-toggleable__label {cursor: pointer;display: block;width: 100%;margin-bottom: 0;padding: 0.3em;box-sizing: border-box;text-align: center;}#sk-container-id-1 label.sk-toggleable__label-arrow:before {content: \"▸\";float: left;margin-right: 0.25em;color: #696969;}#sk-container-id-1 label.sk-toggleable__label-arrow:hover:before {color: black;}#sk-container-id-1 div.sk-estimator:hover label.sk-toggleable__label-arrow:before {color: black;}#sk-container-id-1 div.sk-toggleable__content {max-height: 0;max-width: 0;overflow: hidden;text-align: left;background-color: #f0f8ff;}#sk-container-id-1 div.sk-toggleable__content pre {margin: 0.2em;color: black;border-radius: 0.25em;background-color: #f0f8ff;}#sk-container-id-1 input.sk-toggleable__control:checked~div.sk-toggleable__content {max-height: 200px;max-width: 100%;overflow: auto;}#sk-container-id-1 input.sk-toggleable__control:checked~label.sk-toggleable__label-arrow:before {content: \"▾\";}#sk-container-id-1 div.sk-estimator input.sk-toggleable__control:checked~label.sk-toggleable__label {background-color: #d4ebff;}#sk-container-id-1 div.sk-label input.sk-toggleable__control:checked~label.sk-toggleable__label {background-color: #d4ebff;}#sk-container-id-1 input.sk-hidden--visually {border: 0;clip: rect(1px 1px 1px 1px);clip: rect(1px, 1px, 1px, 1px);height: 1px;margin: -1px;overflow: hidden;padding: 0;position: absolute;width: 1px;}#sk-container-id-1 div.sk-estimator {font-family: monospace;background-color: #f0f8ff;border: 1px dotted black;border-radius: 0.25em;box-sizing: border-box;margin-bottom: 0.5em;}#sk-container-id-1 div.sk-estimator:hover {background-color: #d4ebff;}#sk-container-id-1 div.sk-parallel-item::after {content: \"\";width: 100%;border-bottom: 1px solid gray;flex-grow: 1;}#sk-container-id-1 div.sk-label:hover label.sk-toggleable__label {background-color: #d4ebff;}#sk-container-id-1 div.sk-serial::before {content: \"\";position: absolute;border-left: 1px solid gray;box-sizing: border-box;top: 0;bottom: 0;left: 50%;z-index: 0;}#sk-container-id-1 div.sk-serial {display: flex;flex-direction: column;align-items: center;background-color: white;padding-right: 0.2em;padding-left: 0.2em;position: relative;}#sk-container-id-1 div.sk-item {position: relative;z-index: 1;}#sk-container-id-1 div.sk-parallel {display: flex;align-items: stretch;justify-content: center;background-color: white;position: relative;}#sk-container-id-1 div.sk-item::before, #sk-container-id-1 div.sk-parallel-item::before {content: \"\";position: absolute;border-left: 1px solid gray;box-sizing: border-box;top: 0;bottom: 0;left: 50%;z-index: -1;}#sk-container-id-1 div.sk-parallel-item {display: flex;flex-direction: column;z-index: 1;position: relative;background-color: white;}#sk-container-id-1 div.sk-parallel-item:first-child::after {align-self: flex-end;width: 50%;}#sk-container-id-1 div.sk-parallel-item:last-child::after {align-self: flex-start;width: 50%;}#sk-container-id-1 div.sk-parallel-item:only-child::after {width: 0;}#sk-container-id-1 div.sk-dashed-wrapped {border: 1px dashed gray;margin: 0 0.4em 0.5em 0.4em;box-sizing: border-box;padding-bottom: 0.4em;background-color: white;}#sk-container-id-1 div.sk-label label {font-family: monospace;font-weight: bold;display: inline-block;line-height: 1.2em;}#sk-container-id-1 div.sk-label-container {text-align: center;}#sk-container-id-1 div.sk-container {/* jupyter's `normalize.less` sets `[hidden] { display: none; }` but bootstrap.min.css set `[hidden] { display: none !important; }` so we also need the `!important` here to be able to override the default hidden behavior on the sphinx rendered scikit-learn.org. See: https://github.com/scikit-learn/scikit-learn/issues/21755 */display: inline-block !important;position: relative;}#sk-container-id-1 div.sk-text-repr-fallback {display: none;}</style><div id=\"sk-container-id-1\" class=\"sk-top-container\"><div class=\"sk-text-repr-fallback\"><pre>LinearRegression()</pre><b>In a Jupyter environment, please rerun this cell to show the HTML representation or trust the notebook. <br />On GitHub, the HTML representation is unable to render, please try loading this page with nbviewer.org.</b></div><div class=\"sk-container\" hidden><div class=\"sk-item\"><div class=\"sk-estimator sk-toggleable\"><input class=\"sk-toggleable__control sk-hidden--visually\" id=\"sk-estimator-id-1\" type=\"checkbox\" checked><label for=\"sk-estimator-id-1\" class=\"sk-toggleable__label sk-toggleable__label-arrow\">LinearRegression</label><div class=\"sk-toggleable__content\"><pre>LinearRegression()</pre></div></div></div></div></div>"
            ]
          },
          "metadata": {},
          "execution_count": 17
        }
      ]
    },
    {
      "cell_type": "code",
      "source": [
        "#예측하기>>배열로 만들어서 던져야한다.\n",
        "y_pred = sim_lr.predict(X_test['s6'].values.reshape((-1,1)))"
      ],
      "metadata": {
        "id": "2xvjoxjfmoaC"
      },
      "execution_count": null,
      "outputs": []
    },
    {
      "cell_type": "code",
      "source": [
        "#결과 확인\n",
        "from sklearn.metrics import r2_score\n",
        "print('단순 선형 회귀, R2: {:.2f}'.format(r2_score(y_test, y_pred)))"
      ],
      "metadata": {
        "colab": {
          "base_uri": "https://localhost:8080/"
        },
        "id": "dVKCQpctnM-j",
        "outputId": "b6c2c8bb-8d05-4baf-8501-29d3afce2df8"
      },
      "execution_count": null,
      "outputs": [
        {
          "output_type": "stream",
          "name": "stdout",
          "text": [
            "단순 선형 회귀, R2: 0.16\n"
          ]
        }
      ]
    },
    {
      "cell_type": "markdown",
      "source": [
        "데이터 시각화"
      ],
      "metadata": {
        "id": "1strjAR7tNIM"
      }
    },
    {
      "cell_type": "code",
      "source": [
        "plt.scatter(X_test['s6'], y_test, s=10, c='black')"
      ],
      "metadata": {
        "colab": {
          "base_uri": "https://localhost:8080/",
          "height": 448
        },
        "id": "OrseunsSoJ8i",
        "outputId": "424117ca-51df-4da2-a44f-3a9c14f062ac"
      },
      "execution_count": null,
      "outputs": [
        {
          "output_type": "execute_result",
          "data": {
            "text/plain": [
              "<matplotlib.collections.PathCollection at 0x7f61403abf10>"
            ]
          },
          "metadata": {},
          "execution_count": 21
        },
        {
          "output_type": "display_data",
          "data": {
            "text/plain": [
              "<Figure size 640x480 with 1 Axes>"
            ],
            "image/png": "[encoded data removed]"
          },
          "metadata": {}
        }
      ]
    },
    {
      "cell_type": "code",
      "source": [
        "#linear line의 생성 \n",
        "line_x = np.linspace(np.min(X_test['s6']), np.max(X_test['s6']), 10)\n",
        "line_y = sim_lr.predict(line_x.reshape((-1,1)))\n",
        "\n",
        "print(line_x)\n",
        "print(line_y)\n",
        "\n",
        "#Test data를 표현\n",
        "plt.scatter(X_test['s6'], y_test, s=10, c='black')\n",
        "plt.plot(line_x, line_y, c='red')"
      ],
      "metadata": {
        "colab": {
          "base_uri": "https://localhost:8080/",
          "height": 521
        },
        "id": "_ww2Haw0siRZ",
        "outputId": "993abc32-9734-42fc-c8e0-24b5478efcaf"
      },
      "execution_count": null,
      "outputs": [
        {
          "output_type": "stream",
          "name": "stdout",
          "text": [
            "[-0.12948301 -0.10002803 -0.07057305 -0.04111806 -0.01166308  0.0177919\n",
            "  0.04724688  0.07670187  0.10615685  0.13561183]\n",
            "[ 76.63014404  93.91143293 111.19272182 128.4740107  145.75529959\n",
            " 163.03658848 180.31787736 197.59916625 214.88045514 232.16174402]\n"
          ]
        },
        {
          "output_type": "execute_result",
          "data": {
            "text/plain": [
              "[<matplotlib.lines.Line2D at 0x7f613fcec7f0>]"
            ]
          },
          "metadata": {},
          "execution_count": 25
        },
        {
          "output_type": "display_data",
          "data": {
            "text/plain": [
              "<Figure size 640x480 with 1 Axes>"
            ],
            "image/png": "[encoded data removed]"
          },
          "metadata": {}
        }
      ]
    },
    {
      "cell_type": "code",
      "source": [
        "line_x = np.linspace(np.min(X_test['s6']), np.max(X_test['s6']), 10)\n",
        "line_y = sim_lr.predict(line_x.reshape((-1,1)))\n",
        "\n",
        "print(line_x)\n",
        "print(line_y)\n",
        "\n",
        "plt.scatter(X_test['s6'], y_test, s=10, c='black')\n",
        "plt.plot(line_x, line_y, c='red')\n",
        "plt.legend(['Test data sample','Regression line'])    #각주 달기"
      ],
      "metadata": {
        "colab": {
          "base_uri": "https://localhost:8080/",
          "height": 521
        },
        "id": "dp6fFQrEtxzc",
        "outputId": "2ea15f0e-db20-4241-b570-e123fb3ee378"
      },
      "execution_count": null,
      "outputs": [
        {
          "output_type": "stream",
          "name": "stdout",
          "text": [
            "[-0.12948301 -0.10002803 -0.07057305 -0.04111806 -0.01166308  0.0177919\n",
            "  0.04724688  0.07670187  0.10615685  0.13561183]\n",
            "[ 76.63014404  93.91143293 111.19272182 128.4740107  145.75529959\n",
            " 163.03658848 180.31787736 197.59916625 214.88045514 232.16174402]\n"
          ]
        },
        {
          "output_type": "execute_result",
          "data": {
            "text/plain": [
              "<matplotlib.legend.Legend at 0x7f613d9224a0>"
            ]
          },
          "metadata": {},
          "execution_count": 29
        },
        {
          "output_type": "display_data",
          "data": {
            "text/plain": [
              "<Figure size 640x480 with 1 Axes>"
            ],
            "image/png": "[encoded data removed]"
          },
          "metadata": {}
        }
      ]
    },
    {
      "cell_type": "code",
      "source": [
        "from sklearn.metrics import r2_score\n",
        "print('단순 선형 회귀, R2: {:.2f}'.format(r2_score(y_test, y_pred)))\n",
        "print('단순 선형 회귀 계수(w): {:.4f}, 절편(b): {:.4f}'.format(sim_lr.coef_[0],sim_lr.intercept_))"
      ],
      "metadata": {
        "colab": {
          "base_uri": "https://localhost:8080/"
        },
        "id": "IBhYBM_vvxAL",
        "outputId": "5d5e20e6-ab38-409f-881f-50d249410a00"
      },
      "execution_count": null,
      "outputs": [
        {
          "output_type": "stream",
          "name": "stdout",
          "text": [
            "단순 선형 회귀, R2: 0.16\n",
            "단순 선형 회귀 계수(w): 586.7017, 절편(b): 152.5980\n"
          ]
        }
      ]
    },
    {
      "cell_type": "markdown",
      "source": [
        "Multiple Linear Regression"
      ],
      "metadata": {
        "id": "aAS5bCRQxJs6"
      }
    },
    {
      "cell_type": "code",
      "source": [
        "# Multiple Linear Regression\n",
        "mul_lr = LinearRegression()\n",
        "mul_lr.fit(X_train,y_train)\n",
        "y_pred = mul_lr.predict(X_test)"
      ],
      "metadata": {
        "id": "N9_mhB-yw2oJ"
      },
      "execution_count": null,
      "outputs": []
    },
    {
      "cell_type": "code",
      "source": [
        "print('다중 선형 회귀, R2:{:.2f}'.format(r2_score(y_test, y_pred)))"
      ],
      "metadata": {
        "colab": {
          "base_uri": "https://localhost:8080/"
        },
        "id": "fOgmn3gcxXKq",
        "outputId": "95ff7e07-fa30-4e66-b1f3-df03d930a359"
      },
      "execution_count": null,
      "outputs": [
        {
          "output_type": "stream",
          "name": "stdout",
          "text": [
            "다중 선형 회귀, R2:0.50\n"
          ]
        }
      ]
    },
    {
      "cell_type": "markdown",
      "source": [
        "Machine Learning Algorithm Based Regression </br>\n",
        "1. Decision Tree Regressor"
      ],
      "metadata": {
        "id": "UAc_4_KjyWnJ"
      }
    },
    {
      "cell_type": "code",
      "source": [
        "# Decision Tree Regressor\n",
        "from sklearn.tree import DecisionTreeRegressor\n",
        "dt_regr = DecisionTreeRegressor()"
      ],
      "metadata": {
        "id": "n5e79xDnxyxa"
      },
      "execution_count": null,
      "outputs": []
    },
    {
      "cell_type": "code",
      "source": [
        "dt_regr.fit(X_train['s6'].values.reshape((-1,1)),y_train)"
      ],
      "metadata": {
        "colab": {
          "base_uri": "https://localhost:8080/",
          "height": 74
        },
        "id": "E0uPst5_0CGP",
        "outputId": "1642942b-bbb5-4fed-b89f-18b1d5a12940"
      },
      "execution_count": null,
      "outputs": [
        {
          "output_type": "execute_result",
          "data": {
            "text/plain": [
              "DecisionTreeRegressor()"
            ],
            "text/html": [
              "<style>#sk-container-id-3 {color: black;background-color: white;}#sk-container-id-3 pre{padding: 0;}#sk-container-id-3 div.sk-toggleable {background-color: white;}#sk-container-id-3 label.sk-toggleable__label {cursor: pointer;display: block;width: 100%;margin-bottom: 0;padding: 0.3em;box-sizing: border-box;text-align: center;}#sk-container-id-3 label.sk-toggleable__label-arrow:before {content: \"▸\";float: left;margin-right: 0.25em;color: #696969;}#sk-container-id-3 label.sk-toggleable__label-arrow:hover:before {color: black;}#sk-container-id-3 div.sk-estimator:hover label.sk-toggleable__label-arrow:before {color: black;}#sk-container-id-3 div.sk-toggleable__content {max-height: 0;max-width: 0;overflow: hidden;text-align: left;background-color: #f0f8ff;}#sk-container-id-3 div.sk-toggleable__content pre {margin: 0.2em;color: black;border-radius: 0.25em;background-color: #f0f8ff;}#sk-container-id-3 input.sk-toggleable__control:checked~div.sk-toggleable__content {max-height: 200px;max-width: 100%;overflow: auto;}#sk-container-id-3 input.sk-toggleable__control:checked~label.sk-toggleable__label-arrow:before {content: \"▾\";}#sk-container-id-3 div.sk-estimator input.sk-toggleable__control:checked~label.sk-toggleable__label {background-color: #d4ebff;}#sk-container-id-3 div.sk-label input.sk-toggleable__control:checked~label.sk-toggleable__label {background-color: #d4ebff;}#sk-container-id-3 input.sk-hidden--visually {border: 0;clip: rect(1px 1px 1px 1px);clip: rect(1px, 1px, 1px, 1px);height: 1px;margin: -1px;overflow: hidden;padding: 0;position: absolute;width: 1px;}#sk-container-id-3 div.sk-estimator {font-family: monospace;background-color: #f0f8ff;border: 1px dotted black;border-radius: 0.25em;box-sizing: border-box;margin-bottom: 0.5em;}#sk-container-id-3 div.sk-estimator:hover {background-color: #d4ebff;}#sk-container-id-3 div.sk-parallel-item::after {content: \"\";width: 100%;border-bottom: 1px solid gray;flex-grow: 1;}#sk-container-id-3 div.sk-label:hover label.sk-toggleable__label {background-color: #d4ebff;}#sk-container-id-3 div.sk-serial::before {content: \"\";position: absolute;border-left: 1px solid gray;box-sizing: border-box;top: 0;bottom: 0;left: 50%;z-index: 0;}#sk-container-id-3 div.sk-serial {display: flex;flex-direction: column;align-items: center;background-color: white;padding-right: 0.2em;padding-left: 0.2em;position: relative;}#sk-container-id-3 div.sk-item {position: relative;z-index: 1;}#sk-container-id-3 div.sk-parallel {display: flex;align-items: stretch;justify-content: center;background-color: white;position: relative;}#sk-container-id-3 div.sk-item::before, #sk-container-id-3 div.sk-parallel-item::before {content: \"\";position: absolute;border-left: 1px solid gray;box-sizing: border-box;top: 0;bottom: 0;left: 50%;z-index: -1;}#sk-container-id-3 div.sk-parallel-item {display: flex;flex-direction: column;z-index: 1;position: relative;background-color: white;}#sk-container-id-3 div.sk-parallel-item:first-child::after {align-self: flex-end;width: 50%;}#sk-container-id-3 div.sk-parallel-item:last-child::after {align-self: flex-start;width: 50%;}#sk-container-id-3 div.sk-parallel-item:only-child::after {width: 0;}#sk-container-id-3 div.sk-dashed-wrapped {border: 1px dashed gray;margin: 0 0.4em 0.5em 0.4em;box-sizing: border-box;padding-bottom: 0.4em;background-color: white;}#sk-container-id-3 div.sk-label label {font-family: monospace;font-weight: bold;display: inline-block;line-height: 1.2em;}#sk-container-id-3 div.sk-label-container {text-align: center;}#sk-container-id-3 div.sk-container {/* jupyter's `normalize.less` sets `[hidden] { display: none; }` but bootstrap.min.css set `[hidden] { display: none !important; }` so we also need the `!important` here to be able to override the default hidden behavior on the sphinx rendered scikit-learn.org. See: https://github.com/scikit-learn/scikit-learn/issues/21755 */display: inline-block !important;position: relative;}#sk-container-id-3 div.sk-text-repr-fallback {display: none;}</style><div id=\"sk-container-id-3\" class=\"sk-top-container\"><div class=\"sk-text-repr-fallback\"><pre>DecisionTreeRegressor()</pre><b>In a Jupyter environment, please rerun this cell to show the HTML representation or trust the notebook. <br />On GitHub, the HTML representation is unable to render, please try loading this page with nbviewer.org.</b></div><div class=\"sk-container\" hidden><div class=\"sk-item\"><div class=\"sk-estimator sk-toggleable\"><input class=\"sk-toggleable__control sk-hidden--visually\" id=\"sk-estimator-id-3\" type=\"checkbox\" checked><label for=\"sk-estimator-id-3\" class=\"sk-toggleable__label sk-toggleable__label-arrow\">DecisionTreeRegressor</label><div class=\"sk-toggleable__content\"><pre>DecisionTreeRegressor()</pre></div></div></div></div></div>"
            ]
          },
          "metadata": {},
          "execution_count": 36
        }
      ]
    },
    {
      "cell_type": "code",
      "source": [
        "y_pred = dt_regr.predict(X_test['s6'].values.reshape((-1,1)))"
      ],
      "metadata": {
        "id": "eBMIFNil0XyI"
      },
      "execution_count": null,
      "outputs": []
    },
    {
      "cell_type": "code",
      "source": [
        "print('둔순 결정 트리 회귀 R2: {:.2f}'.format(r2_score(y_test, y_pred)))"
      ],
      "metadata": {
        "colab": {
          "base_uri": "https://localhost:8080/"
        },
        "id": "CJiWiDLK0_YQ",
        "outputId": "535d4b43-0bbc-4bff-a19f-ad918bdffb94"
      },
      "execution_count": null,
      "outputs": [
        {
          "output_type": "stream",
          "name": "stdout",
          "text": [
            "둔순 결정 트리 회귀 R2: 0.10\n"
          ]
        }
      ]
    },
    {
      "cell_type": "code",
      "source": [
        "line_x = np.linspace(np.min(X_test['s6']), np.max(X_test['s6']), 10)\n",
        "line_y = dt_regr.predict(line_x.reshape((-1,1)))\n",
        "\n",
        "print(line_x)\n",
        "print(line_y)\n",
        "\n",
        "plt.scatter(X_test['s6'], y_test, s=10, c='black')\n",
        "plt.plot(line_x, line_y, c='red')\n",
        "plt.legend(['Test data sample','Regression line'])"
      ],
      "metadata": {
        "colab": {
          "base_uri": "https://localhost:8080/",
          "height": 521
        },
        "id": "dkpgtUfJ1PAd",
        "outputId": "bd4bdce0-1a52-4843-f396-b0176cf4e45e"
      },
      "execution_count": null,
      "outputs": [
        {
          "output_type": "stream",
          "name": "stdout",
          "text": [
            "[-0.12948301 -0.10002803 -0.07057305 -0.04111806 -0.01166308  0.0177919\n",
            "  0.04724688  0.07670187  0.10615685  0.13561183]\n",
            "[125.         103.         108.6        125.75       118.63636364\n",
            " 150.42857143 185.14285714 278.         184.25       263.        ]\n"
          ]
        },
        {
          "output_type": "execute_result",
          "data": {
            "text/plain": [
              "<matplotlib.legend.Legend at 0x7f613d843190>"
            ]
          },
          "metadata": {},
          "execution_count": 41
        },
        {
          "output_type": "display_data",
          "data": {
            "text/plain": [
              "<Figure size 640x480 with 1 Axes>"
            ],
            "image/png": "[encoded data removed]"
          },
          "metadata": {}
        }
      ]
    },
    {
      "cell_type": "code",
      "source": [
        "from sklearn.tree import DecisionTreeRegressor\n",
        "dt_regr = DecisionTreeRegressor(max_depth=5)\n",
        "\n",
        "dt_regr.fit(X_train['s6'].values.reshape((-1,1)),y_train)\n",
        "\n",
        "y_pred = dt_regr.predict(X_test['s6'].values.reshape((-1,1)))\n",
        "\n",
        "print('둔순 결정 트리 회귀 R2: {:.2f}'.format(r2_score(y_test, y_pred)))"
      ],
      "metadata": {
        "colab": {
          "base_uri": "https://localhost:8080/"
        },
        "id": "rE6_56wa1gUk",
        "outputId": "eb724d60-b2e7-4890-b5ae-2a7e9aaca295"
      },
      "execution_count": null,
      "outputs": [
        {
          "output_type": "stream",
          "name": "stdout",
          "text": [
            "둔순 결정 트리 회귀 R2: 0.14\n"
          ]
        }
      ]
    },
    {
      "cell_type": "code",
      "source": [
        "line_x = np.linspace(np.min(X_test['s6']), np.max(X_test['s6']), 10)\n",
        "line_y = dt_regr.predict(line_x.reshape((-1,1)))\n",
        "\n",
        "print(line_x)\n",
        "print(line_y)\n",
        "\n",
        "plt.scatter(X_test['s6'], y_test, s=10, c='black')\n",
        "plt.plot(line_x, line_y, c='red')\n",
        "plt.legend(['Test data sample','Regression line'])\n",
        "#그래프가 완만해짐!!"
      ],
      "metadata": {
        "colab": {
          "base_uri": "https://localhost:8080/",
          "height": 521
        },
        "id": "8qRaFTu41uCU",
        "outputId": "1d54c697-992d-43a7-eec1-57ece0f9e631"
      },
      "execution_count": null,
      "outputs": [
        {
          "output_type": "stream",
          "name": "stdout",
          "text": [
            "[-0.12948301 -0.10002803 -0.07057305 -0.04111806 -0.01166308  0.0177919\n",
            "  0.04724688  0.07670187  0.10615685  0.13561183]\n",
            "[118.41176471 118.41176471 118.41176471 125.75       118.63636364\n",
            " 150.42857143 197.57692308 202.66666667 202.66666667 263.        ]\n"
          ]
        },
        {
          "output_type": "execute_result",
          "data": {
            "text/plain": [
              "<matplotlib.legend.Legend at 0x7f613d7f9150>"
            ]
          },
          "metadata": {},
          "execution_count": 43
        },
        {
          "output_type": "display_data",
          "data": {
            "text/plain": [
              "<Figure size 640x480 with 1 Axes>"
            ],
            "image/png": "[encoded data removed]"
          },
          "metadata": {}
        }
      ]
    },
    {
      "cell_type": "markdown",
      "source": [
        "2. multiple Decision Tree Regressor"
      ],
      "metadata": {
        "id": "9FxD9vEK7Bw5"
      }
    },
    {
      "cell_type": "code",
      "source": [
        "mt_regre = DecisionTreeRegressor(max_depth=3)\n",
        "mt_regre.fit(X_train, y_train)\n",
        "y_pred = mt_regre.predict(X_test)\n",
        "\n",
        "print('다중 결정 트리 회귀, r2: {:2f}'.format(r2_score(y_test, y_pred)))"
      ],
      "metadata": {
        "colab": {
          "base_uri": "https://localhost:8080/"
        },
        "id": "QxvzDDVO1uhq",
        "outputId": "04c0cfb9-90ac-47d6-fb5f-04251ced47c4"
      },
      "execution_count": null,
      "outputs": [
        {
          "output_type": "stream",
          "name": "stdout",
          "text": [
            "다중 결정 트리 회귀, r2: 0.354829\n"
          ]
        }
      ]
    },
    {
      "cell_type": "code",
      "source": [
        "# Support Vector Machine Regressor\n",
        "from sklearn.svm import SVR\n",
        "svm_regre = SVR()\n",
        "svm_regre.fit(X_train['s6'].values.reshape((-1,1)), y_train)\n",
        "y_pred = svm_regre.predict(X_test['s6'].values.reshape((-1,1)))\n",
        "print('단순 서포트 백터 머신 회귀, R2: {:.2f}'.format(r2_score(y_test, y_pred)))"
      ],
      "metadata": {
        "colab": {
          "base_uri": "https://localhost:8080/"
        },
        "id": "Hp5_AiyB5QE4",
        "outputId": "ca24671f-f928-4e80-de7f-f984a36afa92"
      },
      "execution_count": null,
      "outputs": [
        {
          "output_type": "stream",
          "name": "stdout",
          "text": [
            "단순 서포트 백터 머신 회귀, R2: 0.06\n"
          ]
        }
      ]
    },
    {
      "cell_type": "code",
      "source": [
        "svm_regr = SVR()\n",
        "svm_regr.fit(X_train, y_train)\n",
        "y_pred = svm_regr.predict(X_test)\n",
        "print('다중 서포트 백터 머신 회귀, R2: {:.2f}'.format(r2_score(y_test,y_pred)))"
      ],
      "metadata": {
        "colab": {
          "base_uri": "https://localhost:8080/"
        },
        "id": "qC6JJLnF5mjU",
        "outputId": "fe522690-5593-4d2a-ec8f-cbc1c98489f9"
      },
      "execution_count": null,
      "outputs": [
        {
          "output_type": "stream",
          "name": "stdout",
          "text": [
            "다중 서포트 백터 머신 회귀, R2: 0.17\n"
          ]
        }
      ]
    },
    {
      "cell_type": "code",
      "source": [
        "svm_regr = SVR(C=2) #C값으로 정확도 올리기\n",
        "svm_regr.fit(X_train, y_train)\n",
        "y_pred = svm_regr.predict(X_test)\n",
        "print('다중 서포트 백터 머신 회귀, R2: {:.2f}'.format(r2_score(y_test,y_pred)))"
      ],
      "metadata": {
        "colab": {
          "base_uri": "https://localhost:8080/"
        },
        "id": "nznE_SSB9WPa",
        "outputId": "9d4c2ff9-fa7c-46a9-85b5-107c84828579"
      },
      "execution_count": null,
      "outputs": [
        {
          "output_type": "stream",
          "name": "stdout",
          "text": [
            "다중 서포트 백터 머신 회귀, R2: 0.29\n"
          ]
        }
      ]
    },
    {
      "cell_type": "code",
      "source": [
        "#C 값을 얼마나 해야 좋은가.\n",
        "\n",
        "for i in [1,2,3,4,5,6,7,8,9,10,11,12,13,14,15,16,17,18,19,20]:\n",
        "  svm_regr = SVR(C=i) #C값으로 정확도 올리기\n",
        "  svm_regr.fit(X_train, y_train)\n",
        "  y_pred = svm_regr.predict(X_test)\n",
        "  print('다중 서포트 백터 머신 회귀,i={} R2: {:.2f}'.format(i,r2_score(y_test,y_pred)))"
      ],
      "metadata": {
        "colab": {
          "base_uri": "https://localhost:8080/"
        },
        "id": "uiJYcDFR9ty3",
        "outputId": "7d033e7f-1f93-4e19-f42c-c700946e44bd"
      },
      "execution_count": null,
      "outputs": [
        {
          "output_type": "stream",
          "name": "stdout",
          "text": [
            "다중 서포트 백터 머신 회귀,i=1 R2: 0.17\n",
            "다중 서포트 백터 머신 회귀,i=2 R2: 0.29\n",
            "다중 서포트 백터 머신 회귀,i=3 R2: 0.35\n",
            "다중 서포트 백터 머신 회귀,i=4 R2: 0.39\n",
            "다중 서포트 백터 머신 회귀,i=5 R2: 0.42\n",
            "다중 서포트 백터 머신 회귀,i=6 R2: 0.44\n",
            "다중 서포트 백터 머신 회귀,i=7 R2: 0.46\n",
            "다중 서포트 백터 머신 회귀,i=8 R2: 0.47\n",
            "다중 서포트 백터 머신 회귀,i=9 R2: 0.48\n",
            "다중 서포트 백터 머신 회귀,i=10 R2: 0.49\n",
            "다중 서포트 백터 머신 회귀,i=11 R2: 0.49\n",
            "다중 서포트 백터 머신 회귀,i=12 R2: 0.50\n",
            "다중 서포트 백터 머신 회귀,i=13 R2: 0.50\n",
            "다중 서포트 백터 머신 회귀,i=14 R2: 0.50\n",
            "다중 서포트 백터 머신 회귀,i=15 R2: 0.50\n",
            "다중 서포트 백터 머신 회귀,i=16 R2: 0.50\n",
            "다중 서포트 백터 머신 회귀,i=17 R2: 0.50\n",
            "다중 서포트 백터 머신 회귀,i=18 R2: 0.50\n",
            "다중 서포트 백터 머신 회귀,i=19 R2: 0.50\n",
            "다중 서포트 백터 머신 회귀,i=20 R2: 0.50\n"
          ]
        }
      ]
    },
    {
      "cell_type": "markdown",
      "source": [
        "Multi Layer Perceptron Regressor"
      ],
      "metadata": {
        "id": "GooUM7U4_k6s"
      }
    },
    {
      "cell_type": "code",
      "source": [
        "from sklearn.neural_network import MLPRegressor\n",
        "mpl_regr = MLPRegressor()\n",
        "mpl_regr.fit(X_train, y_train)\n",
        "y_pred = mpl_regr.predict(X_test)\n",
        "print('다중 MLP 회귀 R2: {:.2f}'.format(r2_score(y_test, y_pred)))"
      ],
      "metadata": {
        "colab": {
          "base_uri": "https://localhost:8080/"
        },
        "id": "t7AkEZbz-aZo",
        "outputId": "3a46ae8b-001b-4941-e1a2-ce89edc0c79f"
      },
      "execution_count": null,
      "outputs": [
        {
          "output_type": "stream",
          "name": "stdout",
          "text": [
            "다중 MLP 회귀 R2: -2.27\n"
          ]
        },
        {
          "output_type": "stream",
          "name": "stderr",
          "text": [
            "/usr/local/lib/python3.10/dist-packages/sklearn/neural_network/_multilayer_perceptron.py:686: ConvergenceWarning: Stochastic Optimizer: Maximum iterations (200) reached and the optimization hasn't converged yet.\n",
            "  warnings.warn(\n"
          ]
        }
      ]
    },
    {
      "cell_type": "code",
      "source": [
        "#옵션 주기\n",
        "from sklearn.neural_network import MLPRegressor\n",
        "mpl_regr = MLPRegressor(hidden_layer_sizes =200, max_iter=400) #옵션추가하기\n",
        "mpl_regr.fit(X_train, y_train)\n",
        "y_pred = mpl_regr.predict(X_test)\n",
        "print('다중 MLP 회귀 R2: {:.2f}'.format(r2_score(y_test, y_pred)))"
      ],
      "metadata": {
        "colab": {
          "base_uri": "https://localhost:8080/"
        },
        "id": "JSWXbIMdAOB_",
        "outputId": "6b35bd41-e079-4358-e720-3a1826757446"
      },
      "execution_count": null,
      "outputs": [
        {
          "output_type": "stream",
          "name": "stdout",
          "text": [
            "다중 MLP 회귀 R2: 0.10\n"
          ]
        },
        {
          "output_type": "stream",
          "name": "stderr",
          "text": [
            "/usr/local/lib/python3.10/dist-packages/sklearn/neural_network/_multilayer_perceptron.py:686: ConvergenceWarning: Stochastic Optimizer: Maximum iterations (400) reached and the optimization hasn't converged yet.\n",
            "  warnings.warn(\n"
          ]
        }
      ]
    },
    {
      "cell_type": "code",
      "source": [],
      "metadata": {
        "id": "4ohWDshuBFoy"
      },
      "execution_count": null,
      "outputs": []
    }
  ]
}
