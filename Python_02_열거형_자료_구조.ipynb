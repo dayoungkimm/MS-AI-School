{
  "nbformat": 4,
  "nbformat_minor": 0,
  "metadata": {
    "colab": {
      "provenance": [],
      "authorship_tag": "ABX9TyPkW7A5L2COKPyHBl+2DlSQ",
      "include_colab_link": true
    },
    "kernelspec": {
      "name": "python3",
      "display_name": "Python 3"
    },
    "language_info": {
      "name": "python"
    }
  },
  "cells": [
    {
      "cell_type": "markdown",
      "metadata": {
        "id": "view-in-github",
        "colab_type": "text"
      },
      "source": [
        "<a href=\"https://colab.research.google.com/github/dayoungkimm/MS-AI-School/blob/main/Python_02_%EC%97%B4%EA%B1%B0%ED%98%95_%EC%9E%90%EB%A3%8C_%EA%B5%AC%EC%A1%B0.ipynb\" target=\"_parent\"><img src=\"https://colab.research.google.com/assets/colab-badge.svg\" alt=\"Open In Colab\"/></a>"
      ]
    },
    {
      "cell_type": "markdown",
      "source": [
        "2023-04-16 복습"
      ],
      "metadata": {
        "id": "lzPREZ_YN_Tz"
      }
    },
    {
      "cell_type": "markdown",
      "source": [
        "###1. List [ ]"
      ],
      "metadata": {
        "id": "ES108Z0KGSmu"
      }
    },
    {
      "cell_type": "code",
      "source": [
        "colors = ['red', 'green', 'gold']\n",
        "print(colors)\n",
        "print(type(colors))"
      ],
      "metadata": {
        "colab": {
          "base_uri": "https://localhost:8080/"
        },
        "id": "M4KERrLGGes5",
        "outputId": "b89b650c-2799-4ffe-d4f2-ca3d744a004b"
      },
      "execution_count": 15,
      "outputs": [
        {
          "output_type": "stream",
          "name": "stdout",
          "text": [
            "['red', 'green', 'gold']\n",
            "<class 'list'>\n"
          ]
        }
      ]
    },
    {
      "cell_type": "markdown",
      "source": [
        "1. 리스트 내에 요소 추가 \"append\""
      ],
      "metadata": {
        "id": "ZV5siqq1GZzu"
      }
    },
    {
      "cell_type": "code",
      "execution_count": 16,
      "metadata": {
        "colab": {
          "base_uri": "https://localhost:8080/"
        },
        "id": "j1A_rXn0GHdT",
        "outputId": "8561e84b-5a0a-4e33-b3e0-d51af39d1c48"
      },
      "outputs": [
        {
          "output_type": "stream",
          "name": "stdout",
          "text": [
            "['red', 'green', 'gold', 'blue']\n"
          ]
        }
      ],
      "source": [
        "colors.append('blue')\n",
        "print(colors)"
      ]
    },
    {
      "cell_type": "markdown",
      "source": [
        "2. 원하는 위치에 삽입(원하는 위치, 요소)"
      ],
      "metadata": {
        "id": "_luLtyHbGvzm"
      }
    },
    {
      "cell_type": "code",
      "source": [
        "colors.insert(1,'black')\n",
        "print(colors)"
      ],
      "metadata": {
        "colab": {
          "base_uri": "https://localhost:8080/"
        },
        "id": "YzIB8bCYGtWi",
        "outputId": "94957b5e-005f-4297-f621-e44586a0c3b3"
      },
      "execution_count": 17,
      "outputs": [
        {
          "output_type": "stream",
          "name": "stdout",
          "text": [
            "['red', 'black', 'green', 'gold', 'blue']\n"
          ]
        }
      ]
    },
    {
      "cell_type": "markdown",
      "source": [
        "3. 요소 뒤에 확장(여러 요소 추가) >> List [ ]로 추가필요"
      ],
      "metadata": {
        "id": "XgjA0EoqG6s8"
      }
    },
    {
      "cell_type": "code",
      "source": [
        "colors.extend(['white','gray'])\n",
        "print(colors)"
      ],
      "metadata": {
        "colab": {
          "base_uri": "https://localhost:8080/"
        },
        "id": "2slh6X8fG43l",
        "outputId": "a73d0214-bb46-47c5-bb41-bceeb70e6d6c"
      },
      "execution_count": 18,
      "outputs": [
        {
          "output_type": "stream",
          "name": "stdout",
          "text": [
            "['red', 'black', 'green', 'gold', 'blue', 'white', 'gray']\n"
          ]
        }
      ]
    },
    {
      "cell_type": "code",
      "source": [
        "colors += ['red']   #colors = colors + ['red']\n",
        "print(colors)"
      ],
      "metadata": {
        "colab": {
          "base_uri": "https://localhost:8080/"
        },
        "id": "gJvs0U9dHEhm",
        "outputId": "3bab51cd-7033-48bd-cd71-daa5d1b98644"
      },
      "execution_count": 19,
      "outputs": [
        {
          "output_type": "stream",
          "name": "stdout",
          "text": [
            "['red', 'black', 'green', 'gold', 'blue', 'white', 'gray', 'red']\n"
          ]
        }
      ]
    },
    {
      "cell_type": "markdown",
      "source": [
        "4. 리스트 내 index, pop"
      ],
      "metadata": {
        "id": "ova4znDtHkQO"
      }
    },
    {
      "cell_type": "code",
      "source": [
        "print(colors.index('red'))\n",
        "print(colors.index('red',1))\n",
        "print(colors.count('red'))"
      ],
      "metadata": {
        "colab": {
          "base_uri": "https://localhost:8080/"
        },
        "id": "dZDEAo54HYli",
        "outputId": "fbe78369-d2be-4835-eee8-95e0ffba6329"
      },
      "execution_count": 20,
      "outputs": [
        {
          "output_type": "stream",
          "name": "stdout",
          "text": [
            "0\n",
            "7\n",
            "2\n"
          ]
        }
      ]
    },
    {
      "cell_type": "code",
      "source": [
        "colors.pop()"
      ],
      "metadata": {
        "colab": {
          "base_uri": "https://localhost:8080/",
          "height": 35
        },
        "id": "kQDIxWT2HhEY",
        "outputId": "0b861dab-e79a-4447-e6c7-ee5f5c787335"
      },
      "execution_count": 21,
      "outputs": [
        {
          "output_type": "execute_result",
          "data": {
            "text/plain": [
              "'red'"
            ],
            "application/vnd.google.colaboratory.intrinsic+json": {
              "type": "string"
            }
          },
          "metadata": {},
          "execution_count": 21
        }
      ]
    },
    {
      "cell_type": "code",
      "source": [
        "colors.pop()"
      ],
      "metadata": {
        "colab": {
          "base_uri": "https://localhost:8080/",
          "height": 35
        },
        "id": "zk3LnAzNHpF4",
        "outputId": "9fb34487-7820-43c7-b06e-22bbec259ab9"
      },
      "execution_count": 22,
      "outputs": [
        {
          "output_type": "execute_result",
          "data": {
            "text/plain": [
              "'gray'"
            ],
            "application/vnd.google.colaboratory.intrinsic+json": {
              "type": "string"
            }
          },
          "metadata": {},
          "execution_count": 22
        }
      ]
    },
    {
      "cell_type": "code",
      "source": [
        "colors.pop(1)"
      ],
      "metadata": {
        "colab": {
          "base_uri": "https://localhost:8080/",
          "height": 35
        },
        "id": "a2Em1M_mHqTO",
        "outputId": "e0879716-e9bf-47da-ba93-0980bcfded6c"
      },
      "execution_count": 23,
      "outputs": [
        {
          "output_type": "execute_result",
          "data": {
            "text/plain": [
              "'black'"
            ],
            "application/vnd.google.colaboratory.intrinsic+json": {
              "type": "string"
            }
          },
          "metadata": {},
          "execution_count": 23
        }
      ]
    },
    {
      "cell_type": "code",
      "source": [
        "print(colors)"
      ],
      "metadata": {
        "colab": {
          "base_uri": "https://localhost:8080/"
        },
        "id": "_OfoF6DIHsZr",
        "outputId": "54cdc2c5-24bc-4522-ef4d-1ec0614df17f"
      },
      "execution_count": 24,
      "outputs": [
        {
          "output_type": "stream",
          "name": "stdout",
          "text": [
            "['red', 'green', 'gold', 'blue', 'white']\n"
          ]
        }
      ]
    },
    {
      "cell_type": "markdown",
      "source": [
        "5. remove는 해당 값을 삭제 가능"
      ],
      "metadata": {
        "id": "921sjdIEH15C"
      }
    },
    {
      "cell_type": "code",
      "source": [
        "colors.remove('gold')\n",
        "print(colors)"
      ],
      "metadata": {
        "colab": {
          "base_uri": "https://localhost:8080/"
        },
        "id": "XaUaPazhHtkI",
        "outputId": "2e1792c4-b589-4064-edf6-a880e88cfb68"
      },
      "execution_count": 25,
      "outputs": [
        {
          "output_type": "stream",
          "name": "stdout",
          "text": [
            "['red', 'green', 'blue', 'white']\n"
          ]
        }
      ]
    },
    {
      "cell_type": "markdown",
      "source": [
        "6. sort는 알파벳 순서대로 정렬 / reverse는 역순으로 정렬\n"
      ],
      "metadata": {
        "id": "4YJIz_C0IBQ6"
      }
    },
    {
      "cell_type": "code",
      "source": [
        "colors.sort()\n",
        "print(colors)\n",
        "\n",
        "colors.reverse()\n",
        "print(colors)"
      ],
      "metadata": {
        "colab": {
          "base_uri": "https://localhost:8080/"
        },
        "id": "yC-0JJQjH7Kl",
        "outputId": "dedaded0-81ed-4801-eb93-264acac55f4d"
      },
      "execution_count": 26,
      "outputs": [
        {
          "output_type": "stream",
          "name": "stdout",
          "text": [
            "['blue', 'green', 'red', 'white']\n",
            "['white', 'red', 'green', 'blue']\n"
          ]
        }
      ]
    },
    {
      "cell_type": "markdown",
      "source": [
        "###2. 세트(set) { }"
      ],
      "metadata": {
        "id": "Q_B4kLXAIPAk"
      }
    },
    {
      "cell_type": "code",
      "source": [
        "a = {1,2,3}\n",
        "b = {3,4,5}\n",
        "\n",
        "print(a,b)\n",
        "print(type(a))"
      ],
      "metadata": {
        "colab": {
          "base_uri": "https://localhost:8080/"
        },
        "id": "vTLqRPT4IN1y",
        "outputId": "503e90ac-567b-4524-a841-08733f7c136b"
      },
      "execution_count": 27,
      "outputs": [
        {
          "output_type": "stream",
          "name": "stdout",
          "text": [
            "{1, 2, 3} {3, 4, 5}\n",
            "<class 'set'>\n"
          ]
        }
      ]
    },
    {
      "cell_type": "markdown",
      "source": [
        "1. 합집합, 교집합"
      ],
      "metadata": {
        "id": "tWL7ICexIcz6"
      }
    },
    {
      "cell_type": "code",
      "source": [
        "print(a.union(b))          #union 합집합\n",
        "print(a.intersection(b))   #intersection 교집합\n",
        "print(a-b)                 # 차집합\n",
        "\n",
        "#이렇게 연산자로도 표현 가능하나 되도록이면 위의 함수로 직접 표현하기! 실수할 수 있음!!\n",
        "print(a-b)                 #차집합\n",
        "print(a | b)               #합집합\n",
        "print(a&b)                 #교집합"
      ],
      "metadata": {
        "colab": {
          "base_uri": "https://localhost:8080/"
        },
        "id": "_ysqdU_bIZ4T",
        "outputId": "4df218f2-abeb-45f4-d811-7a2126e89e1a"
      },
      "execution_count": 29,
      "outputs": [
        {
          "output_type": "stream",
          "name": "stdout",
          "text": [
            "{1, 2, 3, 4, 5}\n",
            "{3}\n",
            "{1, 2}\n",
            "{1, 2}\n",
            "{1, 2, 3, 4, 5}\n",
            "{3}\n"
          ]
        }
      ]
    },
    {
      "cell_type": "markdown",
      "source": [
        "###3. 튜플(tuple) (  ) 제일 가벼운 타입"
      ],
      "metadata": {
        "id": "4CvBCSU2JGqI"
      }
    },
    {
      "cell_type": "code",
      "source": [
        "t = (1,2,3)\n",
        "print(type(t))"
      ],
      "metadata": {
        "colab": {
          "base_uri": "https://localhost:8080/"
        },
        "id": "g0hm9DDGItOT",
        "outputId": "e60641b3-3bb1-466b-b311-da8c600efb68"
      },
      "execution_count": 30,
      "outputs": [
        {
          "output_type": "stream",
          "name": "stdout",
          "text": [
            "<class 'tuple'>\n"
          ]
        }
      ]
    },
    {
      "cell_type": "code",
      "source": [
        "(a,b) = (1,2)\n",
        "print(a,b)"
      ],
      "metadata": {
        "colab": {
          "base_uri": "https://localhost:8080/"
        },
        "id": "shKci0rIJN-l",
        "outputId": "349a9453-9791-4d20-d07f-b9f8cd3127d4"
      },
      "execution_count": 31,
      "outputs": [
        {
          "output_type": "stream",
          "name": "stdout",
          "text": [
            "1 2\n"
          ]
        }
      ]
    },
    {
      "cell_type": "markdown",
      "source": [
        "1. 튜플의 swap 기능"
      ],
      "metadata": {
        "id": "3tUK89KhJTJk"
      }
    },
    {
      "cell_type": "code",
      "source": [
        "a = 10\n",
        "b = 20\n",
        "(a,b) = (b,a)\n",
        "print(a,b)"
      ],
      "metadata": {
        "colab": {
          "base_uri": "https://localhost:8080/"
        },
        "id": "vRysK1f5JRKl",
        "outputId": "83ce25ba-1864-4c61-d085-05bc9dd44f20"
      },
      "execution_count": 32,
      "outputs": [
        {
          "output_type": "stream",
          "name": "stdout",
          "text": [
            "20 10\n"
          ]
        }
      ]
    },
    {
      "cell_type": "markdown",
      "source": [
        "2. 튜플은 타입의 전환도 무척 간단하다."
      ],
      "metadata": {
        "id": "0m_n_e7fJar8"
      }
    },
    {
      "cell_type": "code",
      "source": [
        "a = set((1,2,3))\n",
        "print(type(a))\n",
        "b = list(a)\n",
        "print(type(b))\n",
        "c = tuple(a)\n",
        "print(type(c))\n",
        "d = set(c)\n",
        "print(type(d))"
      ],
      "metadata": {
        "colab": {
          "base_uri": "https://localhost:8080/"
        },
        "id": "_BujYo2MJY8X",
        "outputId": "aea5d7cd-8be6-4ebc-d788-d7de9fbde126"
      },
      "execution_count": 33,
      "outputs": [
        {
          "output_type": "stream",
          "name": "stdout",
          "text": [
            "<class 'set'>\n",
            "<class 'list'>\n",
            "<class 'tuple'>\n",
            "<class 'set'>\n"
          ]
        }
      ]
    },
    {
      "cell_type": "markdown",
      "source": [
        "3. in 연산자를 통해서 해당 값이 있는지 확인 가능하다."
      ],
      "metadata": {
        "id": "NUdnx7w2J0tD"
      }
    },
    {
      "cell_type": "code",
      "source": [
        "a = set((1,2,3))\n",
        "print(1 in a)         #in 연산자는 데이터 타입에 상관없이 사용할 수 있다."
      ],
      "metadata": {
        "colab": {
          "base_uri": "https://localhost:8080/"
        },
        "id": "r75ZY6rHJzJ2",
        "outputId": "46bed0ac-7e90-4e7d-fbde-23dc20ae8b13"
      },
      "execution_count": 34,
      "outputs": [
        {
          "output_type": "stream",
          "name": "stdout",
          "text": [
            "True\n"
          ]
        }
      ]
    },
    {
      "cell_type": "markdown",
      "source": [
        "###4. 사전 (Dictionary) \n",
        "key : value >> key를 이용해서 value를 찾아낼 수 있음"
      ],
      "metadata": {
        "id": "RNtQHeFvKJt7"
      }
    },
    {
      "cell_type": "code",
      "source": [
        "d = dict(a=1, b=2, c=3)\n",
        "print(d)\n",
        "print(type(d))"
      ],
      "metadata": {
        "colab": {
          "base_uri": "https://localhost:8080/"
        },
        "id": "Q_bXw1ZVKG1v",
        "outputId": "c0017364-7637-499d-aefc-f741712b88ab"
      },
      "execution_count": 35,
      "outputs": [
        {
          "output_type": "stream",
          "name": "stdout",
          "text": [
            "{'a': 1, 'b': 2, 'c': 3}\n",
            "<class 'dict'>\n"
          ]
        }
      ]
    },
    {
      "cell_type": "code",
      "source": [
        "color = {'apple': 'red', 'banana' : 'yellow'}\n",
        "print(color)"
      ],
      "metadata": {
        "colab": {
          "base_uri": "https://localhost:8080/"
        },
        "id": "OpuPrAaoKaSc",
        "outputId": "483abdbe-4c18-46e3-d5cb-be539a813cbd"
      },
      "execution_count": 36,
      "outputs": [
        {
          "output_type": "stream",
          "name": "stdout",
          "text": [
            "{'apple': 'red', 'banana': 'yellow'}\n"
          ]
        }
      ]
    },
    {
      "cell_type": "markdown",
      "source": [
        "1. dict 타입에는 인덱스 없음 (순서 없음)"
      ],
      "metadata": {
        "id": "cDhLQDXgKpLx"
      }
    },
    {
      "cell_type": "code",
      "source": [
        "print(color['apple'])\n",
        "#print(color[o])            #인덱스 없음\n",
        "#print(color['cherry'])     #없는 것을 물어볼 시 에러 발생"
      ],
      "metadata": {
        "colab": {
          "base_uri": "https://localhost:8080/"
        },
        "id": "uZ2das8gKmlD",
        "outputId": "71967445-616b-49f8-e6a7-43281bea6407"
      },
      "execution_count": 37,
      "outputs": [
        {
          "output_type": "stream",
          "name": "stdout",
          "text": [
            "red\n"
          ]
        }
      ]
    },
    {
      "cell_type": "markdown",
      "source": [
        "2. key가 없는 것일 때 추가됨"
      ],
      "metadata": {
        "id": "c6FUAhujK9Zp"
      }
    },
    {
      "cell_type": "code",
      "source": [
        "color['cherry'] = 'red'\n",
        "print(color)"
      ],
      "metadata": {
        "colab": {
          "base_uri": "https://localhost:8080/"
        },
        "id": "Zurx_Mf5KxJR",
        "outputId": "d69f4432-41f6-45be-9c36-84002f2f1bf7"
      },
      "execution_count": 38,
      "outputs": [
        {
          "output_type": "stream",
          "name": "stdout",
          "text": [
            "{'apple': 'red', 'banana': 'yellow', 'cherry': 'red'}\n"
          ]
        }
      ]
    },
    {
      "cell_type": "markdown",
      "source": [
        "3. key가 이미 있을 시 업데이트 해줌 >> key 중복이 안됨"
      ],
      "metadata": {
        "id": "kMtvNy-aLHd6"
      }
    },
    {
      "cell_type": "code",
      "source": [
        "color['apple'] = 'green'\n",
        "print(color)"
      ],
      "metadata": {
        "colab": {
          "base_uri": "https://localhost:8080/"
        },
        "id": "n3TJcybtLEf0",
        "outputId": "e721b819-1d41-40a9-9168-f38f9df5b344"
      },
      "execution_count": 39,
      "outputs": [
        {
          "output_type": "stream",
          "name": "stdout",
          "text": [
            "{'apple': 'green', 'banana': 'yellow', 'cherry': 'red'}\n"
          ]
        }
      ]
    },
    {
      "cell_type": "code",
      "source": [
        "print(color.keys())\n",
        "print(color.values())\n",
        "print(color.items())"
      ],
      "metadata": {
        "colab": {
          "base_uri": "https://localhost:8080/"
        },
        "id": "Z9OyNczpLOzX",
        "outputId": "7ed0328d-27fb-43e2-e255-3cfa5d0cd5ba"
      },
      "execution_count": 41,
      "outputs": [
        {
          "output_type": "stream",
          "name": "stdout",
          "text": [
            "dict_keys(['apple', 'banana', 'cherry'])\n",
            "dict_values(['green', 'yellow', 'red'])\n",
            "dict_items([('apple', 'green'), ('banana', 'yellow'), ('cherry', 'red')])\n"
          ]
        }
      ]
    },
    {
      "cell_type": "markdown",
      "source": [
        "4. for 문을 사용해서 데이터 가져와보기"
      ],
      "metadata": {
        "id": "MtXv00MGLezr"
      }
    },
    {
      "cell_type": "code",
      "source": [
        "for k in color.keys():\n",
        "  print(k)\n",
        "for v in color.values():\n",
        "  print(v)\n",
        "for i in color.items():\n",
        "  print(i)\n",
        "for (k,v) in color.items():\n",
        "  print(k,v)"
      ],
      "metadata": {
        "colab": {
          "base_uri": "https://localhost:8080/"
        },
        "id": "RjvkD3jKLY_P",
        "outputId": "05497ec5-fb90-44e1-ffdc-1abeaa17c2cf"
      },
      "execution_count": 45,
      "outputs": [
        {
          "output_type": "stream",
          "name": "stdout",
          "text": [
            "apple\n",
            "banana\n",
            "cherry\n",
            "green\n",
            "yellow\n",
            "red\n",
            "('apple', 'green')\n",
            "('banana', 'yellow')\n",
            "('cherry', 'red')\n",
            "apple green\n",
            "banana yellow\n",
            "cherry red\n"
          ]
        }
      ]
    },
    {
      "cell_type": "markdown",
      "source": [
        "5. Dict에서 불필요한 아이템의 삭제"
      ],
      "metadata": {
        "id": "EYk3bbToL4Ic"
      }
    },
    {
      "cell_type": "code",
      "source": [
        "del color['cherry']\n",
        "print(color)"
      ],
      "metadata": {
        "colab": {
          "base_uri": "https://localhost:8080/"
        },
        "id": "yGJJ3sIZLnyo",
        "outputId": "f53b6ee2-c781-4e64-c5e2-f2b74b31b1f7"
      },
      "execution_count": 46,
      "outputs": [
        {
          "output_type": "stream",
          "name": "stdout",
          "text": [
            "{'apple': 'green', 'banana': 'yellow'}\n"
          ]
        }
      ]
    },
    {
      "cell_type": "code",
      "source": [
        "#Dict에서 모든 아이템 삭제\n",
        "color.clear()\n",
        "print(color)"
      ],
      "metadata": {
        "colab": {
          "base_uri": "https://localhost:8080/"
        },
        "id": "DmL8pDeDL_EJ",
        "outputId": "ea023002-542c-4da2-a5db-74baaa526455"
      },
      "execution_count": 47,
      "outputs": [
        {
          "output_type": "stream",
          "name": "stdout",
          "text": [
            "{}\n"
          ]
        }
      ]
    },
    {
      "cell_type": "markdown",
      "source": [
        "###5. 데이터 타입은 서로 혼용해서 사용하는 것이 가능하다."
      ],
      "metadata": {
        "id": "l6cJbI_IMK_Z"
      }
    },
    {
      "cell_type": "code",
      "source": [
        "d = {'age':40.5, 'job': [1,2,3], 'name': {'Kim': 2}, 'Da':1}\n",
        "print(d)"
      ],
      "metadata": {
        "colab": {
          "base_uri": "https://localhost:8080/"
        },
        "id": "j3bwgDSsMEpB",
        "outputId": "a2ff5f0d-91aa-414f-eccc-ee6af7834dc5"
      },
      "execution_count": 48,
      "outputs": [
        {
          "output_type": "stream",
          "name": "stdout",
          "text": [
            "{'age': 40.5, 'job': [1, 2, 3], 'name': {'Kim': 2}, 'Da': 1}\n"
          ]
        }
      ]
    },
    {
      "cell_type": "markdown",
      "source": [
        "###6. bool 타입"
      ],
      "metadata": {
        "id": "lxyy53E1MewP"
      }
    },
    {
      "cell_type": "code",
      "source": [
        "isRight = False\n",
        "print(isRight)"
      ],
      "metadata": {
        "colab": {
          "base_uri": "https://localhost:8080/"
        },
        "id": "Ogi4BbUPMcPJ",
        "outputId": "9889328e-8818-4367-b8b2-80423d177264"
      },
      "execution_count": 49,
      "outputs": [
        {
          "output_type": "stream",
          "name": "stdout",
          "text": [
            "False\n"
          ]
        }
      ]
    },
    {
      "cell_type": "code",
      "source": [
        "print(1<2)\n",
        "print(1==2)\n",
        "print(1!=2)"
      ],
      "metadata": {
        "colab": {
          "base_uri": "https://localhost:8080/"
        },
        "id": "mnssouK1Mn5S",
        "outputId": "4d9ae0ac-a173-4e1c-8610-717ef3a2ad76"
      },
      "execution_count": 51,
      "outputs": [
        {
          "output_type": "stream",
          "name": "stdout",
          "text": [
            "True\n",
            "False\n",
            "True\n"
          ]
        }
      ]
    },
    {
      "cell_type": "markdown",
      "source": [
        "###7. 논리 연산자"
      ],
      "metadata": {
        "id": "DgpeY7P3MvEw"
      }
    },
    {
      "cell_type": "code",
      "source": [
        "print(True and False)\n",
        "print(True & True)\n",
        "print(True or False)\n",
        "print(False | False)\n",
        "print(not True)"
      ],
      "metadata": {
        "colab": {
          "base_uri": "https://localhost:8080/"
        },
        "id": "14tbAlGcMrqs",
        "outputId": "6cd0def6-b732-4f77-a3cd-7cbb8c339b74"
      },
      "execution_count": 52,
      "outputs": [
        {
          "output_type": "stream",
          "name": "stdout",
          "text": [
            "False\n",
            "True\n",
            "True\n",
            "False\n",
            "False\n"
          ]
        }
      ]
    },
    {
      "cell_type": "markdown",
      "source": [
        "###8. 얕은 복사와 깊은 복사"
      ],
      "metadata": {
        "id": "UgI5VUa-NA5C"
      }
    },
    {
      "cell_type": "markdown",
      "source": [
        "1. call by reference"
      ],
      "metadata": {
        "id": "5PHXVS0VNqMI"
      }
    },
    {
      "cell_type": "code",
      "source": [
        "a = [1,2,3]\n",
        "b = a             #a의 내용이 b에 복사 (a의 주소가 카피됨) >> call by reference(주소, 참조만 카피했다.)\n",
        "print(b)"
      ],
      "metadata": {
        "colab": {
          "base_uri": "https://localhost:8080/"
        },
        "id": "RXTFeGMLM_OP",
        "outputId": "d3430be5-1d91-4a1b-aa0b-e17f0211c99f"
      },
      "execution_count": 53,
      "outputs": [
        {
          "output_type": "stream",
          "name": "stdout",
          "text": [
            "[1, 2, 3]\n"
          ]
        }
      ]
    },
    {
      "cell_type": "code",
      "source": [
        "a[0] = 38\n",
        "print(a)\n",
        "print(b)          #a 변경 내용이 b에도 반영됨"
      ],
      "metadata": {
        "colab": {
          "base_uri": "https://localhost:8080/"
        },
        "id": "xbX29OM4NISd",
        "outputId": "fc2c4431-acde-4c59-baf9-5c3a6e638e58"
      },
      "execution_count": 54,
      "outputs": [
        {
          "output_type": "stream",
          "name": "stdout",
          "text": [
            "[38, 2, 3]\n",
            "[38, 2, 3]\n"
          ]
        }
      ]
    },
    {
      "cell_type": "markdown",
      "source": [
        "2. call by value"
      ],
      "metadata": {
        "id": "nGs77iCLNsti"
      }
    },
    {
      "cell_type": "code",
      "source": [
        "#call by value (참조만이 아닌 값을 복사)\n",
        "a = [1,2,3]\n",
        "b = a[:]\n",
        "a[0] = 38\n",
        "print(a,b)"
      ],
      "metadata": {
        "colab": {
          "base_uri": "https://localhost:8080/"
        },
        "id": "Nl3p3nmmNVP7",
        "outputId": "1363bd93-3efc-405b-cfa0-9dec2152612c"
      },
      "execution_count": 55,
      "outputs": [
        {
          "output_type": "stream",
          "name": "stdout",
          "text": [
            "[38, 2, 3] [1, 2, 3]\n"
          ]
        }
      ]
    },
    {
      "cell_type": "markdown",
      "source": [
        "3. copy module을 사용하는 법"
      ],
      "metadata": {
        "id": "tac1G9c3Nu7v"
      }
    },
    {
      "cell_type": "code",
      "source": [
        "import copy\n",
        "\n",
        "a = [1,2,3]\n",
        "b = copy.deepcopy(a)\n",
        "a[0] = 38\n",
        "print(a,b)"
      ],
      "metadata": {
        "colab": {
          "base_uri": "https://localhost:8080/"
        },
        "id": "ocxEGEn0NnKd",
        "outputId": "8863d371-5d30-4a65-8f2f-6ceaeb2a28e7"
      },
      "execution_count": 56,
      "outputs": [
        {
          "output_type": "stream",
          "name": "stdout",
          "text": [
            "[38, 2, 3] [1, 2, 3]\n"
          ]
        }
      ]
    }
  ]
}